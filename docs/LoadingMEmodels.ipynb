{
 "cells": [
  {
   "cell_type": "markdown",
   "id": "fb270ec2-29da-4100-9485-39da5cce1663",
   "metadata": {},
   "source": [
    "# Loading and inspecting ME-models\n",
    "\n",
    "In this tutorial we will load and inspect the reconstructed _Bacillus subtilis_ ME-model."
   ]
  },
  {
   "cell_type": "markdown",
   "id": "d37fa4bb-3c8f-4a62-923c-6c1747ebb652",
   "metadata": {},
   "source": [
    "## Import libraries"
   ]
  },
  {
   "cell_type": "code",
   "execution_count": 1,
   "id": "d048f35f-6a3b-4642-86cd-49e4c4e4a187",
   "metadata": {
    "ExecuteTime": {
     "end_time": "2022-12-12T06:27:35.182100Z",
     "start_time": "2022-12-12T06:27:35.157355Z"
    }
   },
   "outputs": [],
   "source": [
    "from coralme.builder.main import MEBuilder\n",
    "import coralme"
   ]
  },
  {
   "cell_type": "markdown",
   "id": "051e8ee6-15ba-4017-8fc0-5f54da314cd8",
   "metadata": {},
   "source": [
    "## Load as a JSON"
   ]
  },
  {
   "cell_type": "markdown",
   "id": "77a83a0a-a0b6-4b74-b0b8-9331a34162d7",
   "metadata": {},
   "source": [
    "Load the ME-model coming out of the Troubleshooter"
   ]
  },
  {
   "cell_type": "code",
   "execution_count": 2,
   "id": "b0d86d92-b978-402c-b16a-439986ea2904",
   "metadata": {
    "ExecuteTime": {
     "end_time": "2022-12-12T06:30:28.060280Z",
     "start_time": "2022-12-12T06:30:01.706785Z"
    }
   },
   "outputs": [
    {
     "name": "stderr",
     "output_type": "stream",
     "text": [
      "Adding Metabolites into the ME-model...                                    : 100.0%|██████████|  4630/ 4630 [00:00<00:00]\n",
      "Adding ProcessData into the ME-model...                                    : 100.0%|██████████|  4752/ 4752 [00:00<00:00]\n",
      "Adding Reactions into the ME-model...                                      : 100.0%|██████████|  7758/ 7758 [00:14<00:00]\n",
      "Updating ME-model Reactions...                                             : 100.0%|██████████|  6369/ 6369 [00:21<00:00]\n"
     ]
    }
   ],
   "source": [
    "me = coralme.io.json.load_json_me_model(\"./bsubtilis/MEModel-step3-bsubtilis-TS.json\")"
   ]
  },
  {
   "cell_type": "markdown",
   "id": "dd9c7e29-7a95-4cd7-a3f4-46a189be9e2a",
   "metadata": {},
   "source": [
    "## Load as a pickle"
   ]
  },
  {
   "cell_type": "code",
   "execution_count": null,
   "id": "08fda213-38ab-4a84-9d72-6e3008848f5b",
   "metadata": {
    "ExecuteTime": {
     "end_time": "2022-12-12T06:30:28.060280Z",
     "start_time": "2022-12-12T06:30:01.706785Z"
    }
   },
   "outputs": [],
   "source": [
    "# me = coralme.io.pickle.load_pickle_me_model(\"./bsubtilis/MEModel-step3-bsubtilis-TS.pkl\")"
   ]
  },
  {
   "cell_type": "markdown",
   "id": "b8874ac5-e7a4-473b-80e5-5b3bca962fe5",
   "metadata": {},
   "source": [
    "## Inspecting ME-model properties"
   ]
  },
  {
   "cell_type": "markdown",
   "id": "caca0f28-cbf2-437e-b2ef-9af6bee233ff",
   "metadata": {},
   "source": [
    "### Summary of the ME-model"
   ]
  },
  {
   "cell_type": "code",
   "execution_count": 3,
   "id": "a6c4835c-97d5-4583-8ccd-cec067baa26e",
   "metadata": {},
   "outputs": [
    {
     "data": {
      "text/html": [
       "\n",
       "\t\t<table>\n",
       "\t\t\t<tr>\n",
       "\t\t\t\t<td><strong>Name</strong></td>\n",
       "\t\t\t\t<td>coralME</td>\n",
       "\t\t\t</tr><tr>\n",
       "\t\t\t\t<td><strong>Memory address</strong></td>\n",
       "\t\t\t\t<td>7f1c5c495b10</td>\n",
       "\t\t\t</tr><tr>\n",
       "\t\t\t\t<td><strong>Number of metabolites</strong></td>\n",
       "\t\t\t\t<td>4630</td>\n",
       "\t\t\t</tr><tr>\n",
       "\t\t\t\t<td><strong>Number of reactions</strong></td>\n",
       "\t\t\t\t<td>7758</td>\n",
       "\t\t\t</tr><tr>\n",
       "\t\t\t\t<td><strong>Number of genes</strong></td>\n",
       "\t\t\t\t<td>1154</td>\n",
       "\t\t\t</tr><tr>\n",
       "\t\t\t\t<td><strong>Number of mRNA genes</strong></td>\n",
       "\t\t\t\t<td>1038</td>\n",
       "\t\t\t</tr><tr>\n",
       "\t\t\t\t<td><strong>Number of rRNA genes</strong></td>\n",
       "\t\t\t\t<td>30</td>\n",
       "\t\t\t</tr><tr>\n",
       "\t\t\t\t<td><strong>Number of tRNA genes</strong></td>\n",
       "\t\t\t\t<td>86</td>\n",
       "\t\t\t</tr><tr>\n",
       "\t\t\t\t<td><strong>Objective expression</strong></td>\n",
       "\t\t\t\t<td>dummy_reaction_FWD_SPONT</td>\n",
       "\t\t\t</tr><tr>\n",
       "\t\t\t\t<td><strong>Compartments</strong></td>\n",
       "\t\t\t\t<td>mc, c, e</td>\n",
       "\t\t\t</tr>\n",
       "\t\t\t</table>"
      ],
      "text/plain": [
       "<MEModel coralME at 0x7f1c5c495b10>"
      ]
     },
     "execution_count": 3,
     "metadata": {},
     "output_type": "execute_result"
    }
   ],
   "source": [
    "me"
   ]
  },
  {
   "cell_type": "code",
   "execution_count": 4,
   "id": "bf36850f-1484-4f61-a501-8d3356fa3f31",
   "metadata": {},
   "outputs": [
    {
     "name": "stdout",
     "output_type": "stream",
     "text": [
      "ME-model has 7758 reactions\n"
     ]
    }
   ],
   "source": [
    "print(\"ME-model has {} reactions\".format(len(me.reactions)))"
   ]
  },
  {
   "cell_type": "code",
   "execution_count": 5,
   "id": "78545e33-afe5-4b86-87b1-6236cbb8d4f0",
   "metadata": {},
   "outputs": [
    {
     "name": "stdout",
     "output_type": "stream",
     "text": [
      "ME-model has 4630 metabolites\n"
     ]
    }
   ],
   "source": [
    "print(\"ME-model has {} metabolites\".format(len(me.metabolites)))"
   ]
  },
  {
   "cell_type": "code",
   "execution_count": 6,
   "id": "b49bbb17-4e2a-4b62-bad7-51a4322557e6",
   "metadata": {},
   "outputs": [
    {
     "name": "stdout",
     "output_type": "stream",
     "text": [
      "ME-model has 1154 genes\n"
     ]
    }
   ],
   "source": [
    "print(\"ME-model has {} genes\".format(len(me.all_genes)))"
   ]
  },
  {
   "cell_type": "markdown",
   "id": "3d86778d-1cee-400e-89d4-9c3503a44288",
   "metadata": {},
   "source": [
    "### Reactions"
   ]
  },
  {
   "cell_type": "markdown",
   "id": "6ec98d84-41ca-4c08-bd6f-3b9815c01795",
   "metadata": {},
   "source": [
    "#### Metabolic reaction"
   ]
  },
  {
   "cell_type": "code",
   "execution_count": 7,
   "id": "4aa94f07-6bef-4df1-884e-ea9463e164e7",
   "metadata": {},
   "outputs": [
    {
     "data": {
      "text/html": [
       "\n",
       "\t\t<table>\n",
       "\t\t\t<tr><td><strong>Reaction identifier</strong></td><td>23CN2P1_REV_BSU07840-MONOMER</td></tr>\n",
       "\t\t\t<tr><td><strong>Name</strong></td><td></td></tr>\n",
       "\t\t\t<tr><td><strong>Memory address</strong></td><td>0x7f1b98d6c9d0</td></tr>\n",
       "\t\t\t<tr><td><strong>Stoichiometry</strong>\n",
       "\t\t\t</td><td>\n",
       "\t\t\t\t<p style='text-align:right'>1.0 3amp_c + [4.47434028634533e-6*mu1] BSU07840-MONOMER + 1.0 h_c --> 1.0 23camp_c + 1.0 h2o_c</p>\n",
       "\t\t\t\t<p style='text-align:right'>1.0 3 AMP C10H12N5O7P + [4.47434028634533e-6*mu1] BSU07840-MONOMER + 1.0 H+ --> 1.0 2',3'-Cyclic AMP + 1.0 H2O H2O</p>\n",
       "\t\t\t</td></tr>\n",
       "\t\t\t<tr><td><strong>GPR</strong></td><td></td></tr>\n",
       "\t\t\t<tr><td><strong>Lower bound</strong></td><td>0</td></tr>\n",
       "\t\t\t<tr><td><strong>Upper bound</strong></td><td>999999.0</td></tr>\n",
       "\t\t\t<tr><td><strong>Reaction type</strong></td><td>coralme.core.reaction.MetabolicReaction</td></tr>\n",
       "\t\t\t<tr><td><strong>Flux</strong></td><td>ME-model not optimized/feasible</td></tr>\n",
       "\t\t\t<tr><td><strong>Reduced cost</strong></td><td>ME-model not optimized/feasible</td></tr>\n",
       "\t\t\t<tr><td><strong>Bound violation</strong></td><td>ME-model not optimized/feasible</td></tr>\n",
       "\t\t</table>\n",
       "\t\t"
      ],
      "text/plain": [
       "<MetabolicReaction 23CN2P1_REV_BSU07840-MONOMER at 0x7f1b98d6c9d0>"
      ]
     },
     "execution_count": 7,
     "metadata": {},
     "output_type": "execute_result"
    }
   ],
   "source": [
    "r = next(i for i in me.reactions if isinstance(i,coralme.core.reaction.MetabolicReaction))\n",
    "r"
   ]
  },
  {
   "cell_type": "markdown",
   "id": "4317c596-0f55-438c-b0da-6a98b6fff590",
   "metadata": {},
   "source": [
    "#### Translation reaction"
   ]
  },
  {
   "cell_type": "code",
   "execution_count": 8,
   "id": "795539fb-e1b3-489b-8ea2-3e5efd200435",
   "metadata": {},
   "outputs": [
    {
     "data": {
      "text/html": [
       "\n",
       "\t\t<table>\n",
       "\t\t\t<tr><td><strong>Reaction identifier</strong></td><td>translation_BSU00090</td></tr>\n",
       "\t\t\t<tr><td><strong>Name</strong></td><td></td></tr>\n",
       "\t\t\t<tr><td><strong>Memory address</strong></td><td>0x7f1b9abcb310</td></tr>\n",
       "\t\t\t<tr><td><strong>Stoichiometry</strong>\n",
       "\t\t\t</td><td>\n",
       "\t\t\t\t<p style='text-align:right'>1.0 10fthf_c + [0.00208119658119658*mu1] BSU01120-MONOMER + [4.27350427350427e-6*mu1] BSU01390-MONOMER + [4.27350427350427e-6*mu1] BSU15720-MONOMER + [4.27350427350427e-6*mu1] BSU15730-MONOMER + [0.00208119658119658*mu1] BSU16500-MONOMER + [4.27350427350427e-6*mu1] BSU16520-MONOMER + [8.54700854700855e-6*mu1] BSU16630-MONOMER + [4.27350427350427e-6*mu1] BSU25460-MONOMER + [4.27350427350427e-6*mu1] BSU25470-MONOMER + [4.27350427350427e-6*mu1] BSU25480-MONOMER + [4.27350427350427e-6*mu1] BSU28870-MONOMER + [0.000498399634202103*mu1 + 0.000195123456790123 + 0.0269135802469136*(0.222222222222222*mu1 + 0.087)/mu1] RNA_BSU00090 + [2.55589556001079e-8*mu1 + 1.00063311174422e-8] RNA_degradosome + 36.0 ala__L_c + 23.0 arg__L_c + 14.0 asn__L_c + 27.0 asp__L_c + [488.0 + 9.86382716049383*(0.222222222222222*mu1 + 0.087)/mu1] atp_c + 3.0 cys__L_c + [8.54700854700855e-6*mu1] generic_RF + [0.00208119658119658*mu1] generic_Tuf + 29.0 generic_tRNA_AAA_lys__L_c + 8.0 generic_tRNA_AAC_asn__L_c + 8.0...</p>\n",
       "\t\t\t\t<p style='text-align:right'>1.0 10-Formyltetrahydrofolate + [0.00208119658119658*mu1] BSU01120-MONOMER + [4.27350427350427e-6*mu1] BSU01390-MONOMER + [4.27350427350427e-6*mu1] BSU15720-MONOMER + [4.27350427350427e-6*mu1] BSU15730-MONOMER + [0.00208119658119658*mu1] BSU16500-MONOMER + [4.27350427350427e-6*mu1] BSU16520-MONOMER + [8.54700854700855e-6*mu1] BSU16630-MONOMER + [4.27350427350427e-6*mu1] BSU25460-MONOMER + [4.27350427350427e-6*mu1] BSU25470-MONOMER + [4.27350427350427e-6*mu1] BSU25480-MONOMER + [4.27350427350427e-6*mu1] BSU28870-MONOMER + [0.000498399634202103*mu1 + 0.000195123456790123 + 0.0269135802469136*(0.222222222222222*mu1 + 0.087)/mu1] RNA_BSU00090 + [2.55589556001079e-8*mu1 + 1.00063311174422e-8] RNA_degradosome + 36.0 L-Alanine + 23.0 L-Arginine + 14.0 L-Asparagine + 27.0 L-Aspartate + [488.0 + 9.86382716049383*(0.222222222222222*mu1 + 0.087)/mu1] ATP C10H12N5O13P3 + 3.0 L-Cysteine + [8.54700854700855e-6*mu1] generic_RF + [0.00208119658119658*mu1] generic_Tuf + 29.0...</p>\n",
       "\t\t\t</td></tr>\n",
       "\t\t\t<tr><td><strong>GPR</strong></td><td></td></tr>\n",
       "\t\t\t<tr><td><strong>Lower bound</strong></td><td>0.0</td></tr>\n",
       "\t\t\t<tr><td><strong>Upper bound</strong></td><td>1000.0</td></tr>\n",
       "\t\t\t<tr><td><strong>Reaction type</strong></td><td>coralme.core.reaction.TranslationReaction</td></tr>\n",
       "\t\t\t<tr><td><strong>Flux</strong></td><td>ME-model not optimized/feasible</td></tr>\n",
       "\t\t\t<tr><td><strong>Reduced cost</strong></td><td>ME-model not optimized/feasible</td></tr>\n",
       "\t\t\t<tr><td><strong>Bound violation</strong></td><td>ME-model not optimized/feasible</td></tr>\n",
       "\t\t</table>\n",
       "\t\t"
      ],
      "text/plain": [
       "<TranslationReaction translation_BSU00090 at 0x7f1b9abcb310>"
      ]
     },
     "execution_count": 8,
     "metadata": {},
     "output_type": "execute_result"
    }
   ],
   "source": [
    "r = next(i for i in me.reactions if isinstance(i,coralme.core.reaction.TranslationReaction))\n",
    "r"
   ]
  },
  {
   "cell_type": "markdown",
   "id": "41b5c71b-c4b4-4bf8-a411-d35c7edf14ed",
   "metadata": {},
   "source": [
    "#### Transcription reaction"
   ]
  },
  {
   "cell_type": "code",
   "execution_count": 9,
   "id": "18f8b2c0-1880-4b74-8330-73d82834888b",
   "metadata": {},
   "outputs": [
    {
     "data": {
      "text/html": [
       "\n",
       "\t\t<table>\n",
       "\t\t\t<tr><td><strong>Reaction identifier</strong></td><td>transcription_TU8J2-1243_from_BSU25200-MONOMER</td></tr>\n",
       "\t\t\t<tr><td><strong>Name</strong></td><td></td></tr>\n",
       "\t\t\t<tr><td><strong>Memory address</strong></td><td>0x7f1b9aea4700</td></tr>\n",
       "\t\t\t<tr><td><strong>Stoichiometry</strong>\n",
       "\t\t\t</td><td>\n",
       "\t\t\t\t<p style='text-align:right'>[4.27350427350427e-6*mu1] BSU00550-MONOMER_mod_mg2(1) + [4.27350427350427e-6*mu1] BSU01010-MONOMER + [4.27350427350427e-6*mu1] BSU16600-MONOMER + [4.27350427350427e-6*mu1] BSU27320-MONOMER + [4.27350427350427e-6*mu1] BSU37080-MONOMER_mod_mg2(3) + [0.00273829471591343*mu1 + 0.00107204238128011] RNAP_BSU25200MONOMER + 189.0 atp_c + 122 ctp_c + 111 gtp_c + 3.0 h2o_c + 154 utp_c --> 1.0 RNA_BSU23050 + 3.0 adp_c + 3.0 h_c + 183.35422381299998 mRNA_biomass + 3.0 pi_c + 573 ppi_c</p>\n",
       "\t\t\t\t<p style='text-align:right'>[4.27350427350427e-6*mu1] BSU00550-MONOMER_mod_mg2(1) + [4.27350427350427e-6*mu1] BSU01010-MONOMER + [4.27350427350427e-6*mu1] BSU16600-MONOMER + [4.27350427350427e-6*mu1] BSU27320-MONOMER + [4.27350427350427e-6*mu1] BSU37080-MONOMER_mod_mg2(3) + [0.00273829471591343*mu1 + 0.00107204238128011] RNAP_BSU25200MONOMER + 189.0 ATP C10H12N5O13P3 + 122 CTP C9H12N3O14P3 + 111 GTP C10H12N5O14P3 + 3.0 H2O H2O + 154 UTP C9H11N2O15P3 --> 1.0 RNA_BSU23050 + 3.0 ADP C10H12N5O10P2 + 3.0 H+ + 183.35422381299998 mRNA_biomass + 3.0 Phosphate + 573 Diphosphate</p>\n",
       "\t\t\t</td></tr>\n",
       "\t\t\t<tr><td><strong>GPR</strong></td><td></td></tr>\n",
       "\t\t\t<tr><td><strong>Lower bound</strong></td><td>0.0</td></tr>\n",
       "\t\t\t<tr><td><strong>Upper bound</strong></td><td>1000.0</td></tr>\n",
       "\t\t\t<tr><td><strong>Reaction type</strong></td><td>coralme.core.reaction.TranscriptionReaction</td></tr>\n",
       "\t\t\t<tr><td><strong>Flux</strong></td><td>ME-model not optimized/feasible</td></tr>\n",
       "\t\t\t<tr><td><strong>Reduced cost</strong></td><td>ME-model not optimized/feasible</td></tr>\n",
       "\t\t\t<tr><td><strong>Bound violation</strong></td><td>ME-model not optimized/feasible</td></tr>\n",
       "\t\t</table>\n",
       "\t\t"
      ],
      "text/plain": [
       "<TranscriptionReaction transcription_TU8J2-1243_from_BSU25200-MONOMER at 0x7f1b9aea4700>"
      ]
     },
     "execution_count": 9,
     "metadata": {},
     "output_type": "execute_result"
    }
   ],
   "source": [
    "r = next(i for i in me.reactions if isinstance(i,coralme.core.reaction.TranscriptionReaction))\n",
    "r"
   ]
  },
  {
   "cell_type": "markdown",
   "id": "20aa4477-0812-4847-a821-298f192e4422",
   "metadata": {},
   "source": [
    "#### Formation reaction"
   ]
  },
  {
   "cell_type": "code",
   "execution_count": 10,
   "id": "f6ff8a2f-db4f-42de-9aa7-81ccec048f32",
   "metadata": {},
   "outputs": [
    {
     "data": {
      "text/html": [
       "\n",
       "\t\t<table>\n",
       "\t\t\t<tr><td><strong>Reaction identifier</strong></td><td>formation_BSU00090-MONOMER</td></tr>\n",
       "\t\t\t<tr><td><strong>Name</strong></td><td></td></tr>\n",
       "\t\t\t<tr><td><strong>Memory address</strong></td><td>0x7f1b98def070</td></tr>\n",
       "\t\t\t<tr><td><strong>Stoichiometry</strong>\n",
       "\t\t\t</td><td>\n",
       "\t\t\t\t<p style='text-align:right'>4.0 protein_BSU00090 --> 1.0 BSU00090-MONOMER</p>\n",
       "\t\t\t\t<p style='text-align:right'>4.0 protein_BSU00090 --> 1.0 BSU00090-MONOMER</p>\n",
       "\t\t\t</td></tr>\n",
       "\t\t\t<tr><td><strong>GPR</strong></td><td></td></tr>\n",
       "\t\t\t<tr><td><strong>Lower bound</strong></td><td>0.0</td></tr>\n",
       "\t\t\t<tr><td><strong>Upper bound</strong></td><td>1000.0</td></tr>\n",
       "\t\t\t<tr><td><strong>Reaction type</strong></td><td>coralme.core.reaction.ComplexFormation</td></tr>\n",
       "\t\t\t<tr><td><strong>Flux</strong></td><td>ME-model not optimized/feasible</td></tr>\n",
       "\t\t\t<tr><td><strong>Reduced cost</strong></td><td>ME-model not optimized/feasible</td></tr>\n",
       "\t\t\t<tr><td><strong>Bound violation</strong></td><td>ME-model not optimized/feasible</td></tr>\n",
       "\t\t</table>\n",
       "\t\t"
      ],
      "text/plain": [
       "<ComplexFormation formation_BSU00090-MONOMER at 0x7f1b98def070>"
      ]
     },
     "execution_count": 10,
     "metadata": {},
     "output_type": "execute_result"
    }
   ],
   "source": [
    "r = next(i for i in me.reactions if isinstance(i,coralme.core.reaction.ComplexFormation))\n",
    "r"
   ]
  },
  {
   "cell_type": "markdown",
   "id": "76375a81-5b21-4cb5-8ce7-b0f71f4d1633",
   "metadata": {},
   "source": [
    "#### tRNA Charging reaction"
   ]
  },
  {
   "cell_type": "code",
   "execution_count": 11,
   "id": "51ed8187-c1e9-4f74-a0f6-b8b1c18c712e",
   "metadata": {},
   "outputs": [
    {
     "data": {
      "text/html": [
       "\n",
       "\t\t<table>\n",
       "\t\t\t<tr><td><strong>Reaction identifier</strong></td><td>charging_tRNA_BSU_tRNA_5_AUU</td></tr>\n",
       "\t\t\t<tr><td><strong>Name</strong></td><td></td></tr>\n",
       "\t\t\t<tr><td><strong>Memory address</strong></td><td>0x7f1b9918bbe0</td></tr>\n",
       "\t\t\t<tr><td><strong>Stoichiometry</strong>\n",
       "\t\t\t</td><td>\n",
       "\t\t\t\t<p style='text-align:right'>[4.27350427350427e-6*mu1*(0.000116266666666667*mu1 + 1.0000455184)] BSU15430-MONOMER_mod_zn2(2) + [0.000116266666666667*mu1 + 4.55184e-5] RNA_BSU_tRNA_5 + [0.000116266666666667*mu1 + 4.55184e-5] ile__L_c --> 1.0 generic_tRNA_AUU_ile__L_c</p>\n",
       "\t\t\t\t<p style='text-align:right'>[4.27350427350427e-6*mu1*(0.000116266666666667*mu1 + 1.0000455184)] BSU15430-MONOMER_mod_zn2(2) + [0.000116266666666667*mu1 + 4.55184e-5] RNA_BSU_tRNA_5 + [0.000116266666666667*mu1 + 4.55184e-5] L-Isoleucine --> 1.0 generic_tRNA_AUU_ile__L_c</p>\n",
       "\t\t\t</td></tr>\n",
       "\t\t\t<tr><td><strong>GPR</strong></td><td></td></tr>\n",
       "\t\t\t<tr><td><strong>Lower bound</strong></td><td>0.0</td></tr>\n",
       "\t\t\t<tr><td><strong>Upper bound</strong></td><td>1000.0</td></tr>\n",
       "\t\t\t<tr><td><strong>Reaction type</strong></td><td>coralme.core.reaction.tRNAChargingReaction</td></tr>\n",
       "\t\t\t<tr><td><strong>Flux</strong></td><td>ME-model not optimized/feasible</td></tr>\n",
       "\t\t\t<tr><td><strong>Reduced cost</strong></td><td>ME-model not optimized/feasible</td></tr>\n",
       "\t\t\t<tr><td><strong>Bound violation</strong></td><td>ME-model not optimized/feasible</td></tr>\n",
       "\t\t</table>\n",
       "\t\t"
      ],
      "text/plain": [
       "<tRNAChargingReaction charging_tRNA_BSU_tRNA_5_AUU at 0x7f1b9918bbe0>"
      ]
     },
     "execution_count": 11,
     "metadata": {},
     "output_type": "execute_result"
    }
   ],
   "source": [
    "r = next(i for i in me.reactions if isinstance(i,coralme.core.reaction.tRNAChargingReaction))\n",
    "r"
   ]
  },
  {
   "cell_type": "markdown",
   "id": "e679e38e-a30e-4ba7-b52e-055b98f5bf1a",
   "metadata": {},
   "source": [
    "#### Post-translational modification reaction"
   ]
  },
  {
   "cell_type": "code",
   "execution_count": 12,
   "id": "6e50059c-3399-41cd-b262-42107adeea12",
   "metadata": {},
   "outputs": [
    {
     "data": {
      "text/html": [
       "\n",
       "\t\t<table>\n",
       "\t\t\t<tr><td><strong>Reaction identifier</strong></td><td>translocation_BSU07840_Cell_Wall</td></tr>\n",
       "\t\t\t<tr><td><strong>Name</strong></td><td></td></tr>\n",
       "\t\t\t<tr><td><strong>Memory address</strong></td><td>0x7f1b98956650</td></tr>\n",
       "\t\t\t<tr><td><strong>Stoichiometry</strong>\n",
       "\t\t\t</td><td>\n",
       "\t\t\t\t<p style='text-align:right'>[0.101527777777778*mu1] BSU27650-MONOMER + [0.101527777777778*mu1] BSU35300-MONOMER + 58.480000000000004 atp_c + 58.480000000000004 h2o_c + 1.0 protein_BSU07840 + [0.101527777777778*mu1] secYEG --> 58.480000000000004 adp_c + 58.480000000000004 h_c + 58.480000000000004 pi_c + 1.0 protein_BSU07840_Cell_Wall</p>\n",
       "\t\t\t\t<p style='text-align:right'>[0.101527777777778*mu1] BSU27650-MONOMER + [0.101527777777778*mu1] BSU35300-MONOMER + 58.480000000000004 ATP C10H12N5O13P3 + 58.480000000000004 H2O H2O + 1.0 protein_BSU07840 + [0.101527777777778*mu1] secYEG --> 58.480000000000004 ADP C10H12N5O10P2 + 58.480000000000004 H+ + 58.480000000000004 Phosphate + 1.0 protein_BSU07840_Cell_Wall</p>\n",
       "\t\t\t</td></tr>\n",
       "\t\t\t<tr><td><strong>GPR</strong></td><td></td></tr>\n",
       "\t\t\t<tr><td><strong>Lower bound</strong></td><td>0.0</td></tr>\n",
       "\t\t\t<tr><td><strong>Upper bound</strong></td><td>1000.0</td></tr>\n",
       "\t\t\t<tr><td><strong>Reaction type</strong></td><td>coralme.core.reaction.PostTranslationReaction</td></tr>\n",
       "\t\t\t<tr><td><strong>Flux</strong></td><td>ME-model not optimized/feasible</td></tr>\n",
       "\t\t\t<tr><td><strong>Reduced cost</strong></td><td>ME-model not optimized/feasible</td></tr>\n",
       "\t\t\t<tr><td><strong>Bound violation</strong></td><td>ME-model not optimized/feasible</td></tr>\n",
       "\t\t</table>\n",
       "\t\t"
      ],
      "text/plain": [
       "<PostTranslationReaction translocation_BSU07840_Cell_Wall at 0x7f1b98956650>"
      ]
     },
     "execution_count": 12,
     "metadata": {},
     "output_type": "execute_result"
    }
   ],
   "source": [
    "r = next(i for i in me.reactions if isinstance(i,coralme.core.reaction.PostTranslationReaction))\n",
    "r"
   ]
  },
  {
   "cell_type": "markdown",
   "id": "81bff06d-8661-4cac-96a6-abe5c21a606e",
   "metadata": {},
   "source": [
    "### Mapped gene functions"
   ]
  },
  {
   "cell_type": "code",
   "execution_count": 13,
   "id": "4d80e172-b737-42bd-b513-0e7ec54e791f",
   "metadata": {
    "tags": []
   },
   "outputs": [
    {
     "data": {
      "text/html": [
       "<div>\n",
       "<style scoped>\n",
       "    .dataframe tbody tr th:only-of-type {\n",
       "        vertical-align: middle;\n",
       "    }\n",
       "\n",
       "    .dataframe tbody tr th {\n",
       "        vertical-align: top;\n",
       "    }\n",
       "\n",
       "    .dataframe thead th {\n",
       "        text-align: right;\n",
       "    }\n",
       "</style>\n",
       "<table border=\"1\" class=\"dataframe\">\n",
       "  <thead>\n",
       "    <tr style=\"text-align: right;\">\n",
       "      <th></th>\n",
       "      <th>count</th>\n",
       "    </tr>\n",
       "  </thead>\n",
       "  <tbody>\n",
       "    <tr>\n",
       "      <th>Translation</th>\n",
       "      <td>209</td>\n",
       "    </tr>\n",
       "    <tr>\n",
       "      <th>tRNA-Charging</th>\n",
       "      <td>135</td>\n",
       "    </tr>\n",
       "    <tr>\n",
       "      <th>Metabolic:S_Nucleotides_and_nucleic_acids</th>\n",
       "      <td>67</td>\n",
       "    </tr>\n",
       "    <tr>\n",
       "      <th>Metabolic:S_Coenzymes_and_prosthetic_groups</th>\n",
       "      <td>76</td>\n",
       "    </tr>\n",
       "    <tr>\n",
       "      <th>Metabolic:S_Amino_acids_and_related_molecules</th>\n",
       "      <td>155</td>\n",
       "    </tr>\n",
       "    <tr>\n",
       "      <th>Metabolic:S_Other_function</th>\n",
       "      <td>16</td>\n",
       "    </tr>\n",
       "    <tr>\n",
       "      <th>Transcription</th>\n",
       "      <td>46</td>\n",
       "    </tr>\n",
       "    <tr>\n",
       "      <th>Metabolic:S_Carbohydrates_and_related_molecules</th>\n",
       "      <td>148</td>\n",
       "    </tr>\n",
       "    <tr>\n",
       "      <th>Metabolic:S_Cell_wall</th>\n",
       "      <td>40</td>\n",
       "    </tr>\n",
       "    <tr>\n",
       "      <th>Metabolic:S_Lipids</th>\n",
       "      <td>55</td>\n",
       "    </tr>\n",
       "    <tr>\n",
       "      <th>Post-translation</th>\n",
       "      <td>13</td>\n",
       "    </tr>\n",
       "    <tr>\n",
       "      <th>Metabolic:S_Transport</th>\n",
       "      <td>235</td>\n",
       "    </tr>\n",
       "    <tr>\n",
       "      <th>Metabolic:Not Determined</th>\n",
       "      <td>14</td>\n",
       "    </tr>\n",
       "    <tr>\n",
       "      <th>Metabolic:S_Membrane_bioenergetics</th>\n",
       "      <td>47</td>\n",
       "    </tr>\n",
       "    <tr>\n",
       "      <th>Metabolic: No subsystem</th>\n",
       "      <td>8</td>\n",
       "    </tr>\n",
       "    <tr>\n",
       "      <th>Metabolic:S_Phosphate_and_sulfur</th>\n",
       "      <td>7</td>\n",
       "    </tr>\n",
       "  </tbody>\n",
       "</table>\n",
       "</div>"
      ],
      "text/plain": [
       "                                                 count\n",
       "Translation                                        209\n",
       "tRNA-Charging                                      135\n",
       "Metabolic:S_Nucleotides_and_nucleic_acids           67\n",
       "Metabolic:S_Coenzymes_and_prosthetic_groups         76\n",
       "Metabolic:S_Amino_acids_and_related_molecules      155\n",
       "Metabolic:S_Other_function                          16\n",
       "Transcription                                       46\n",
       "Metabolic:S_Carbohydrates_and_related_molecules    148\n",
       "Metabolic:S_Cell_wall                               40\n",
       "Metabolic:S_Lipids                                  55\n",
       "Post-translation                                    13\n",
       "Metabolic:S_Transport                              235\n",
       "Metabolic:Not Determined                            14\n",
       "Metabolic:S_Membrane_bioenergetics                  47\n",
       "Metabolic: No subsystem                              8\n",
       "Metabolic:S_Phosphate_and_sulfur                     7"
      ]
     },
     "execution_count": 13,
     "metadata": {},
     "output_type": "execute_result"
    }
   ],
   "source": [
    "from collections import defaultdict\n",
    "import pandas\n",
    "d = defaultdict(int)\n",
    "for g in me.all_genes:\n",
    "    for f in g.functions:\n",
    "        d[f] += 1\n",
    "pandas.DataFrame.from_dict({\"count\":d})"
   ]
  },
  {
   "cell_type": "markdown",
   "id": "65a23350-93b7-4906-8d37-ca9df6bb4789",
   "metadata": {},
   "source": [
    "#### Inspecting functions of a gene"
   ]
  },
  {
   "cell_type": "code",
   "execution_count": 14,
   "id": "a00a0fc0-43fe-4bb9-bf82-cfa4f3fb37c6",
   "metadata": {},
   "outputs": [
    {
     "data": {
      "text/plain": [
       "{'Transcription'}"
      ]
     },
     "execution_count": 14,
     "metadata": {},
     "output_type": "execute_result"
    }
   ],
   "source": [
    "g = me.all_genes.get_by_id(\"RNA_BSU37160\")\n",
    "g.functions"
   ]
  },
  {
   "cell_type": "markdown",
   "id": "d9bb3773-92ef-4246-955e-e115df91fe8a",
   "metadata": {},
   "source": [
    "### Complexes formed by a gene"
   ]
  },
  {
   "cell_type": "code",
   "execution_count": 15,
   "id": "f46a78f0-dec4-4962-8b58-b0366beeca66",
   "metadata": {},
   "outputs": [
    {
     "data": {
      "text/plain": [
       "{<Complex CPLX8J2-30_mod_zn2(1)_mod_mg2(2) at 0x7f1b9b1d9db0>,\n",
       " <RNAP RNAP_BSU00980MONOMER at 0x7f1b9b1da530>,\n",
       " <RNAP RNAP_BSU01730MONOMER at 0x7f1b9b1da5c0>,\n",
       " <RNAP RNAP_BSU04730MONOMER at 0x7f1b9b1da5f0>,\n",
       " <RNAP RNAP_BSU09520MONOMER at 0x7f1b9b1da4a0>,\n",
       " <RNAP RNAP_BSU13450MONOMER at 0x7f1b9b1da410>,\n",
       " <RNAP RNAP_BSU14730MONOMER at 0x7f1b9b1da4d0>,\n",
       " <RNAP RNAP_BSU15320MONOMER at 0x7f1b9b1da680>,\n",
       " <RNAP RNAP_BSU15330MONOMER at 0x7f1b9b1da560>,\n",
       " <RNAP RNAP_BSU16470MONOMER at 0x7f1b9b1da650>,\n",
       " <RNAP RNAP_BSU23100MONOMER at 0x7f1b9b1da500>,\n",
       " <RNAP RNAP_BSU23450MONOMER at 0x7f1b9b1da440>,\n",
       " <RNAP RNAP_BSU25200MONOMER at 0x7f1b9b1da620>,\n",
       " <RNAP RNAP_BSU27120MONOMER at 0x7f1b9b1da470>,\n",
       " <RNAP RNAP_BSU34200MONOMER at 0x7f1b9b1da3e0>,\n",
       " <RNAP RNAP_CPLX8J236 at 0x7f1b9b1da6b0>,\n",
       " <RNAP RNAP_MONOMER8J26 at 0x7f1b9b1da590>}"
      ]
     },
     "execution_count": 15,
     "metadata": {},
     "output_type": "execute_result"
    }
   ],
   "source": [
    "g = me.all_genes.get_by_id(\"RNA_BSU37160\")\n",
    "g.complexes"
   ]
  },
  {
   "cell_type": "markdown",
   "id": "7571bdfa-d692-4566-bff0-1b5a9a0da869",
   "metadata": {},
   "source": [
    "### Sinks to be curated through manual curation"
   ]
  },
  {
   "cell_type": "markdown",
   "id": "da4c045f-1299-4024-ba99-56c3ffeed7d8",
   "metadata": {},
   "source": [
    "The Troubleshooter finds gaps that need to be curated to allow for growth. Most of these are cofactors that will require some synthesis pathways (e.g. 4fe4s), but others will only need some transporters (e.g. metal ions). This was run with curated files, so the following is empty."
   ]
  },
  {
   "cell_type": "code",
   "execution_count": 16,
   "id": "7ddb17fc-d49b-4547-bfa8-042ad83f7840",
   "metadata": {},
   "outputs": [
    {
     "data": {
      "text/plain": [
       "[]"
      ]
     },
     "execution_count": 16,
     "metadata": {},
     "output_type": "execute_result"
    }
   ],
   "source": [
    "me.reactions.query(\"^TS_\")"
   ]
  }
 ],
 "metadata": {
  "kernelspec": {
   "display_name": "coralme-1.1.7",
   "language": "python",
   "name": "coralme-1.1.7"
  },
  "language_info": {
   "codemirror_mode": {
    "name": "ipython",
    "version": 3
   },
   "file_extension": ".py",
   "mimetype": "text/x-python",
   "name": "python",
   "nbconvert_exporter": "python",
   "pygments_lexer": "ipython3",
   "version": "3.10.12"
  },
  "toc-autonumbering": true,
  "toc-showcode": true
 },
 "nbformat": 4,
 "nbformat_minor": 5
}
