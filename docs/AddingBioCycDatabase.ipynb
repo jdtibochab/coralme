{
 "cells": [
  {
   "cell_type": "markdown",
   "id": "dbfb1aa7-3761-404c-adc6-880fdb4c6305",
   "metadata": {},
   "source": [
    "# Adding annotation from a BioCyc Database"
   ]
  },
  {
   "cell_type": "markdown",
   "id": "38aea7b5-c984-4087-9bc0-c6a9158f637d",
   "metadata": {},
   "source": [
    "For details on inputs go to [Description of Inputs](./BasicInputs.ipynb).\n",
    "\n",
    "For information about coralME architecture go to [Architecture of coralME](./coralMEArchitecture.ipynb).\n"
   ]
  },
  {
   "cell_type": "markdown",
   "id": "b83faf4c-e7ef-4b4c-b4b9-2c980931a7f4",
   "metadata": {},
   "source": [
    "## Download files from BioCyc"
   ]
  },
  {
   "cell_type": "markdown",
   "id": "276384ec-657b-4aa7-aba0-cfda4a2b4655",
   "metadata": {},
   "source": [
    "BioCyc files are optional but useful, you should download them after having your gene id consistent M-model and genbank files.\n",
    "\n",
    "The quickest way to do this is to copy one of the genes from the genbank file into the BioCyc search bar. Your organism should appear in the list if it is available in BioCyc.\n",
    "\n",
    "To download:"
   ]
  },
  {
   "cell_type": "markdown",
   "id": "04801082-579a-46bf-b2af-f359251ae781",
   "metadata": {},
   "source": [
    "### Go to <code>Tools</code>><code>Special SmartTables</code>"
   ]
  },
  {
   "cell_type": "markdown",
   "id": "db3cb707-3aba-4c47-9c66-e8bc117734ec",
   "metadata": {},
   "source": [
    "<img src=\"./pngs/1.png\" alt=\"Drawing\" style=\"width: 800px;\"/>"
   ]
  },
  {
   "cell_type": "markdown",
   "id": "34b9d71c-2c99-4269-9003-472f38c1210c",
   "metadata": {},
   "source": [
    "From here you can download the 5 optional BioCyc files for your organism."
   ]
  },
  {
   "cell_type": "markdown",
   "id": "14c8b16f-338b-4e99-8c3d-ed8b4e5c2222",
   "metadata": {},
   "source": [
    "<img src=\"./pngs/2.png\" alt=\"Drawing\" style=\"width: 800px;\"/>"
   ]
  },
  {
   "cell_type": "markdown",
   "id": "0d5d7dac-b2de-4f78-8c19-60ec45cc8819",
   "metadata": {},
   "source": [
    "### Download <code>genes.txt</code> and <code>sequences.fasta</code>"
   ]
  },
  {
   "cell_type": "markdown",
   "id": "dad6ba87-4675-4904-a3c7-cb8cd085e5f0",
   "metadata": {},
   "source": [
    "<img src=\"./pngs/3.png\" alt=\"Drawing\" style=\"width: 600px;\"/>"
   ]
  },
  {
   "cell_type": "markdown",
   "id": "0b4693cf-98e3-483a-9047-6a835b1d6e6e",
   "metadata": {},
   "source": [
    "### Download <code>proteins.txt</code>, <code>RNAs.txt</code> and <code>TUs.txt</code>"
   ]
  },
  {
   "cell_type": "markdown",
   "id": "3287c091-fd31-4bbe-ae49-18c5f85ee14a",
   "metadata": {},
   "source": [
    "The same process of <code>genes.txt</code> applies to <code>proteins.txt</code>, <code>RNAs.txt</code> and <code>TUs.txt</code>.\n",
    "\n",
    "Some columns must be added manually using BioCyc's dropdown lists __ADD PROPERTY COLUMN__ and __ADD TRANSFORM COLUMN__ within the SmartTable editing webpage."
   ]
  },
  {
   "cell_type": "markdown",
   "id": "cc0cf2f4-bd4b-46e3-823e-c395e66d6baf",
   "metadata": {},
   "source": [
    "<img src=\"./pngs/4.png\" alt=\"Drawing\" style=\"width: 500px;\"/>"
   ]
  },
  {
   "cell_type": "markdown",
   "id": "41a66e56-90cf-4bfe-ab94-d4847307224f",
   "metadata": {},
   "source": [
    "#### Download <code>proteins.txt</code>\n",
    "\n",
    "The index <b>(Proteins Complexes)</b> is in the SmartTable by default, but you need to add the columns <b>Common-Name</b>, <b>Genes of polypeptide, complex, or RNA</b>, and <b>Locations</b>.\n",
    "\n",
    "* <b>Common-Name</b> is available in the dropdown list __ADD PROPERTY COLUMN__\n",
    "\n",
    "* <b>Genes of polypeptide, complex, or RNA</b> is available in the dropdown list __ADD TRANSFORM COLUMN__\n",
    "\n",
    "* <b>Locations</b> is available in the dropdown list __ADD PROPERTY COLUMN__."
   ]
  },
  {
   "cell_type": "markdown",
   "id": "58e51941-57d9-4aca-ba3e-9f0f0a042a77",
   "metadata": {},
   "source": [
    "#### Download <code>RNAs.txt</code>\n",
    "\n",
    "The index <b>(All-tRNAs Misc-RNAs rRNAs)</b> is in the SmartTable by default, but you need to add the columns <b>Common-Name</b>, and <b>Gene</b>.\n",
    "\n",
    "* <b>Common-Name</b> is available in the dropdown list __ADD PROPERTY COLUMN__\n",
    "\n",
    "* <b>Gene</b> is available in the dropdown list __ADD PROPERTY COLUMN__."
   ]
  },
  {
   "cell_type": "markdown",
   "id": "5be5a1f8-947b-4f13-8858-b0d5e8e02869",
   "metadata": {},
   "source": [
    "#### Download <code>TUs.txt</code>\n",
    "\n",
    "The index <b>Transcription-Units</b> is in the SmartTable by default, but you need to add the columns <b>Genes of transcription unit</b>, and <b>Direction</b>.\n",
    "\n",
    "* <b>Genes of transcription unit</b> is available in the dropdown list __ADD TRANSFORM COLUMN__\n",
    "\n",
    "* <b>Direction</b> is available in the dropdown list __ADD PROPERTY COLUMN__."
   ]
  },
  {
   "cell_type": "markdown",
   "id": "d22596c4-719a-4845-a138-a73e2a9a363a",
   "metadata": {},
   "source": [
    "## Initialize the folder for your organism\n",
    "Copy your files to create your initial folder"
   ]
  },
  {
   "cell_type": "markdown",
   "id": "82deeea7-d34e-4f41-a887-5c120609c96b",
   "metadata": {},
   "source": [
    "<img src=\"./pngs/folder.png\" alt=\"Drawing\" style=\"width: 600px;\"/>"
   ]
  },
  {
   "cell_type": "markdown",
   "id": "09abdb74-fb13-424a-b70e-a84b6e5f9834",
   "metadata": {},
   "source": [
    "### Define inputs in __input.json__.\n",
    "\n",
    "<b>See an example of [input.json](./helper_files/tutorial/input.json)</b>"
   ]
  },
  {
   "cell_type": "markdown",
   "id": "3d577d1c-09e0-46bb-846e-0f4b13131c42",
   "metadata": {},
   "source": [
    "### Define parameters in __organism.json__.\n",
    "\n",
    "<b>See an example of [organism.json](./helper_files/tutorial/organism.json)</b>"
   ]
  },
  {
   "cell_type": "markdown",
   "id": "a70a4fa7-3e9a-4a48-9c90-df1770808875",
   "metadata": {},
   "source": [
    "<div class=\"alert alert-info\">\n",
    "**Note**: You do not need to modify these parameters right away. But once you are at the curation stage you will have to ensure these parameters are applicable to your organism.\n",
    "</div>"
   ]
  }
 ],
 "metadata": {
  "kernelspec": {
   "display_name": "coralme-1.1.5",
   "language": "python",
   "name": "coralme-1.1.5"
  },
  "language_info": {
   "codemirror_mode": {
    "name": "ipython",
    "version": 3
   },
   "file_extension": ".py",
   "mimetype": "text/x-python",
   "name": "python",
   "nbconvert_exporter": "python",
   "pygments_lexer": "ipython3",
   "version": "3.10.12"
  }
 },
 "nbformat": 4,
 "nbformat_minor": 5
}
