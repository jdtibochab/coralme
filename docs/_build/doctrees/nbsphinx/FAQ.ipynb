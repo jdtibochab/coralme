{
 "cells": [
  {
   "cell_type": "markdown",
   "id": "dbfb1aa7-3761-404c-adc6-880fdb4c6305",
   "metadata": {},
   "source": [
    "# Frequently Asked Questions"
   ]
  },
  {
   "cell_type": "markdown",
   "id": "3b0e09a0-11c6-4bd6-ab5b-9462c254d9f6",
   "metadata": {},
   "source": [
    "## My gene identifiers are not consistent, what should I do?"
   ]
  },
  {
   "cell_type": "markdown",
   "id": "f3256172-c619-47dd-9fe7-19376d2733cc",
   "metadata": {},
   "source": [
    "We know that consistent gene ID conventions are a problem across all platforms of bioinformatics. We tried to generalize as much as possible what the gene conventions could be, but often different genome assemblies or M-model reconstructions yield inconsistent files.\n",
    "\n",
    "What you should do depends on your problem, so we will classify the gene ID convention issues considering there are three main sources of information that must be consistent:\n",
    "\n",
    "* **M-model** _gene identifiers_\n",
    "\n",
    "* **Genome** _locus_tag_\n",
    "\n",
    "* **Optional file** column _Accession-1_\n",
    "\n",
    "Overall, you can assume that modifying the genome genbank file is the hardest approach and thus, the last resort."
   ]
  },
  {
   "cell_type": "markdown",
   "id": "d694cb3d-6a5b-42f8-aec2-f896c8bb9b6c",
   "metadata": {},
   "source": [
    "### 1. M-model and Genbank are consistent, but they are not consistent with the BioCyc files.\n",
    "Make sure that you looked for the correct BioCyc database, which corresponds to the M-model reconstruction. One quick way to ensure that is to copy one gene from your genbank or M-model and paste it in the search bar of BioCyc. Best case scenario, you microbe will appear in the list. Download the files from there and your problems are solved!\n",
    "\n",
    "**That didn't help?**\n",
    "\n",
    "It is possible that even when ensuring the BioCyc database is correct, the __Accession-1__ column of genes.txt is still not consistent. However, you can assume that the correct IDs are somewhere in the database, since you found it looking for a gene id that follows your conventions (see [Getting Started](./GettingStarted.ipynb)). \n",
    "\n",
    "Try:\n",
    "\n",
    "* Adding new columns in the gene __SmartTable__, __Accession-2__ or __Synonyms__ could contain your IDs.\n",
    "\n",
    "* Maybe your IDs and BioCyc's only differ by an underscore, e.g. \"PP0001\" and \"PP_0001\". Use a text editor to change the IDs accordingly in __Accession-1__ of </code>genes.txt</code>. Make sure not to make a mistake by editing gene IDs!"
   ]
  },
  {
   "cell_type": "markdown",
   "id": "a1c7d7cf-df1d-4978-9846-c279be2404ef",
   "metadata": {},
   "source": [
    "### 2. M-model and Genbank are not consistent\n",
    "Make sure that you downloaded the same genbank file that was used to reconstruct the M-model, that is critical! If this is happening, you probably have the wrong genbank.\n",
    "\n",
    "If you have a gene dictionary to convert between conventions, change the files to the IDs that are consistent with BioCyc."
   ]
  }
 ],
 "metadata": {
  "kernelspec": {
   "display_name": "coralme-1.1.5",
   "language": "python",
   "name": "coralme-1.1.5"
  },
  "language_info": {
   "codemirror_mode": {
    "name": "ipython",
    "version": 3
   },
   "file_extension": ".py",
   "mimetype": "text/x-python",
   "name": "python",
   "nbconvert_exporter": "python",
   "pygments_lexer": "ipython3",
   "version": "3.10.12"
  }
 },
 "nbformat": 4,
 "nbformat_minor": 5
}
