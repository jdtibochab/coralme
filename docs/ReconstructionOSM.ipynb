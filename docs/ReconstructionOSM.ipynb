{
 "cells": [
  {
   "cell_type": "markdown",
   "id": "fb270ec2-29da-4100-9485-39da5cce1663",
   "metadata": {},
   "source": [
    "# Reconstructing a ME-model from the OSM\n",
    "\n",
    "The organism-specific matrix is a XLSX structure that contains all the mappings necessary to build a ME-model (see [Architecture of coralME](docs/coralMEArchitecture.ipynb)).\n",
    "\n",
    "In this tutorial we will reconstruct a _Bacillus subtilis_ ME-model from the OSM. This is useful once you have already run <code>builder.generate_files()</code> which performs the _Synchronize_ and _Complement_ steps (see [Architecture of coralME](coralMEArchitecture.ipynb)).\n",
    "\n",
    "This way is quicker but make sure not to overwrite your OSM re-running the reconstruction as in Tutorial 1, because all you manual curation will be lost."
   ]
  },
  {
   "cell_type": "markdown",
   "id": "dfdb20cc-d339-4311-a011-2a9d4c0fc1be",
   "metadata": {},
   "source": [
    "## Import libraries"
   ]
  },
  {
   "cell_type": "code",
   "execution_count": 1,
   "id": "d048f35f-6a3b-4642-86cd-49e4c4e4a187",
   "metadata": {
    "ExecuteTime": {
     "end_time": "2022-12-12T06:27:35.182100Z",
     "start_time": "2022-12-12T06:27:35.157355Z"
    }
   },
   "outputs": [
    {
     "data": {
      "text/html": [
       "<style>.container { width:95% !important; }</style>"
      ],
      "text/plain": [
       "<IPython.core.display.HTML object>"
      ]
     },
     "metadata": {},
     "output_type": "display_data"
    }
   ],
   "source": [
    "from IPython.display import display, HTML, Math, Markdown\n",
    "display(HTML(\"<style>.container { width:95% !important; }</style>\"))\n",
    "\n",
    "from coralme.builder.main import MEBuilder"
   ]
  },
  {
   "cell_type": "markdown",
   "id": "8512306e-8639-4607-91ed-3a4f62af52b6",
   "metadata": {},
   "source": [
    "## Path to configuration files"
   ]
  },
  {
   "cell_type": "code",
   "execution_count": 2,
   "id": "d62ee683-429e-481b-87ea-8758c47886bb",
   "metadata": {},
   "outputs": [],
   "source": [
    "organism = './bsubtilis/organism.json'\n",
    "inputs = './bsubtilis/input.json'"
   ]
  },
  {
   "cell_type": "markdown",
   "id": "ee88533a-eb05-4d5b-84ce-6f816470f363",
   "metadata": {},
   "source": [
    "## Create MEBuilder instance\n",
    "\n",
    "This time you create it from the yaml configuration file which is already generated and filled. This file condenses the configuration in one place, see an example [here](./bsubtilis/coralme-config.yaml)."
   ]
  },
  {
   "cell_type": "code",
   "execution_count": 3,
   "id": "e1c65f0c-3528-4357-954f-e4fb8b870901",
   "metadata": {
    "ExecuteTime": {
     "end_time": "2022-12-12T06:30:28.060280Z",
     "start_time": "2022-12-12T06:30:01.706785Z"
    }
   },
   "outputs": [],
   "source": [
    "builder = MEBuilder(*['./bsubtilis/coralme-config.yaml'])"
   ]
  },
  {
   "cell_type": "markdown",
   "id": "f7dea64e-bca5-471b-8fa3-dda16736e8d7",
   "metadata": {},
   "source": [
    "## Build ME-model\n",
    "\n",
    "This corresponds to _Build_ in [Architecture of coralME](coralMEArchitecture.ipynb)"
   ]
  },
  {
   "cell_type": "code",
   "execution_count": 4,
   "id": "203989b7-bbd5-4261-8eb5-9cf0436ce366",
   "metadata": {
    "ExecuteTime": {
     "end_time": "2022-12-12T06:28:36.607889Z",
     "start_time": "2022-12-12T06:27:59.542579Z"
    },
    "tags": []
   },
   "outputs": [
    {
     "name": "stdout",
     "output_type": "stream",
     "text": [
      "Initiating ME-model reconstruction...\n"
     ]
    },
    {
     "name": "stderr",
     "output_type": "stream",
     "text": [
      "Adding biomass constraint(s) into the ME-model...                          : 100.0%|██████████|    11/   11 [00:00<00:00]\n",
      "Adding Metabolites from M-model into the ME-model...                       : 100.0%|██████████|  1087/ 1087 [00:00<00:00]\n",
      "Adding Reactions from M-model into the ME-model...                         : 100.0%|██████████|  1277/ 1277 [00:00<00:00]\n",
      "Adding Transcriptional Units into the ME-model from user input...          : 100.0%|██████████|  1515/ 1515 [00:09<00:00]\n",
      "Adding features from contig NC_000964.3 into the ME-model...               : 100.0%|██████████|  4537/ 4537 [00:07<00:00]\n",
      "Adding features from contig BSU_misc_RNA_38 into the ME-model...           : 100.0%|██████████|     2/    2 [00:00<00:00]\n",
      "Adding features from contig G8J2-183 into the ME-model...                  : 100.0%|██████████|     2/    2 [00:00<00:00]\n",
      "Adding features from contig G8J2-180 into the ME-model...                  : 100.0%|██████████|     2/    2 [00:00<00:00]\n",
      "Adding features from contig G8J2-181 into the ME-model...                  : 100.0%|██████████|     2/    2 [00:00<00:00]\n",
      "Adding features from contig G8J2-182 into the ME-model...                  : 100.0%|██████████|     2/    2 [00:00<00:00]\n",
      "Updating all TranslationReaction and TranscriptionReaction...              : 100.0%|██████████|  8389/ 8389 [00:22<00:00]\n",
      "Removing SubReactions from ComplexData...                                  : 100.0%|██████████|  5007/ 5007 [00:00<00:00]\n",
      "Adding ComplexFormation into the ME-model...                               : 100.0%|██████████|  5007/ 5007 [00:00<00:00]\n",
      "Adding Generic(s) into the ME-model...                                     : 100.0%|██████████|    10/   10 [00:00<00:00]\n",
      "Processing StoichiometricData in ME-model...                               : 100.0%|██████████|  1045/ 1045 [00:00<00:00]\n"
     ]
    },
    {
     "name": "stdout",
     "output_type": "stream",
     "text": [
      "ME-model was saved in the ./bsubtilis/ directory as MEModel-step1-bsubtilis.pkl\n"
     ]
    },
    {
     "name": "stderr",
     "output_type": "stream",
     "text": [
      "Adding tRNA synthetase(s) information into the ME-model...                 : 100.0%|██████████|   306/  306 [00:00<00:00]\n",
      "Adding tRNA modification SubReactions...                                   : 100.0%|██████████|    19/   19 [00:00<00:00]\n",
      "Associating tRNA modification enzyme(s) to tRNA(s)...                      : 100.0%|██████████|    33/   33 [00:00<00:00]\n",
      "Adding SubReactions into TranslationReactions...                           : 100.0%|██████████|  4328/ 4328 [00:01<00:00]\n",
      "Adding RNA Polymerase(s) into the ME-model...                              : 100.0%|██████████|    39/   39 [00:00<00:00]\n",
      "Associating a RNA Polymerase to each Transcriptional Unit...               : 100.0%|██████████|  1515/ 1515 [00:00<00:00]\n",
      "Processing ComplexData in ME-model...                                      : 100.0%|██████████|   322/  322 [00:00<00:00]\n",
      "Adding ComplexFormation into the ME-model...                               : 100.0%|██████████|  5054/ 5054 [00:00<00:00]\n",
      "Adding SubReactions into TranslationReactions...                           : 100.0%|██████████|  4328/ 4328 [00:08<00:00]\n",
      "Adding Transcription SubReactions...                                       : 100.0%|██████████|  3513/ 3513 [00:00<00:00]\n",
      "Processing StoichiometricData in SubReactionData...                        : 100.0%|██████████|  1650/ 1650 [00:00<00:00]\n",
      "Adding reaction subsystems from M-model into the ME-model...               : 100.0%|██████████|  1277/ 1277 [00:00<00:00]\n",
      "Processing StoichiometricData in ME-model...                               : 100.0%|██████████|  1045/ 1045 [00:00<00:00]\n",
      "Updating ME-model Reactions...                                             : 100.0%|██████████| 17480/17480 [01:27<00:00]\n",
      "Updating all FormationReactions...                                         : 100.0%|██████████|  5054/ 5054 [00:00<00:00]\n",
      "Recalculation of the elemental contribution in SubReactions...             : 100.0%|██████████|   277/  277 [00:00<00:00]\n",
      "Updating all FormationReactions...                                         : 100.0%|██████████|  5054/ 5054 [00:00<00:00]\n",
      "Updating FormationReactions involving a lipoyl prosthetic group...         : 100.0%|██████████|     3/    3 [00:00<00:00]\n",
      "Updating FormationReactions involving a glycyl radical...                  : 0.0%|          |     0/    0 [00:00<?]\n",
      "Estimating effective turnover rates for reactions using the SASA method... : 100.0%|██████████|  2882/ 2882 [00:00<00:00]\n",
      "Mapping effective turnover rates from user input...                        : 0.0%|          |     0/    0 [00:00<?]\n",
      "Setting the effective turnover rates using user input...                   : 100.0%|██████████|  2632/ 2632 [00:00<00:00]\n",
      "Pruning unnecessary ComplexData reactions...                               : 100.0%|██████████|  5054/ 5054 [00:06<00:00]\n",
      "Pruning unnecessary FoldedProtein reactions...                             : 0.0%|          |     0/    0 [00:00<?]\n",
      "Pruning unnecessary ProcessedProtein reactions...                          : 100.0%|██████████|  5647/ 5647 [00:00<00:00]\n",
      "Pruning unnecessary TranslatedGene reactions...                            : 100.0%|██████████|  4640/ 4640 [00:08<00:00]\n",
      "Pruning unnecessary TranscribedGene reactions...                           : 100.0%|██████████|  4540/ 4540 [00:05<00:00]\n",
      "Pruning unnecessary Transcriptional Units...                               : 100.0%|██████████|  3513/ 3513 [00:03<00:00]\n",
      "Pruning unnecessary ComplexData reactions...                               : 100.0%|██████████|   988/  988 [00:00<00:00]\n",
      "Pruning unnecessary FoldedProtein reactions...                             : 0.0%|          |     0/    0 [00:00<?]\n",
      "Pruning unnecessary ProcessedProtein reactions...                          : 100.0%|██████████|  1354/ 1354 [00:00<00:00]\n",
      "Pruning unnecessary TranslatedGene reactions...                            : 100.0%|██████████|  1354/ 1354 [00:00<00:00]\n",
      "Pruning unnecessary TranscribedGene reactions...                           : 100.0%|██████████|  1159/ 1159 [00:02<00:00]\n",
      "Pruning unnecessary Transcriptional Units...                               : 100.0%|██████████|   792/  792 [00:00<00:00]\n",
      "Pruning unnecessary ComplexData reactions...                               : 100.0%|██████████|   965/  965 [00:00<00:00]\n",
      "Pruning unnecessary FoldedProtein reactions...                             : 0.0%|          |     0/    0 [00:00<?]\n",
      "Pruning unnecessary ProcessedProtein reactions...                          : 100.0%|██████████|  1352/ 1352 [00:00<00:00]\n",
      "Pruning unnecessary TranslatedGene reactions...                            : 100.0%|██████████|  1352/ 1352 [00:00<00:00]\n",
      "Pruning unnecessary TranscribedGene reactions...                           : 100.0%|██████████|  1157/ 1157 [00:02<00:00]\n",
      "Pruning unnecessary Transcriptional Units...                               : 100.0%|██████████|   790/  790 [00:00<00:00]\n",
      "Pruning unnecessary ComplexData reactions...                               : 100.0%|██████████|   964/  964 [00:00<00:00]\n",
      "Pruning unnecessary FoldedProtein reactions...                             : 0.0%|          |     0/    0 [00:00<?]\n",
      "Pruning unnecessary ProcessedProtein reactions...                          : 100.0%|██████████|  1351/ 1351 [00:00<00:00]\n",
      "Pruning unnecessary TranslatedGene reactions...                            : 100.0%|██████████|  1351/ 1351 [00:00<00:00]\n",
      "Pruning unnecessary TranscribedGene reactions...                           : 100.0%|██████████|  1156/ 1156 [00:02<00:00]\n",
      "Pruning unnecessary Transcriptional Units...                               : 100.0%|██████████|   789/  789 [00:00<00:00]\n"
     ]
    },
    {
     "name": "stdout",
     "output_type": "stream",
     "text": [
      "ME-model was saved in the ./bsubtilis/ directory as MEModel-step2-bsubtilis.pkl\n",
      "ME-model reconstruction is done.\n",
      "Number of metabolites in the ME-model is 4630 (+364.39%, from 997)\n",
      "Number of reactions in the ME-model is 7758 (+514.74%, from 1262)\n",
      "Number of genes in the ME-model is 1154 (+36.73%, from 844)\n",
      "Number of missing genes from reconstruction cannot be determined.\n"
     ]
    }
   ],
   "source": [
    "builder.build_me_model(overwrite=False)"
   ]
  },
  {
   "cell_type": "markdown",
   "id": "d9773386-565c-406b-b10c-cd6f9d79fc25",
   "metadata": {},
   "source": [
    "## Troubleshoot ME-model\n",
    "\n",
    "This corresponds to _Find gaps_ in [Architecture of coralME](coralMEArchitecture.ipynb)"
   ]
  },
  {
   "cell_type": "code",
   "execution_count": 7,
   "id": "dab0eb6d-2a7e-4d55-8542-32a960aa02b1",
   "metadata": {},
   "outputs": [
    {
     "name": "stdout",
     "output_type": "stream",
     "text": [
      "Metabolite types valid values are ME-Deadends, Cofactors, All-Deadends, Metabolite, GenerictRNA, Complex, TranscribedGene, TranslatedGene, ProcessedProtein, GenericComponent. The predefined order of metabolites will be tested.\n",
      "\n",
      "The MINOS and quad MINOS solvers are a courtesy of Prof Michael A. Saunders. Please cite Ma, D., Yang, L., Fleming, R. et al. Reliable and efficient solution of genome-scale models of Metabolism and macromolecular Expression. Sci Rep 7, 40863 (2017). https://doi.org/10.1038/srep40863\n",
      "\n",
      "~ Troubleshooting started...\n",
      "  Checking if the ME-model can simulate growth without gapfilling reactions...\n",
      "  Original ME-model is feasible with a tested growth rate of 0.001000 1/h\n",
      "~ Final step. Fully optimizing with precision 1e-6 and save solution into the ME-model...\n",
      "  Gapfilled ME-model is feasible with growth rate 0.101279 (M-model: 0.117966).\n",
      "Model was not saved. Please do it manually.\n"
     ]
    }
   ],
   "source": [
    "builder.troubleshoot(growth_key_and_value = { builder.me_model.mu : 0.001 }, solver=\"qminos\")"
   ]
  },
  {
   "cell_type": "code",
   "execution_count": 9,
   "id": "6fb0dc8e-2102-4812-b7f1-68d5d6692c17",
   "metadata": {},
   "outputs": [
    {
     "name": "stderr",
     "output_type": "stream",
     "text": [
      "2024-11-26 14:02:41,259 The metabolite 'pg160_p' must exist in the ME-model to calculate the element contribution.\n",
      "2024-11-26 14:02:41,260 The metabolite '2agpg160_p' must exist in the ME-model to calculate the element contribution.\n",
      "2024-11-26 14:02:41,260 The metabolite 'pe160_p' must exist in the ME-model to calculate the element contribution.\n",
      "2024-11-26 14:02:41,260 The metabolite '2agpe160_p' must exist in the ME-model to calculate the element contribution.\n",
      "2024-11-26 14:02:41,870 Metabolite '4fe4s_c' does not have a formula. If it is a 'Complex', its formula will be determined from amino acid composition and prosthetic groups stoichiometry. Otherwise, please add it to the M-model.\n",
      "2024-11-26 14:02:41,871 Metabolite '4fe4s_c' does not have a formula. If it is a 'Complex', its formula will be determined from amino acid composition and prosthetic groups stoichiometry. Otherwise, please add it to the M-model.\n",
      "2024-11-26 14:02:41,871 Metabolite '2fe2s_c' does not have a formula. If it is a 'Complex', its formula will be determined from amino acid composition and prosthetic groups stoichiometry. Otherwise, please add it to the M-model.\n",
      "2024-11-26 14:02:41,871 Metabolite '2fe2s_c' does not have a formula. If it is a 'Complex', its formula will be determined from amino acid composition and prosthetic groups stoichiometry. Otherwise, please add it to the M-model.\n",
      "2024-11-26 14:02:41,871 Metabolite 'hemed_c' does not have a formula. If it is a 'Complex', its formula will be determined from amino acid composition and prosthetic groups stoichiometry. Otherwise, please add it to the M-model.\n",
      "2024-11-26 14:02:41,871 Metabolite 'hemed_c' does not have a formula. If it is a 'Complex', its formula will be determined from amino acid composition and prosthetic groups stoichiometry. Otherwise, please add it to the M-model.\n",
      "2024-11-26 14:02:41,872 Metabolite 'fmnh2_c' does not have a formula. If it is a 'Complex', its formula will be determined from amino acid composition and prosthetic groups stoichiometry. Otherwise, please add it to the M-model.\n",
      "2024-11-26 14:02:41,872 Metabolite 'fmnh2_c' does not have a formula. If it is a 'Complex', its formula will be determined from amino acid composition and prosthetic groups stoichiometry. Otherwise, please add it to the M-model.\n",
      "2024-11-26 14:02:41,872 Metabolite 'tl_c' does not have a formula. If it is a 'Complex', its formula will be determined from amino acid composition and prosthetic groups stoichiometry. Otherwise, please add it to the M-model.\n",
      "2024-11-26 14:02:41,872 Metabolite 'tl_c' does not have a formula. If it is a 'Complex', its formula will be determined from amino acid composition and prosthetic groups stoichiometry. Otherwise, please add it to the M-model.\n",
      "2024-11-26 14:02:41,872 Metabolite 'cs_c' does not have a formula. If it is a 'Complex', its formula will be determined from amino acid composition and prosthetic groups stoichiometry. Otherwise, please add it to the M-model.\n",
      "2024-11-26 14:02:41,873 Metabolite 'cs_c' does not have a formula. If it is a 'Complex', its formula will be determined from amino acid composition and prosthetic groups stoichiometry. Otherwise, please add it to the M-model.\n",
      "2024-11-26 14:02:41,873 The metabolite 'adocbl_c' must exist in the ME-model to calculate the element contribution.\n",
      "2024-11-26 14:02:41,873 The metabolite 'adocbl_c' must exist in the ME-model to calculate the element contribution.\n",
      "2024-11-26 14:02:41,873 The metabolite 'coo_c' must exist in the ME-model to calculate the element contribution.\n",
      "2024-11-26 14:02:41,873 The metabolite 'coo_c' must exist in the ME-model to calculate the element contribution.\n",
      "2024-11-26 14:02:41,874 The metabolite 'cosh_c' must exist in the ME-model to calculate the element contribution.\n",
      "2024-11-26 14:02:41,874 The metabolite 'cosh_c' must exist in the ME-model to calculate the element contribution.\n",
      "2024-11-26 14:02:41,874 The metabolite 'lipo_c' must exist in the ME-model to calculate the element contribution.\n",
      "2024-11-26 14:02:41,874 The metabolite 'lipo_c' must exist in the ME-model to calculate the element contribution.\n",
      "2024-11-26 14:02:41,875 Metabolite 'lipoyl_c' does not have a formula. If it is a 'Complex', its formula will be determined from amino acid composition and prosthetic groups stoichiometry. Otherwise, please add it to the M-model.\n",
      "2024-11-26 14:02:41,875 Metabolite 'lipoyl_c' does not have a formula. If it is a 'Complex', its formula will be determined from amino acid composition and prosthetic groups stoichiometry. Otherwise, please add it to the M-model.\n",
      "2024-11-26 14:02:41,875 The metabolite 'li_c' must exist in the ME-model to calculate the element contribution.\n",
      "2024-11-26 14:02:41,875 The metabolite 'li_c' must exist in the ME-model to calculate the element contribution.\n",
      "2024-11-26 14:02:41,875 The metabolite 'cl_c' must exist in the ME-model to calculate the element contribution.\n",
      "2024-11-26 14:02:41,875 The metabolite 'cl_c' must exist in the ME-model to calculate the element contribution.\n",
      "2024-11-26 14:02:41,875 The metabolite 'bmocogdp_c' must exist in the ME-model to calculate the element contribution.\n",
      "2024-11-26 14:02:41,876 The metabolite 'bmocogdp_c' must exist in the ME-model to calculate the element contribution.\n"
     ]
    }
   ],
   "source": [
    "import coralme\n",
    "coralme.io.json.save_json_me_model(builder.me_model,\"kokus-apartment./bsubtilis/MEModel-step3-bsubtilis-TS.json\")"
   ]
  },
  {
   "cell_type": "code",
   "execution_count": 10,
   "id": "149542df-2ee2-4d1c-964a-9f5ed9c0cd6d",
   "metadata": {},
   "outputs": [
    {
     "name": "stderr",
     "output_type": "stream",
     "text": [
      "Adding Metabolites into the ME-model...                                    : 100.0%|██████████|  4630/ 4630 [00:00<00:00]\n",
      "Adding ProcessData into the ME-model...                                    : 31.8%|███▏      |  1510/ 4752 [00:00<00:00]\n"
     ]
    },
    {
     "ename": "TypeError",
     "evalue": "TranslationData.__init__() missing 1 required positional argument: 'pseudo'",
     "output_type": "error",
     "traceback": [
      "\u001b[0;31m---------------------------------------------------------------------------\u001b[0m",
      "\u001b[0;31mTypeError\u001b[0m                                 Traceback (most recent call last)",
      "Cell \u001b[0;32mIn[10], line 1\u001b[0m\n\u001b[0;32m----> 1\u001b[0m \u001b[43mcoralme\u001b[49m\u001b[38;5;241;43m.\u001b[39;49m\u001b[43mio\u001b[49m\u001b[38;5;241;43m.\u001b[39;49m\u001b[43mjson\u001b[49m\u001b[38;5;241;43m.\u001b[39;49m\u001b[43mload_json_me_model\u001b[49m\u001b[43m(\u001b[49m\u001b[38;5;124;43m\"\u001b[39;49m\u001b[38;5;124;43m./bsubtilis/MEModel-step3-bsubtilis-TS.json\u001b[39;49m\u001b[38;5;124;43m\"\u001b[39;49m\u001b[43m)\u001b[49m\n",
      "File \u001b[0;32m~/miniconda3/envs/coralme-1.1.6/lib/python3.10/site-packages/coralme/io/json.py:147\u001b[0m, in \u001b[0;36mload_json_me_model\u001b[0;34m(file_name)\u001b[0m\n\u001b[1;32m    144\u001b[0m \u001b[38;5;28;01mexcept\u001b[39;00m jsonschema\u001b[38;5;241m.\u001b[39mValidationError:\n\u001b[1;32m    145\u001b[0m \t\u001b[38;5;28;01mraise\u001b[39;00m \u001b[38;5;167;01mException\u001b[39;00m(\u001b[38;5;124m'\u001b[39m\u001b[38;5;124mMust pass valid ME-model json file\u001b[39m\u001b[38;5;124m'\u001b[39m)\n\u001b[0;32m--> 147\u001b[0m model \u001b[38;5;241m=\u001b[39m \u001b[43mcoralme\u001b[49m\u001b[38;5;241;43m.\u001b[39;49m\u001b[43mio\u001b[49m\u001b[38;5;241;43m.\u001b[39;49m\u001b[43mdict\u001b[49m\u001b[38;5;241;43m.\u001b[39;49m\u001b[43mme_model_from_dict\u001b[49m\u001b[43m(\u001b[49m\u001b[43mmodel_dict\u001b[49m\u001b[43m)\u001b[49m\n\u001b[1;32m    149\u001b[0m logging\u001b[38;5;241m.\u001b[39mshutdown()\n\u001b[1;32m    151\u001b[0m \u001b[38;5;66;03m# We will remove duplicates entries in the log output\u001b[39;00m\n",
      "File \u001b[0;32m~/miniconda3/envs/coralme-1.1.6/lib/python3.10/site-packages/coralme/io/dict.py:552\u001b[0m, in \u001b[0;36mme_model_from_dict\u001b[0;34m(obj)\u001b[0m\n\u001b[1;32m    549\u001b[0m \t_add_metabolite_from_dict(model, metabolite)\n\u001b[1;32m    551\u001b[0m \u001b[38;5;28;01mfor\u001b[39;00m process_data \u001b[38;5;129;01min\u001b[39;00m tqdm\u001b[38;5;241m.\u001b[39mtqdm(obj[\u001b[38;5;124m'\u001b[39m\u001b[38;5;124mprocess_data\u001b[39m\u001b[38;5;124m'\u001b[39m], \u001b[38;5;124m'\u001b[39m\u001b[38;5;124mAdding ProcessData into the ME-model...\u001b[39m\u001b[38;5;124m'\u001b[39m, bar_format \u001b[38;5;241m=\u001b[39m bar_format):\n\u001b[0;32m--> 552\u001b[0m \t\u001b[43m_add_process_data_from_dict\u001b[49m\u001b[43m(\u001b[49m\u001b[43mmodel\u001b[49m\u001b[43m,\u001b[49m\u001b[43m \u001b[49m\u001b[43mprocess_data\u001b[49m\u001b[43m)\u001b[49m\n\u001b[1;32m    554\u001b[0m \u001b[38;5;28;01mfor\u001b[39;00m reaction \u001b[38;5;129;01min\u001b[39;00m tqdm\u001b[38;5;241m.\u001b[39mtqdm(obj[\u001b[38;5;124m'\u001b[39m\u001b[38;5;124mreactions\u001b[39m\u001b[38;5;124m'\u001b[39m], \u001b[38;5;124m'\u001b[39m\u001b[38;5;124mAdding Reactions into the ME-model...\u001b[39m\u001b[38;5;124m'\u001b[39m, bar_format \u001b[38;5;241m=\u001b[39m bar_format):\n\u001b[1;32m    555\u001b[0m \t_add_reaction_from_dict(model, reaction)\n",
      "File \u001b[0;32m~/miniconda3/envs/coralme-1.1.6/lib/python3.10/site-packages/coralme/io/dict.py:404\u001b[0m, in \u001b[0;36m_add_process_data_from_dict\u001b[0;34m(model, process_data_dict)\u001b[0m\n\u001b[1;32m    402\u001b[0m \ttranslation \u001b[38;5;241m=\u001b[39m process_data_info[\u001b[38;5;124m'\u001b[39m\u001b[38;5;124mtranslation\u001b[39m\u001b[38;5;124m'\u001b[39m]\n\u001b[1;32m    403\u001b[0m \ttransl_table \u001b[38;5;241m=\u001b[39m process_data_info[\u001b[38;5;124m'\u001b[39m\u001b[38;5;124mtransl_table\u001b[39m\u001b[38;5;124m'\u001b[39m]\n\u001b[0;32m--> 404\u001b[0m \tprocess_data \u001b[38;5;241m=\u001b[39m \u001b[38;5;28;43mgetattr\u001b[39;49m\u001b[43m(\u001b[49m\u001b[43mcoralme\u001b[49m\u001b[38;5;241;43m.\u001b[39;49m\u001b[43mcore\u001b[49m\u001b[38;5;241;43m.\u001b[39;49m\u001b[43mprocessdata\u001b[49m\u001b[43m,\u001b[49m\u001b[43m \u001b[49m\u001b[43mprocess_data_type\u001b[49m\u001b[43m)\u001b[49m\u001b[43m(\u001b[49m\u001b[38;5;28;43mid\u001b[39;49m\u001b[43m,\u001b[49m\u001b[43m \u001b[49m\u001b[43mmodel\u001b[49m\u001b[43m,\u001b[49m\u001b[43m \u001b[49m\u001b[43mmrna\u001b[49m\u001b[43m,\u001b[49m\u001b[43m \u001b[49m\u001b[43mprotein\u001b[49m\u001b[43m,\u001b[49m\u001b[43m \u001b[49m\u001b[43mnucleotide_sequence\u001b[49m\u001b[43m,\u001b[49m\u001b[43m \u001b[49m\u001b[43morganelle\u001b[49m\u001b[43m,\u001b[49m\u001b[43m \u001b[49m\u001b[43mtranslation\u001b[49m\u001b[43m,\u001b[49m\u001b[43m \u001b[49m\u001b[43mtransl_table\u001b[49m\u001b[43m)\u001b[49m\n\u001b[1;32m    405\u001b[0m \u001b[38;5;28;01melif\u001b[39;00m process_data_type \u001b[38;5;241m==\u001b[39m \u001b[38;5;124m'\u001b[39m\u001b[38;5;124mtRNAData\u001b[39m\u001b[38;5;124m'\u001b[39m:\n\u001b[1;32m    406\u001b[0m \tamino_acid \u001b[38;5;241m=\u001b[39m process_data_info[\u001b[38;5;124m'\u001b[39m\u001b[38;5;124mamino_acid\u001b[39m\u001b[38;5;124m'\u001b[39m]\n",
      "\u001b[0;31mTypeError\u001b[0m: TranslationData.__init__() missing 1 required positional argument: 'pseudo'"
     ]
    }
   ],
   "source": [
    "coralme.io.json.load_json_me_model(\"./bsubtilis/MEModel-step3-bsubtilis-TS.json\")"
   ]
  },
  {
   "cell_type": "code",
   "execution_count": null,
   "id": "624b1947-b05d-476f-bdf8-78040960ad0f",
   "metadata": {},
   "outputs": [],
   "source": []
  }
 ],
 "metadata": {
  "kernelspec": {
   "display_name": "coralme-1.1.6",
   "language": "python",
   "name": "coralme-1.1.6"
  },
  "language_info": {
   "codemirror_mode": {
    "name": "ipython",
    "version": 3
   },
   "file_extension": ".py",
   "mimetype": "text/x-python",
   "name": "python",
   "nbconvert_exporter": "python",
   "pygments_lexer": "ipython3",
   "version": "3.10.12"
  },
  "toc-autonumbering": true,
  "toc-showcode": true
 },
 "nbformat": 4,
 "nbformat_minor": 5
}
