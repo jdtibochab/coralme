{
 "cells": [
  {
   "cell_type": "markdown",
   "id": "1982c8ef-670b-4418-b346-00dfba8d0f76",
   "metadata": {},
   "source": [
    "# Getting started"
   ]
  },
  {
   "cell_type": "markdown",
   "id": "fea21fff-173c-40f9-8919-ccb8b501bf4e",
   "metadata": {},
   "source": [
    "## Reconstruct with coralME\n",
    "\n",
    "Here we show an example to reconstruct a dME-model of *B. subtilis*"
   ]
  },
  {
   "cell_type": "markdown",
   "id": "cc93ed2c-c978-45fa-ae0e-731c7f10e7dd",
   "metadata": {},
   "source": [
    "### Import packages"
   ]
  },
  {
   "cell_type": "code",
   "execution_count": 1,
   "id": "968eedc7-c1ce-4b5a-ae06-1daf3f39a109",
   "metadata": {},
   "outputs": [],
   "source": [
    "from coralme.builder.main import MEBuilder\n",
    "from importlib.resources import files"
   ]
  },
  {
   "cell_type": "markdown",
   "id": "be6449ec-ddc0-42b3-b49d-cf5e6b8ef12d",
   "metadata": {},
   "source": [
    "### Define path to inputs"
   ]
  },
  {
   "cell_type": "markdown",
   "id": "7172b5e8-6fc5-4a88-a6cd-69a12d3b5ee9",
   "metadata": {},
   "source": [
    "Define the paths to inputs and desired outputs"
   ]
  },
  {
   "cell_type": "code",
   "execution_count": 2,
   "id": "2e0e9e63-c7f1-4a69-8478-7ffe71c6bf07",
   "metadata": {},
   "outputs": [],
   "source": [
    "input = {\n",
    "  # Inputs\n",
    "  \"m-model-path\": \"./helper_files/inputs/m_model.json\", # Path to model file\n",
    "  \"genbank-path\": \"./helper_files/inputs/genome.gb\", # Path to genome genbank file\n",
    "\n",
    "  # Outputs\n",
    "  \"df_gene_cplxs_mods_rxns\": \"./helper_files/building_data/OSM.xlsx\", # Desired output path of OSM\n",
    "  \"out_directory\": \"./helper_files/\", # Output directory\n",
    "  \"log_directory\": \"./helper_files/\", # Log directory\n",
    "  \"locus_tag\": \"old_locus_tag\", # What IDs were used in the M-model? e.g. locus_tag, old_locus_tag\n",
    "  \"ME-Model-ID\" : \"EXAMPLE-BACILLUS-ME\" # Name of the ME-model\n",
    "}"
   ]
  },
  {
   "cell_type": "markdown",
   "id": "5ec56049-90aa-40c6-bb71-10b52740e415",
   "metadata": {},
   "source": [
    "Load organism setup. For now we can use the minimal setup with biological numbers from E. coli."
   ]
  },
  {
   "cell_type": "code",
   "execution_count": 3,
   "id": "3c40401d-8820-4405-88a3-847f97907c10",
   "metadata": {},
   "outputs": [],
   "source": [
    "organism = str(files(\"coralme\") / \"iJL1678b\") + \"-ME/minimal-organism.json\""
   ]
  },
  {
   "cell_type": "markdown",
   "id": "38fdfacb-e080-4d08-abe1-f563e963c394",
   "metadata": {},
   "source": [
    "### Create builder"
   ]
  },
  {
   "cell_type": "code",
   "execution_count": 4,
   "id": "f04001c0-8b9b-41fa-9a17-55ca6006af41",
   "metadata": {
    "ExecuteTime": {
     "end_time": "2022-12-12T06:30:28.060280Z",
     "start_time": "2022-12-12T06:30:01.706785Z"
    },
    "scrolled": true,
    "tags": []
   },
   "outputs": [],
   "source": [
    "builder = MEBuilder(*[organism], **input)"
   ]
  },
  {
   "cell_type": "markdown",
   "id": "91ed12aa-2dbc-4808-9f5c-38486450860d",
   "metadata": {},
   "source": [
    "### Generate files"
   ]
  },
  {
   "cell_type": "code",
   "execution_count": 5,
   "id": "17b488c8-822e-4598-a72e-33367294b3b2",
   "metadata": {
    "scrolled": true,
    "tags": []
   },
   "outputs": [
    {
     "name": "stdout",
     "output_type": "stream",
     "text": [
      "Initiating file processing...\n",
      "~ Processing files for EXAMPLE-BACILLUS-ME...\n",
      "Set parameter Username\n",
      "Academic license - for non-commercial use only - expires 2025-09-03\n"
     ]
    },
    {
     "name": "stderr",
     "output_type": "stream",
     "text": [
      "Checking M-model metabolites...                                            : 100.0%|██████████|   990/  990 [00:00<00:00]\n",
      "Checking M-model genes...                                                  : 100.0%|██████████|   844/  844 [00:00<00:00]\n",
      "Checking M-model reactions...                                              : 100.0%|██████████|  1250/ 1250 [00:00<00:00]\n",
      "Syncing optional genes file...                                             : 0.0%|          |     0/    0 [00:00<?]\n",
      "Looking for duplicates within datasets...                                  : 100.0%|██████████|     5/    5 [00:00<00:00]\n",
      "Gathering ID occurrences across datasets...                                : 100.0%|██████████|  1250/ 1250 [00:00<00:00]\n",
      "Solving duplicates across datasets...                                      : 0.0%|          |     0/    0 [00:00<?]\n",
      "Pruning GenBank...                                                         : 100.0%|██████████|     1/    1 [00:01<00:00]\n",
      "Updating Genbank file with optional files...                               : 0.0%|          |     0/    0 [00:00<?]\n",
      "Syncing optional files with genbank contigs...                             : 100.0%|██████████|     1/    1 [00:08<00:00]\n",
      "Modifying metabolites with manual curation...                              : 0.0%|          |     0/    0 [00:00<?]\n",
      "Modifying metabolic reactions with manual curation...                      : 0.0%|          |     0/    0 [00:00<?]\n",
      "Adding manual curation of complexes...                                     : 0.0%|          |     0/    0 [00:00<?]\n",
      "Getting sigma factors...                                                   : 100.0%|██████████|    17/   17 [00:00<00:00]\n",
      "Getting generics from Genbank contigs...                                   : 100.0%|██████████|     1/    1 [00:00<00:00]\n",
      "Getting TU-gene associations from optional TUs file...                     : 0.0%|          |     0/    0 [00:00<?]\n",
      "Gathering ribosome stoichiometry...                                        : 100.0%|██████████|    63/   63 [00:00<00:00]\n",
      "Adding protein location...                                                 : 100.0%|██████████|  4238/ 4238 [00:00<00:00]\n",
      "Purging M-model genes...                                                   : 100.0%|██████████|   844/  844 [00:00<00:00]\n",
      "Getting enzyme-reaction associations...                                    : 100.0%|██████████|  1250/ 1250 [00:04<00:00]\n"
     ]
    },
    {
     "name": "stdout",
     "output_type": "stream",
     "text": [
      "Reading EXAMPLE-BACILLUS-ME done.\n"
     ]
    },
    {
     "name": "stderr",
     "output_type": "stream",
     "text": [
      "Gathering M-model compartments...                                          : 100.0%|██████████|     2/    2 [00:00<00:00]\n",
      "Fixing compartments in M-model metabolites...                              : 100.0%|██████████|   990/  990 [00:00<00:00]\n",
      "Fixing missing names in M-model reactions...                               : 100.0%|██████████|  1250/ 1250 [00:00<00:00]\n",
      "Updating enzyme reaction association...                                    : 100.0%|██████████|   902/  902 [00:00<00:00]\n",
      "Getting tRNA to codon dictionary from NC_000964.3                          : 100.0%|██████████|  4449/ 4449 [00:03<00:00]\n",
      "Checking defined translocation pathways...                                 : 0.0%|          |     0/    0 [00:00<?]\n",
      "Getting reaction Keffs...                                                  : 100.0%|██████████|   902/  902 [00:00<00:00]\n"
     ]
    },
    {
     "name": "stdout",
     "output_type": "stream",
     "text": [
      "Writting the Organism-Specific Matrix...\n",
      "Organism-Specific Matrix saved to ./helper_files/building_data/OSM.xlsx file.\n",
      "File processing done.\n"
     ]
    }
   ],
   "source": [
    "builder.generate_files(overwrite=True)"
   ]
  },
  {
   "cell_type": "markdown",
   "id": "b7ef9225-c5f9-4dfe-966e-b432ad2d4287",
   "metadata": {},
   "source": [
    "### Build ME-model"
   ]
  },
  {
   "cell_type": "code",
   "execution_count": 6,
   "id": "1f347e0a-7f7b-4d09-9c31-acf78befd22a",
   "metadata": {
    "ExecuteTime": {
     "end_time": "2022-12-12T06:28:36.607889Z",
     "start_time": "2022-12-12T06:27:59.542579Z"
    },
    "scrolled": true,
    "tags": []
   },
   "outputs": [
    {
     "name": "stdout",
     "output_type": "stream",
     "text": [
      "Initiating ME-model reconstruction...\n"
     ]
    },
    {
     "name": "stderr",
     "output_type": "stream",
     "text": [
      "Adding biomass constraint(s) into the ME-model...                          : 100.0%|██████████|    11/   11 [00:00<00:00]"
     ]
    },
    {
     "name": "stdout",
     "output_type": "stream",
     "text": [
      "Read LP format model from file /tmp/tmp6wx5hvsz.lp\n",
      "Reading time = 0.00 seconds\n",
      ": 990 rows, 2500 columns, 10478 nonzeros\n"
     ]
    },
    {
     "name": "stderr",
     "output_type": "stream",
     "text": [
      "\n"
     ]
    },
    {
     "name": "stdout",
     "output_type": "stream",
     "text": [
      "Read LP format model from file /tmp/tmp053a6_ir.lp\n",
      "Reading time = 0.00 seconds\n",
      ": 990 rows, 2496 columns, 10342 nonzeros\n"
     ]
    },
    {
     "name": "stderr",
     "output_type": "stream",
     "text": [
      "Adding Metabolites from M-model into the ME-model...                       : 100.0%|██████████|   990/  990 [00:00<00:00]\n",
      "Adding Reactions from M-model into the ME-model...                         : 100.0%|██████████|  1248/ 1248 [00:00<00:00]\n",
      "Adding Transcriptional Units into the ME-model from user input...          : 0.0%|          |     0/    0 [00:00<?]\n",
      "Adding features from contig NC_000964.3 into the ME-model...               : 100.0%|██████████|  4449/ 4449 [00:08<00:00]\n",
      "Updating all TranslationReaction and TranscriptionReaction...              : 100.0%|██████████|  9232/ 9232 [00:21<00:00]\n",
      "Removing SubReactions from ComplexData...                                  : 100.0%|██████████|  4340/ 4340 [00:00<00:00]\n",
      "Adding ComplexFormation into the ME-model...                               : 100.0%|██████████|  4340/ 4340 [00:00<00:00]\n",
      "Adding Generic(s) into the ME-model...                                     : 100.0%|██████████|     5/    5 [00:00<00:00]\n",
      "Processing StoichiometricData in ME-model...                               : 100.0%|██████████|  1020/ 1020 [00:00<00:00]\n"
     ]
    },
    {
     "name": "stdout",
     "output_type": "stream",
     "text": [
      "ME-model was saved in the ./helper_files/ directory as MEModel-step1-EXAMPLE-BACILLUS-ME.pkl\n"
     ]
    },
    {
     "name": "stderr",
     "output_type": "stream",
     "text": [
      "Adding tRNA synthetase(s) information into the ME-model...                 : 100.0%|██████████|   306/  306 [00:00<00:00]\n",
      "Adding tRNA modification SubReactions...                                   : 0.0%|          |     0/    0 [00:00<?]\n",
      "Associating tRNA modification enzyme(s) to tRNA(s)...                      : 0.0%|          |     0/    0 [00:00<?]\n",
      "Adding SubReactions into TranslationReactions...                           : 100.0%|██████████|  4238/ 4238 [00:00<00:00]\n",
      "Adding RNA Polymerase(s) into the ME-model...                              : 100.0%|██████████|    17/   17 [00:00<00:00]\n",
      "Associating a RNA Polymerase to each Transcriptional Unit...               : 0.0%|          |     0/    0 [00:00<?]\n",
      "Processing ComplexData in ME-model...                                      : 100.0%|██████████|     1/    1 [00:00<00:00]\n",
      "Adding ComplexFormation into the ME-model...                               : 100.0%|██████████|  4365/ 4365 [00:00<00:00]\n",
      "Adding SubReactions into TranslationReactions...                           : 100.0%|██████████|  4238/ 4238 [00:00<00:00]\n",
      "Adding Transcription SubReactions...                                       : 100.0%|██████████|  4449/ 4449 [00:00<00:00]\n",
      "Processing StoichiometricData in SubReactionData...                        : 0.0%|          |     0/    0 [00:00<?]\n",
      "Adding reaction subsystems from M-model into the ME-model...               : 100.0%|██████████|  1248/ 1248 [00:00<00:00]\n",
      "Processing StoichiometricData in ME-model...                               : 100.0%|██████████|  1020/ 1020 [00:00<00:00]\n",
      "Updating ME-model Reactions...                                             : 100.0%|██████████| 16069/16069 [01:11<00:00]\n",
      "Updating all FormationReactions...                                         : 100.0%|██████████|  4365/ 4365 [00:00<00:00]\n",
      "Recalculation of the elemental contribution in SubReactions...             : 100.0%|██████████|    82/   82 [00:00<00:00]\n",
      "Updating all FormationReactions...                                         : 100.0%|██████████|  4365/ 4365 [00:00<00:00]\n",
      "Updating FormationReactions involving a lipoyl prosthetic group...         : 0.0%|          |     0/    0 [00:00<?]\n",
      "Updating FormationReactions involving a glycyl radical...                  : 0.0%|          |     0/    0 [00:00<?]\n",
      "Estimating effective turnover rates for reactions using the SASA method... : 100.0%|██████████|  2658/ 2658 [00:00<00:00]\n",
      "Mapping effective turnover rates from user input...                        : 0.0%|          |     0/    0 [00:00<?]\n",
      "Setting the effective turnover rates using user input...                   : 100.0%|██████████|  2424/ 2424 [00:00<00:00]\n",
      "Pruning unnecessary ComplexData reactions...                               : 100.0%|██████████|  4365/ 4365 [00:04<00:00]\n",
      "Pruning unnecessary FoldedProtein reactions...                             : 0.0%|          |     0/    0 [00:00<?]\n",
      "Pruning unnecessary ProcessedProtein reactions...                          : 100.0%|██████████|  4239/ 4239 [00:00<00:00]\n",
      "Pruning unnecessary TranslatedGene reactions...                            : 100.0%|██████████|  4239/ 4239 [00:08<00:00]\n",
      "Pruning unnecessary TranscribedGene reactions...                           : 100.0%|██████████|  4450/ 4450 [00:04<00:00]\n",
      "Pruning unnecessary Transcriptional Units...                               : 100.0%|██████████|  4449/ 4449 [00:03<00:00]\n",
      "Pruning unnecessary ComplexData reactions...                               : 100.0%|██████████|   776/  776 [00:00<00:00]\n",
      "Pruning unnecessary FoldedProtein reactions...                             : 0.0%|          |     0/    0 [00:00<?]\n",
      "Pruning unnecessary ProcessedProtein reactions...                          : 100.0%|██████████|   948/  948 [00:00<00:00]\n",
      "Pruning unnecessary TranslatedGene reactions...                            : 100.0%|██████████|   948/  948 [00:00<00:00]\n",
      "Pruning unnecessary TranscribedGene reactions...                           : 100.0%|██████████|  1064/ 1064 [00:01<00:00]\n",
      "Pruning unnecessary Transcriptional Units...                               : 100.0%|██████████|  1063/ 1063 [00:01<00:00]\n",
      "Pruning unnecessary ComplexData reactions...                               : 100.0%|██████████|   760/  760 [00:00<00:00]\n",
      "Pruning unnecessary FoldedProtein reactions...                             : 0.0%|          |     0/    0 [00:00<?]\n",
      "Pruning unnecessary ProcessedProtein reactions...                          : 100.0%|██████████|   932/  932 [00:00<00:00]\n",
      "Pruning unnecessary TranslatedGene reactions...                            : 100.0%|██████████|   932/  932 [00:00<00:00]\n",
      "Pruning unnecessary TranscribedGene reactions...                           : 100.0%|██████████|  1048/ 1048 [00:01<00:00]\n",
      "Pruning unnecessary Transcriptional Units...                               : 100.0%|██████████|  1047/ 1047 [00:01<00:00]\n"
     ]
    },
    {
     "name": "stdout",
     "output_type": "stream",
     "text": [
      "ME-model was saved in the ./helper_files/ directory as MEModel-step2-EXAMPLE-BACILLUS-ME.pkl\n",
      "ME-model reconstruction is done.\n",
      "Number of metabolites in the ME-model is 3808 (+284.65%, from 990)\n",
      "Number of reactions in the ME-model is 7031 (+462.48%, from 1250)\n",
      "Number of genes in the ME-model is 1046 (+23.93%, from 844)\n",
      "Number of missing genes from reconstruction cannot be determined.\n"
     ]
    }
   ],
   "source": [
    "builder.build_me_model(overwrite=False)"
   ]
  },
  {
   "cell_type": "markdown",
   "id": "a99e92fe-7d5c-4179-a00f-d1e8cb534947",
   "metadata": {},
   "source": [
    "### Troubleshoot ME-model"
   ]
  },
  {
   "cell_type": "code",
   "execution_count": 7,
   "id": "d6d2e94e-08d7-4ba8-ab81-bccb22a5b025",
   "metadata": {},
   "outputs": [
    {
     "name": "stdout",
     "output_type": "stream",
     "text": [
      "The MINOS and quad MINOS solvers are a courtesy of Prof Michael A. Saunders. Please cite Ma, D., Yang, L., Fleming, R. et al. Reliable and efficient solution of genome-scale models of Metabolism and macromolecular Expression. Sci Rep 7, 40863 (2017). https://doi.org/10.1038/srep40863\n",
      "\n",
      "~ Troubleshooting started...\n",
      "  Checking if the ME-model can simulate growth without gapfilling reactions...\n",
      "  Original ME-model is not feasible with a tested growth rate of 0.001000 1/h\n",
      "  Step 1. Gapfill reactions to provide components of type 'ME-Deadends' using brute force.\n",
      "          Finding gaps in the ME-model...\n",
      "          Finding gaps from the M-model only...\n",
      "          0 metabolites were identified as deadends.\n",
      "          Adding sink reactions for 0 metabolites...\n",
      "          Provided metabolites through sink reactions cannot recover growth. Proceeding to next set of metabolites.\n",
      "  Step 2. Gapfill reactions to provide components of type 'Cofactors' using brute force.\n",
      "          Adding sink reactions for 2 metabolites...\n",
      "            Sink reactions shortlisted to 2 metabolites.\n",
      "             Processed: 1/2, Gaps: 0. The ME-model is feasible if TS_mg2_c is closed.\n",
      "             Processed: 2/2, Gaps: 1. The ME-model is not feasible if TS_zn2_c is closed.\n",
      "~ Troubleshooter added the following sinks: TS_zn2_c.\n",
      "~ Final step. Fully optimizing with precision 1e-6 and save solution into the ME-model...\n",
      "  Gapfilled ME-model is feasible with growth rate 0.102178 (M-model: 0.117966).\n",
      "ME-model was saved in the ./helper_files/ directory as MEModel-step3-EXAMPLE-BACILLUS-ME-TS.pkl\n"
     ]
    }
   ],
   "source": [
    "builder.troubleshoot(growth_key_and_value = { builder.me_model.mu : 0.001 })"
   ]
  },
  {
   "cell_type": "markdown",
   "id": "eb83917f-9f7a-4b43-b7f6-a4009d72b5c2",
   "metadata": {},
   "source": [
    "## Understanding the file structure"
   ]
  },
  {
   "cell_type": "markdown",
   "id": "856247b2-d8dd-43d1-a4e9-a2a0c2a48f83",
   "metadata": {},
   "source": [
    "For a detailed explanation of the inputs, see For more information about these files see [Description of inputs](BasicInputs.ipynb)"
   ]
  },
  {
   "cell_type": "markdown",
   "id": "40df107f-e8c7-4b6b-901c-d578b269bc51",
   "metadata": {},
   "source": [
    "<img src=\"./pngs/folder.png\" alt=\"Drawing\" style=\"width: 600px;\"/>"
   ]
  },
  {
   "cell_type": "markdown",
   "id": "529527be-a1fa-4750-b0db-a625961985c7",
   "metadata": {},
   "source": [
    "## Curate manually"
   ]
  },
  {
   "cell_type": "markdown",
   "id": "539e4555-603c-4226-ac26-8d928a506cc4",
   "metadata": {},
   "source": [
    "1. __Copy__ all of the generated _reference files_ in <code>building_data/reference_files</code> and replace accordingly in <code>building_data/</code>\n",
    "\n",
    "2. __Go one by one__ through the files in <code>building_data/</code> curating as needed! Important flags are risen in <code>curation_notes.json</code> to further guide you through curation.\n",
    "\n",
    "3. Everytime you make a change, __run the model through the troubleshooter!__ It will show you remaining gaps to look at, and the new curation notes might show new warnings.\n",
    "\n",
    "4. __Keep iterating!__ You will have finished when no gaps are present, and all remaining warnings in curation notes are irrelevant."
   ]
  }
 ],
 "metadata": {
  "kernelspec": {
   "display_name": "coralme-dev",
   "language": "python",
   "name": "coralme-dev"
  },
  "language_info": {
   "codemirror_mode": {
    "name": "ipython",
    "version": 3
   },
   "file_extension": ".py",
   "mimetype": "text/x-python",
   "name": "python",
   "nbconvert_exporter": "python",
   "pygments_lexer": "ipython3",
   "version": "3.10.12"
  }
 },
 "nbformat": 4,
 "nbformat_minor": 5
}
