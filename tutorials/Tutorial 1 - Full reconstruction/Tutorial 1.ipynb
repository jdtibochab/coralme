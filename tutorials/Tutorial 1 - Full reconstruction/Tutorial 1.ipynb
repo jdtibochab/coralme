{
 "cells": [
  {
   "cell_type": "markdown",
   "id": "fb270ec2-29da-4100-9485-39da5cce1663",
   "metadata": {},
   "source": [
    "# Tutorial 1: Full reconstruction\n",
    "\n",
    "In this tutorial we will reconstruct a _Bacillus subtilis_ ME-model from just the input files."
   ]
  },
  {
   "cell_type": "markdown",
   "id": "dbcc45ef-215d-4ee1-8383-bedd2efd084f",
   "metadata": {},
   "source": [
    "## Import libraries"
   ]
  },
  {
   "cell_type": "code",
   "execution_count": 1,
   "id": "d048f35f-6a3b-4642-86cd-49e4c4e4a187",
   "metadata": {
    "ExecuteTime": {
     "end_time": "2022-12-12T06:27:35.182100Z",
     "start_time": "2022-12-12T06:27:35.157355Z"
    }
   },
   "outputs": [
    {
     "data": {
      "text/html": [
       "<style>.container { width:95% !important; }</style>"
      ],
      "text/plain": [
       "<IPython.core.display.HTML object>"
      ]
     },
     "metadata": {},
     "output_type": "display_data"
    }
   ],
   "source": [
    "from IPython.display import display, HTML, Math, Markdown\n",
    "display(HTML(\"<style>.container { width:95% !important; }</style>\"))\n",
    "\n",
    "from coralme.builder.main import MEBuilder"
   ]
  },
  {
   "cell_type": "markdown",
   "id": "f40390ac-ebd6-4c7c-88dc-fb7d5b276383",
   "metadata": {},
   "source": [
    "## Path to configuration files"
   ]
  },
  {
   "cell_type": "markdown",
   "id": "fe8269c7-24de-4f65-b01f-3412883f238e",
   "metadata": {},
   "source": [
    "For more information about these files see [Description of inputs](../../docs/BasicInputs.ipynb)"
   ]
  },
  {
   "cell_type": "code",
   "execution_count": 2,
   "id": "d62ee683-429e-481b-87ea-8758c47886bb",
   "metadata": {},
   "outputs": [],
   "source": [
    "organism = './organism.json'\n",
    "inputs = './input.json'"
   ]
  },
  {
   "cell_type": "markdown",
   "id": "962f97bf-a03d-432f-916d-be11877033c4",
   "metadata": {},
   "source": [
    "## Create MEBuilder instance"
   ]
  },
  {
   "cell_type": "markdown",
   "id": "f9988c4f-9bc2-4716-b8f9-46b02d533b90",
   "metadata": {},
   "source": [
    "For more information about this class see [Architecture of coralME](../../docs/coralMEArchitecture.ipynb)"
   ]
  },
  {
   "cell_type": "code",
   "execution_count": 3,
   "id": "f83fbefc-c392-496d-9e1e-7820d1b6d60b",
   "metadata": {
    "tags": []
   },
   "outputs": [
    {
     "name": "stdout",
     "output_type": "stream",
     "text": [
      "Set parameter Username\n",
      "\n",
      "--------------------------------------------\n",
      "Warning: your license will expire in 2 days\n",
      "--------------------------------------------\n",
      "\n",
      "Academic license - for non-commercial use only - expires 2024-08-16\n"
     ]
    }
   ],
   "source": [
    "builder = MEBuilder(*[organism, inputs])"
   ]
  },
  {
   "cell_type": "markdown",
   "id": "32472ecb-9d39-477c-a611-3fb43d2e3254",
   "metadata": {},
   "source": [
    "## Generate files\n",
    "\n",
    "This corresponds to _Synchronyze_ and _Complement_ steps in [Architecture of coralME](../../docs/coralMEArchitecture.ipynb)"
   ]
  },
  {
   "cell_type": "code",
   "execution_count": 4,
   "id": "33e8a1a3-3206-4bc9-9407-3c31f5367d29",
   "metadata": {
    "ExecuteTime": {
     "end_time": "2022-12-12T06:30:28.060280Z",
     "start_time": "2022-12-12T06:30:01.706785Z"
    },
    "tags": []
   },
   "outputs": [
    {
     "name": "stdout",
     "output_type": "stream",
     "text": [
      "Initiating file processing...\n",
      "~ Processing files for bsubtilis...\n"
     ]
    },
    {
     "name": "stderr",
     "output_type": "stream",
     "text": [
      "Checking M-model metabolites...                                            : 100.0%|██████████|   990/  990 [00:00<00:00]\n",
      "Checking M-model genes...                                                  : 100.0%|██████████|   844/  844 [00:00<00:00]\n",
      "Checking M-model reactions...                                              : 100.0%|██████████|  1250/ 1250 [00:00<00:00]\n",
      "Generating complexes dataframe from optional proteins file...              : 100.0%|██████████|  4554/ 4554 [00:00<00:00]\n",
      "Syncing optional genes file...                                             : 100.0%|██████████|  4541/ 4541 [00:00<00:00]\n",
      "Looking for duplicates within datasets...                                  : 100.0%|██████████|     5/    5 [00:00<00:00]\n",
      "Gathering ID occurrences across datasets...                                : 100.0%|██████████| 10647/10647 [00:00<00:00]\n",
      "Solving duplicates across datasets...                                      : 0.0%|          |     0/    0 [00:00<?]\n",
      "Pruning GenBank...                                                         : 100.0%|██████████|     1/    1 [00:01<00:00]\n",
      "Updating Genbank file with optional files...                               : 100.0%|██████████|  4541/ 4541 [00:00<00:00]\n",
      "Syncing optional files with genbank contigs...                             : 100.0%|██████████|     5/    5 [00:05<00:00]\n",
      "Modifying metabolites with manual curation...                              : 0.0%|          |     0/    0 [00:00<?]\n",
      "Modifying metabolic reactions with manual curation...                      : 0.0%|          |     0/    0 [00:00<?]\n",
      "Adding manual curation of complexes...                                     : 0.0%|          |     0/    0 [00:00<?]\n",
      "Getting sigma factors...                                                   : 100.0%|██████████|    38/   38 [00:00<00:00]\n",
      "Getting generics from Genbank contigs...                                   : 100.0%|██████████|     5/    5 [00:00<00:00]\n",
      "Processing optional TUs file...                                            : 100.0%|██████████|  1647/ 1647 [00:00<00:00]\n",
      "Getting TU-gene associations from optional TUs file...                     : 100.0%|██████████|  1647/ 1647 [00:00<00:00]\n",
      "Gathering ribosome stoichiometry...                                        : 100.0%|██████████|    66/   66 [00:00<00:00]\n",
      "Adding protein location...                                                 : 100.0%|██████████|  4627/ 4627 [00:00<00:00]\n",
      "Purging M-model genes...                                                   : 100.0%|██████████|   844/  844 [00:00<00:00]\n",
      "Getting enzyme-reaction associations...                                    : 100.0%|██████████|  1250/ 1250 [00:04<00:00]\n"
     ]
    },
    {
     "name": "stdout",
     "output_type": "stream",
     "text": [
      "Reading bsubtilis done.\n"
     ]
    },
    {
     "name": "stderr",
     "output_type": "stream",
     "text": [
      "Gathering M-model compartments...                                          : 100.0%|██████████|     2/    2 [00:00<00:00]\n",
      "Fixing compartments in M-model metabolites...                              : 100.0%|██████████|   990/  990 [00:00<00:00]\n",
      "Fixing missing names in M-model reactions...                               : 100.0%|██████████|  1250/ 1250 [00:00<00:00]\n"
     ]
    },
    {
     "name": "stdout",
     "output_type": "stream",
     "text": [
      "~ Processing files for iJL1678b...\n"
     ]
    },
    {
     "name": "stderr",
     "output_type": "stream",
     "text": [
      "Checking M-model metabolites...                                            : 100.0%|██████████|  1660/ 1660 [00:00<00:00]\n",
      "Checking M-model genes...                                                  : 100.0%|██████████|  1271/ 1271 [00:00<00:00]\n",
      "Checking M-model reactions...                                              : 100.0%|██████████|  2377/ 2377 [00:00<00:00]\n",
      "Looking for duplicates within datasets...                                  : 100.0%|██████████|     5/    5 [00:00<00:00]\n",
      "Gathering ID occurrences across datasets...                                : 100.0%|██████████|  8517/ 8517 [00:00<00:00]\n",
      "Solving duplicates across datasets...                                      : 0.0%|          |     0/    0 [00:00<?]\n",
      "Getting sigma factors...                                                   : 100.0%|██████████|     7/    7 [00:00<00:00]\n",
      "Getting TU-gene associations from optional TUs file...                     : 100.0%|██████████|  1647/ 1647 [00:00<00:00]\n",
      "Adding protein location...                                                 : 100.0%|██████████|  1304/ 1304 [00:00<00:00]\n",
      "Purging M-model genes...                                                   : 100.0%|██████████|  1271/ 1271 [00:00<00:00]\n"
     ]
    },
    {
     "name": "stdout",
     "output_type": "stream",
     "text": [
      "Reading iJL1678b done.\n",
      "~ Running BLAST with 4 threads...\n"
     ]
    },
    {
     "name": "stderr",
     "output_type": "stream",
     "text": [
      "Converting Genbank contigs to FASTA for BLAST...                           : 100.0%|██████████|     5/    5 [00:00<00:00]\n",
      "Converting Genbank contigs to FASTA for BLAST...                           : 100.0%|██████████|     1/    1 [00:00<00:00]\n"
     ]
    },
    {
     "name": "stdout",
     "output_type": "stream",
     "text": [
      "BLAST done.\n"
     ]
    },
    {
     "name": "stderr",
     "output_type": "stream",
     "text": [
      "Updating translocation machinery from homology...                          : 100.0%|██████████|     9/    9 [00:00<00:00]\n",
      "Updating protein location from homology...                                 : 100.0%|██████████|   514/  514 [00:00<00:00]\n",
      "Updating translocation multipliers from homology...                        : 100.0%|██████████|     3/    3 [00:00<00:00]\n",
      "Updating lipoprotein precursors from homology...                           : 100.0%|██████████|    14/   14 [00:00<00:00]\n",
      "Updating cleaved-methionine proteins from homology...                      : 100.0%|██████████|   343/  343 [00:00<00:00]\n",
      "Mapping M-metabolites to E-metabolites...                                  : 100.0%|██████████|   147/  147 [00:00<00:00]\n",
      "Updating generics from homology...                                         : 100.0%|██████████|    10/   10 [00:00<00:00]\n",
      "Updating folding from homology...                                          : 100.0%|██████████|     2/    2 [00:00<00:00]\n",
      "Updating ribosome subreaction machinery from homology...                   : 100.0%|██████████|     3/    3 [00:00<00:00]\n",
      "Updating tRNA synthetases from homology...                                 : 100.0%|██████████|    20/   20 [00:00<00:00]\n",
      "Updating peptide release factors from homology...                          : 100.0%|██████████|     3/    3 [00:00<00:00]\n",
      "Updating transcription subreactions machinery from homology...             : 100.0%|██████████|     4/    4 [00:00<00:00]\n",
      "Updating translation initiation subreactions from homology...              : 100.0%|██████████|     4/    4 [00:00<00:00]\n",
      "Updating translation elongation subreactions from homology...              : 100.0%|██████████|     2/    2 [00:00<00:00]\n",
      "Updating translation termination subreactions from homology...             : 100.0%|██████████|     9/    9 [00:00<00:00]\n",
      "Updating special tRNA subreactions from homology...                        : 100.0%|██████████|     1/    1 [00:00<00:00]\n",
      "Updating RNA degradosome composition from homology...                      : 100.0%|██████████|     1/    1 [00:00<00:00]\n",
      "Updating excision machinery from homology...                               : 100.0%|██████████|     3/    3 [00:00<00:00]\n",
      "Updating tRNA subreactions from homology...                                : 100.0%|██████████|     6/    6 [00:00<00:00]\n",
      "Updating lipid modification machinery from homology...                     : 100.0%|██████████|     2/    2 [00:00<00:00]\n",
      "Fixing M-model metabolites with homology...                                : 100.0%|██████████|   990/  990 [00:00<00:00]\n",
      "Updating enzyme reaction association...                                    : 100.0%|██████████|   903/  903 [00:00<00:00]\n",
      "Getting tRNA to codon dictionary from NC_000964.3                          : 100.0%|██████████|  4537/ 4537 [00:03<00:00]\n",
      "Getting tRNA to codon dictionary from G8J2-183                             : 100.0%|██████████|     2/    2 [00:00<00:00]\n",
      "Getting tRNA to codon dictionary from G8J2-180                             : 100.0%|██████████|     2/    2 [00:00<00:00]\n",
      "Getting tRNA to codon dictionary from G8J2-181                             : 100.0%|██████████|     2/    2 [00:00<00:00]\n",
      "Getting tRNA to codon dictionary from G8J2-182                             : 100.0%|██████████|     2/    2 [00:00<00:00]\n",
      "Checking defined translocation pathways...                                 : 100.0%|██████████|     9/    9 [00:00<00:00]\n",
      "Getting reaction Keffs...                                                  : 100.0%|██████████|   903/  903 [00:00<00:00]\n"
     ]
    },
    {
     "name": "stdout",
     "output_type": "stream",
     "text": [
      "File processing done.\n"
     ]
    }
   ],
   "source": [
    "builder.generate_files(overwrite=True)"
   ]
  },
  {
   "cell_type": "markdown",
   "id": "0e9f5993-cbad-44e9-a1ce-51c43e69f565",
   "metadata": {},
   "source": [
    "## Build ME-model\n",
    "\n",
    "This corresponds to _Build_ in [Architecture of coralME](../../docs/coralMEArchitecture.ipynb)"
   ]
  },
  {
   "cell_type": "code",
   "execution_count": 5,
   "id": "df64d444-7726-4ab3-b597-74990636c428",
   "metadata": {
    "ExecuteTime": {
     "end_time": "2022-12-12T06:28:36.607889Z",
     "start_time": "2022-12-12T06:27:59.542579Z"
    },
    "tags": []
   },
   "outputs": [
    {
     "name": "stdout",
     "output_type": "stream",
     "text": [
      "Initiating ME-model reconstruction...\n"
     ]
    },
    {
     "name": "stderr",
     "output_type": "stream",
     "text": [
      "Adding biomass constraint(s) into the ME-model...                          : 100.0%|██████████|    11/   11 [00:00<00:00]"
     ]
    },
    {
     "name": "stdout",
     "output_type": "stream",
     "text": [
      "Read LP format model from file /tmp/tmpkmz_3qlj.lp\n",
      "Reading time = 0.00 seconds\n",
      ": 990 rows, 2500 columns, 10478 nonzeros\n"
     ]
    },
    {
     "name": "stderr",
     "output_type": "stream",
     "text": [
      "\n"
     ]
    },
    {
     "name": "stdout",
     "output_type": "stream",
     "text": [
      "Read LP format model from file /tmp/tmpv5dwkjqf.lp\n",
      "Reading time = 0.00 seconds\n",
      ": 990 rows, 2496 columns, 10342 nonzeros\n"
     ]
    },
    {
     "name": "stderr",
     "output_type": "stream",
     "text": [
      "Adding Metabolites from M-model into the ME-model...                       : 100.0%|██████████|  1055/ 1055 [00:00<00:00]\n",
      "Adding Reactions from M-model into the ME-model...                         : 100.0%|██████████|  1248/ 1248 [00:00<00:00]\n",
      "Adding Transcriptional Units into the ME-model from user input...          : 100.0%|██████████|  1647/ 1647 [00:09<00:00]\n",
      "Adding features from contig NC_000964.3 into the ME-model...               : 100.0%|██████████|  4537/ 4537 [00:08<00:00]\n",
      "Adding features from contig G8J2-183 into the ME-model...                  : 100.0%|██████████|     2/    2 [00:00<00:00]\n",
      "Adding features from contig G8J2-180 into the ME-model...                  : 100.0%|██████████|     2/    2 [00:00<00:00]\n",
      "Adding features from contig G8J2-181 into the ME-model...                  : 100.0%|██████████|     2/    2 [00:00<00:00]\n",
      "Adding features from contig G8J2-182 into the ME-model...                  : 100.0%|██████████|     2/    2 [00:00<00:00]\n",
      "Updating all TranslationReaction and TranscriptionReaction...              : 100.0%|██████████|  8282/ 8282 [00:10<00:00]\n",
      "Removing SubReactions from ComplexData...                                  : 100.0%|██████████|  4992/ 4992 [00:00<00:00]\n",
      "Adding ComplexFormation into the ME-model...                               : 100.0%|██████████|  4992/ 4992 [00:00<00:00]\n",
      "Adding Generic(s) into the ME-model...                                     : 100.0%|██████████|    12/   12 [00:00<00:00]\n",
      "Processing StoichiometricData in ME-model...                               : 100.0%|██████████|  1020/ 1020 [00:00<00:00]\n"
     ]
    },
    {
     "name": "stdout",
     "output_type": "stream",
     "text": [
      "ME-model was saved in the ./ directory as MEModel-step1-bsubtilis.pkl\n"
     ]
    },
    {
     "name": "stderr",
     "output_type": "stream",
     "text": [
      "Adding tRNA synthetase(s) information into the ME-model...                 : 100.0%|██████████|   306/  306 [00:00<00:00]\n",
      "Adding tRNA modification SubReactions...                                   : 0.0%|          |     0/    0 [00:00<?]\n",
      "Associating tRNA modification enzyme(s) to tRNA(s)...                      : 0.0%|          |     0/    0 [00:00<?]\n",
      "Adding SubReactions into TranslationReactions...                           : 100.0%|██████████|  4328/ 4328 [00:01<00:00]\n",
      "Adding RNA Polymerase(s) into the ME-model...                              : 100.0%|██████████|    38/   38 [00:00<00:00]\n",
      "Associating a RNA Polymerase to each Transcriptional Unit...               : 100.0%|██████████|  1647/ 1647 [00:00<00:00]\n",
      "Processing ComplexData in ME-model...                                      : 100.0%|██████████|   312/  312 [00:00<00:00]\n",
      "Adding ComplexFormation into the ME-model...                               : 100.0%|██████████|  5038/ 5038 [00:00<00:00]\n",
      "Adding SubReactions into TranslationReactions...                           : 100.0%|██████████|  4328/ 4328 [00:01<00:00]\n",
      "Adding Transcription SubReactions...                                       : 100.0%|██████████|  3409/ 3409 [00:00<00:00]\n",
      "Processing StoichiometricData in SubReactionData...                        : 100.0%|██████████|  1648/ 1648 [00:00<00:00]\n",
      "Adding reaction subsystems from M-model into the ME-model...               : 100.0%|██████████|  1248/ 1248 [00:00<00:00]\n",
      "Processing StoichiometricData in ME-model...                               : 100.0%|██████████|  1020/ 1020 [00:00<00:00]\n",
      "Updating ME-model Reactions...                                             : 100.0%|██████████| 17312/17312 [01:08<00:00]\n",
      "Updating all FormationReactions...                                         : 100.0%|██████████|  5038/ 5038 [00:00<00:00]\n",
      "Recalculation of the elemental contribution in SubReactions...             : 100.0%|██████████|   236/  236 [00:00<00:00]\n",
      "Updating all FormationReactions...                                         : 100.0%|██████████|  5038/ 5038 [00:00<00:00]\n",
      "Updating FormationReactions involving a lipoyl prosthetic group...         : 100.0%|██████████|     5/    5 [00:00<00:00]\n",
      "Updating FormationReactions involving a glycyl radical...                  : 0.0%|          |     0/    0 [00:00<?]\n",
      "Estimating effective turnover rates for reactions using the SASA method... : 100.0%|██████████|  2842/ 2842 [00:00<00:00]\n",
      "Mapping effective turnover rates from user input...                        : 0.0%|          |     0/    0 [00:00<?]\n",
      "Setting the effective turnover rates using user input...                   : 100.0%|██████████|  2610/ 2610 [00:00<00:00]\n",
      "Pruning unnecessary ComplexData reactions...                               : 100.0%|██████████|  5038/ 5038 [00:06<00:00]\n",
      "Pruning unnecessary FoldedProtein reactions...                             : 0.0%|          |     0/    0 [00:00<?]\n",
      "Pruning unnecessary ProcessedProtein reactions...                          : 100.0%|██████████|  5647/ 5647 [00:01<00:00]\n",
      "Pruning unnecessary TranslatedGene reactions...                            : 100.0%|██████████|  4625/ 4625 [00:08<00:00]\n",
      "Pruning unnecessary TranscribedGene reactions...                           : 100.0%|██████████|  4540/ 4540 [00:05<00:00]\n",
      "Pruning unnecessary Transcriptional Units...                               : 100.0%|██████████|  3409/ 3409 [00:03<00:00]\n",
      "Pruning unnecessary ComplexData reactions...                               : 100.0%|██████████|   939/  939 [00:00<00:00]\n",
      "Pruning unnecessary FoldedProtein reactions...                             : 0.0%|          |     0/    0 [00:00<?]\n",
      "Pruning unnecessary ProcessedProtein reactions...                          : 100.0%|██████████|  1307/ 1307 [00:00<00:00]\n",
      "Pruning unnecessary TranslatedGene reactions...                            : 100.0%|██████████|  1306/ 1306 [00:00<00:00]\n",
      "Pruning unnecessary TranscribedGene reactions...                           : 100.0%|██████████|  1127/ 1127 [00:01<00:00]\n",
      "Pruning unnecessary Transcriptional Units...                               : 100.0%|██████████|   741/  741 [00:00<00:00]\n",
      "Pruning unnecessary ComplexData reactions...                               : 100.0%|██████████|   902/  902 [00:00<00:00]\n",
      "Pruning unnecessary FoldedProtein reactions...                             : 0.0%|          |     0/    0 [00:00<?]\n",
      "Pruning unnecessary ProcessedProtein reactions...                          : 100.0%|██████████|  1286/ 1286 [00:00<00:00]\n",
      "Pruning unnecessary TranslatedGene reactions...                            : 100.0%|██████████|  1286/ 1286 [00:00<00:00]\n",
      "Pruning unnecessary TranscribedGene reactions...                           : 100.0%|██████████|  1107/ 1107 [00:01<00:00]\n",
      "Pruning unnecessary Transcriptional Units...                               : 100.0%|██████████|   718/  718 [00:01<00:00]\n"
     ]
    },
    {
     "name": "stdout",
     "output_type": "stream",
     "text": [
      "ME-model was saved in the ./ directory as MEModel-step2-bsubtilis.pkl\n",
      "ME-model reconstruction is done.\n",
      "Number of metabolites in the ME-model is 4438 (+348.28%, from 990)\n",
      "Number of reactions in the ME-model is 7460 (+496.80%, from 1250)\n",
      "Number of genes in the ME-model is 1105 (+30.92%, from 844)\n"
     ]
    }
   ],
   "source": [
    "builder.build_me_model(overwrite=False)"
   ]
  },
  {
   "cell_type": "markdown",
   "id": "eb86277a-16e5-490b-bcb2-99e0536e49da",
   "metadata": {},
   "source": [
    "## Troubleshoot ME-model\n",
    "\n",
    "This corresponds to _Find gaps_ in [Architecture of coralME](../../docs/coralMEArchitecture.ipynb)"
   ]
  },
  {
   "cell_type": "code",
   "execution_count": 6,
   "id": "49a10838-9065-402e-a364-0898f5a4d2ad",
   "metadata": {
    "tags": []
   },
   "outputs": [
    {
     "name": "stdout",
     "output_type": "stream",
     "text": [
      "The MINOS and quad MINOS solvers are a courtesy of Prof Michael A. Saunders. Please cite Ma, D., Yang, L., Fleming, R. et al. Reliable and efficient solution of genome-scale models of Metabolism and macromolecular Expression. Sci Rep 7, 40863 (2017). https://doi.org/10.1038/srep40863\n",
      "\n",
      "~ Troubleshooting started...\n",
      "  Checking if the ME-model can simulate growth without gapfilling reactions...\n",
      "  Original ME-model is not feasible with a tested growth rate of 0.001000 1/h\n",
      "  Step 1. Gapfill reactions to provide components of type 'ME-Deadends' using brute force.\n",
      "          Finding gaps in the ME-model...\n",
      "          Finding gaps from the M-model only...\n",
      "          10 metabolites were identified as deadends.\n",
      "            cbl1_c: Missing metabolite in the M-model.\n",
      "            cs_c: Missing metabolite in the M-model.\n",
      "            cu_c: Missing metabolite in the M-model.\n",
      "            dad__5_c: Missing metabolite in the M-model.\n",
      "            dpm_c: Missing metabolite in the M-model.\n",
      "            fmnh2_c: Missing metabolite in the M-model.\n",
      "            hemed_c: Missing metabolite in the M-model.\n",
      "            lipoate_c: Missing metabolite in the M-model.\n",
      "            lipoyl_c: Missing metabolite in the M-model.\n",
      "            tl_c: Missing metabolite in the M-model.\n",
      "          Adding sink reactions for 10 metabolites...\n",
      "          Provided metabolites through sink reactions cannot recover growth. Proceeding to next set of metabolites.\n",
      "  Step 2. Gapfill reactions to provide components of type 'Cofactors' using brute force.\n",
      "          Adding sink reactions for 40 metabolites...\n",
      "            Sink reactions shortlisted to 31 metabolites.\n",
      "             Processed:  1/31, Gaps: 1. The ME-model is not feasible if TS_pydx5p_c is closed.\n",
      "             Processed:  2/31, Gaps: 1. The ME-model is feasible if TS_nh4_c is closed.\n",
      "             Processed:  3/31, Gaps: 2. The ME-model is not feasible if TS_4fe4s_c is closed.\n",
      "             Processed:  4/31, Gaps: 2. The ME-model is feasible if TS_cd2_c is closed.\n",
      "             Processed:  5/31, Gaps: 2. The ME-model is feasible if TS_pi_c is closed.\n",
      "             Processed:  6/31, Gaps: 2. The ME-model is feasible if TS_nadph_c is closed.\n",
      "             Processed:  7/31, Gaps: 2. The ME-model is feasible if TS_sheme_c is closed.\n",
      "             Processed:  8/31, Gaps: 3. The ME-model is not feasible if TS_thmpp_c is closed.\n",
      "             Processed:  9/31, Gaps: 3. The ME-model is feasible if TS_2fe2s_c is closed.\n",
      "             Processed: 10/31, Gaps: 3. The ME-model is feasible if TS_fad_c is closed.\n",
      "             Processed: 11/31, Gaps: 3. The ME-model is feasible if TS_nad_c is closed.\n",
      "             Processed: 12/31, Gaps: 3. The ME-model is feasible if TS_hco3_c is closed.\n",
      "             Processed: 13/31, Gaps: 3. The ME-model is feasible if TS_accoa_c is closed.\n",
      "             Processed: 14/31, Gaps: 3. The ME-model is feasible if TS_nadh_c is closed.\n",
      "             Processed: 15/31, Gaps: 4. The ME-model is not feasible if TS_zn2_c is closed.\n",
      "             Processed: 16/31, Gaps: 4. The ME-model is feasible if TS_lys__L_c is closed.\n",
      "             Processed: 17/31, Gaps: 4. The ME-model is feasible if TS_fmn_c is closed.\n",
      "             Processed: 18/31, Gaps: 4. The ME-model is feasible if TS_mg2_c is closed.\n",
      "             Processed: 19/31, Gaps: 4. The ME-model is feasible if TS_fadh2_c is closed.\n",
      "             Processed: 20/31, Gaps: 4. The ME-model is feasible if TS_k_c is closed.\n",
      "             Processed: 21/31, Gaps: 4. The ME-model is feasible if TS_amp_c is closed.\n",
      "             Processed: 22/31, Gaps: 5. The ME-model is not feasible if TS_mn2_c is closed.\n",
      "             Processed: 23/31, Gaps: 5. The ME-model is feasible if TS_na1_c is closed.\n",
      "             Processed: 24/31, Gaps: 6. The ME-model is not feasible if TS_cobalt2_c is closed.\n",
      "             Processed: 25/31, Gaps: 6. The ME-model is feasible if TS_pheme_c is closed.\n",
      "             Processed: 26/31, Gaps: 6. The ME-model is feasible if TS_pan4p_c is closed.\n",
      "             Processed: 27/31, Gaps: 7. The ME-model is not feasible if TS_fe2_c is closed.\n",
      "             Processed: 28/31, Gaps: 8. The ME-model is not feasible if TS_cbl1_c is closed.\n",
      "             Processed: 29/31, Gaps: 8. The ME-model is feasible if TS_cu_c is closed.\n",
      "             Processed: 30/31, Gaps: 8. The ME-model is feasible if TS_hemed_c is closed.\n",
      "             Processed: 31/31, Gaps: 8. The ME-model is feasible if TS_dpm_c is closed.\n",
      "~ Troubleshooter added the following sinks: TS_cbl1_c, TS_pydx5p_c, TS_4fe4s_c, TS_thmpp_c, TS_zn2_c, TS_mn2_c, TS_cobalt2_c, TS_fe2_c.\n",
      "~ Final step. Fully optimizing with precision 1e-6 and save solution into the ME-model...\n",
      "  Gapfilled ME-model is feasible with growth rate 0.091910 (M-model: 0.117966).\n",
      "ME-model was saved in the ./ directory as MEModel-step3-bsubtilis-TS.pkl\n"
     ]
    }
   ],
   "source": [
    "builder.troubleshoot(growth_key_and_value = { builder.me_model.mu : 0.001 })"
   ]
  },
  {
   "cell_type": "markdown",
   "id": "a7da1c4e-bb50-4ba2-a828-d83b6b0b8cf9",
   "metadata": {},
   "source": [
    "Copy model file for other tutorials"
   ]
  },
  {
   "cell_type": "code",
   "execution_count": 7,
   "id": "be318f15-1f30-4ebc-9c19-0a5c921679e8",
   "metadata": {},
   "outputs": [],
   "source": [
    "!cp ./MEModel-step3-bsubtilis-TS.pkl ../"
   ]
  },
  {
   "cell_type": "code",
   "execution_count": null,
   "id": "a62160d6-fdda-48cc-94f8-4d06d6ce3cfb",
   "metadata": {},
   "outputs": [],
   "source": []
  }
 ],
 "metadata": {
  "kernelspec": {
   "display_name": "coralme",
   "language": "python",
   "name": "coralme"
  },
  "language_info": {
   "codemirror_mode": {
    "name": "ipython",
    "version": 3
   },
   "file_extension": ".py",
   "mimetype": "text/x-python",
   "name": "python",
   "nbconvert_exporter": "python",
   "pygments_lexer": "ipython3",
   "version": "3.10.12"
  },
  "toc-autonumbering": true,
  "toc-showcode": true
 },
 "nbformat": 4,
 "nbformat_minor": 5
}
