{
 "cells": [
  {
   "cell_type": "markdown",
   "id": "fb270ec2-29da-4100-9485-39da5cce1663",
   "metadata": {},
   "source": [
    "# Tutorial 3: Loading and inspecting ME-models\n",
    "\n",
    "In this tutorial we will load and inspect the reconstructed _Bacillus subtilis_ ME-model."
   ]
  },
  {
   "cell_type": "markdown",
   "id": "d37fa4bb-3c8f-4a62-923c-6c1747ebb652",
   "metadata": {},
   "source": [
    "## Import libraries"
   ]
  },
  {
   "cell_type": "code",
   "execution_count": null,
   "id": "d048f35f-6a3b-4642-86cd-49e4c4e4a187",
   "metadata": {
    "ExecuteTime": {
     "end_time": "2022-12-12T06:27:35.182100Z",
     "start_time": "2022-12-12T06:27:35.157355Z"
    }
   },
   "outputs": [],
   "source": [
    "from coralme.builder.main import MEBuilder\n",
    "import coralme"
   ]
  },
  {
   "cell_type": "markdown",
   "id": "051e8ee6-15ba-4017-8fc0-5f54da314cd8",
   "metadata": {},
   "source": [
    "## Load"
   ]
  },
  {
   "cell_type": "markdown",
   "id": "77a83a0a-a0b6-4b74-b0b8-9331a34162d7",
   "metadata": {},
   "source": [
    "Load the ME-model coming out of the Troubleshooter"
   ]
  },
  {
   "cell_type": "code",
   "execution_count": null,
   "id": "b0d86d92-b978-402c-b16a-439986ea2904",
   "metadata": {
    "ExecuteTime": {
     "end_time": "2022-12-12T06:30:28.060280Z",
     "start_time": "2022-12-12T06:30:01.706785Z"
    }
   },
   "outputs": [],
   "source": [
    "me = coralme.io.pickle.load_pickle_me_model(\"../MEModel-step3-bsubtilis-TS.pkl\")"
   ]
  },
  {
   "cell_type": "markdown",
   "id": "b8874ac5-e7a4-473b-80e5-5b3bca962fe5",
   "metadata": {},
   "source": [
    "## Inspecting ME-model properties"
   ]
  },
  {
   "cell_type": "markdown",
   "id": "caca0f28-cbf2-437e-b2ef-9af6bee233ff",
   "metadata": {},
   "source": [
    "### Summary of the ME-model"
   ]
  },
  {
   "cell_type": "code",
   "execution_count": null,
   "id": "a6c4835c-97d5-4583-8ccd-cec067baa26e",
   "metadata": {},
   "outputs": [],
   "source": [
    "me"
   ]
  },
  {
   "cell_type": "code",
   "execution_count": null,
   "id": "bf36850f-1484-4f61-a501-8d3356fa3f31",
   "metadata": {},
   "outputs": [],
   "source": [
    "print(\"ME-model has {} reactions\".format(len(me.reactions)))"
   ]
  },
  {
   "cell_type": "code",
   "execution_count": null,
   "id": "78545e33-afe5-4b86-87b1-6236cbb8d4f0",
   "metadata": {},
   "outputs": [],
   "source": [
    "print(\"ME-model has {} metabolites\".format(len(me.metabolites)))"
   ]
  },
  {
   "cell_type": "code",
   "execution_count": null,
   "id": "b49bbb17-4e2a-4b62-bad7-51a4322557e6",
   "metadata": {},
   "outputs": [],
   "source": [
    "print(\"ME-model has {} genes\".format(len(me.all_genes)))"
   ]
  },
  {
   "cell_type": "markdown",
   "id": "3d86778d-1cee-400e-89d4-9c3503a44288",
   "metadata": {},
   "source": [
    "### Reactions"
   ]
  },
  {
   "cell_type": "markdown",
   "id": "6ec98d84-41ca-4c08-bd6f-3b9815c01795",
   "metadata": {},
   "source": [
    "#### Metabolic reaction"
   ]
  },
  {
   "cell_type": "code",
   "execution_count": null,
   "id": "4aa94f07-6bef-4df1-884e-ea9463e164e7",
   "metadata": {},
   "outputs": [],
   "source": [
    "r = next(i for i in me.reactions if isinstance(i,coralme.core.reaction.MetabolicReaction))\n",
    "r"
   ]
  },
  {
   "cell_type": "markdown",
   "id": "4317c596-0f55-438c-b0da-6a98b6fff590",
   "metadata": {},
   "source": [
    "#### Translation reaction"
   ]
  },
  {
   "cell_type": "code",
   "execution_count": null,
   "id": "795539fb-e1b3-489b-8ea2-3e5efd200435",
   "metadata": {},
   "outputs": [],
   "source": [
    "r = next(i for i in me.reactions if isinstance(i,coralme.core.reaction.TranslationReaction))\n",
    "r"
   ]
  },
  {
   "cell_type": "markdown",
   "id": "41b5c71b-c4b4-4bf8-a411-d35c7edf14ed",
   "metadata": {},
   "source": [
    "#### Transcription reaction"
   ]
  },
  {
   "cell_type": "code",
   "execution_count": null,
   "id": "18f8b2c0-1880-4b74-8330-73d82834888b",
   "metadata": {},
   "outputs": [],
   "source": [
    "r = next(i for i in me.reactions if isinstance(i,coralme.core.reaction.TranscriptionReaction))\n",
    "r"
   ]
  },
  {
   "cell_type": "markdown",
   "id": "20aa4477-0812-4847-a821-298f192e4422",
   "metadata": {},
   "source": [
    "#### Formation reaction"
   ]
  },
  {
   "cell_type": "code",
   "execution_count": null,
   "id": "f6ff8a2f-db4f-42de-9aa7-81ccec048f32",
   "metadata": {},
   "outputs": [],
   "source": [
    "r = next(i for i in me.reactions if isinstance(i,coralme.core.reaction.ComplexFormation))\n",
    "r"
   ]
  },
  {
   "cell_type": "markdown",
   "id": "76375a81-5b21-4cb5-8ce7-b0f71f4d1633",
   "metadata": {},
   "source": [
    "#### tRNA Charging reaction"
   ]
  },
  {
   "cell_type": "code",
   "execution_count": null,
   "id": "51ed8187-c1e9-4f74-a0f6-b8b1c18c712e",
   "metadata": {},
   "outputs": [],
   "source": [
    "r = next(i for i in me.reactions if isinstance(i,coralme.core.reaction.tRNAChargingReaction))\n",
    "r"
   ]
  },
  {
   "cell_type": "markdown",
   "id": "e679e38e-a30e-4ba7-b52e-055b98f5bf1a",
   "metadata": {},
   "source": [
    "#### Post-translational modification reaction"
   ]
  },
  {
   "cell_type": "code",
   "execution_count": null,
   "id": "6e50059c-3399-41cd-b262-42107adeea12",
   "metadata": {},
   "outputs": [],
   "source": [
    "r = next(i for i in me.reactions if isinstance(i,coralme.core.reaction.PostTranslationReaction))\n",
    "r"
   ]
  },
  {
   "cell_type": "markdown",
   "id": "81bff06d-8661-4cac-96a6-abe5c21a606e",
   "metadata": {},
   "source": [
    "### Mapped gene functions"
   ]
  },
  {
   "cell_type": "code",
   "execution_count": null,
   "id": "4d80e172-b737-42bd-b513-0e7ec54e791f",
   "metadata": {
    "tags": []
   },
   "outputs": [],
   "source": [
    "from collections import defaultdict\n",
    "import pandas\n",
    "d = defaultdict(int)\n",
    "for g in me.all_genes:\n",
    "    for f in g.functions:\n",
    "        d[f] += 1\n",
    "pandas.DataFrame.from_dict({\"count\":d})"
   ]
  },
  {
   "cell_type": "markdown",
   "id": "65a23350-93b7-4906-8d37-ca9df6bb4789",
   "metadata": {},
   "source": [
    "#### Inspecting functions of a gene"
   ]
  },
  {
   "cell_type": "code",
   "execution_count": null,
   "id": "a00a0fc0-43fe-4bb9-bf82-cfa4f3fb37c6",
   "metadata": {},
   "outputs": [],
   "source": [
    "g = me.all_genes.get_by_id(\"RNA_BSU37160\")\n",
    "g.functions"
   ]
  },
  {
   "cell_type": "markdown",
   "id": "d9bb3773-92ef-4246-955e-e115df91fe8a",
   "metadata": {},
   "source": [
    "### Complexes formed by a gene"
   ]
  },
  {
   "cell_type": "code",
   "execution_count": null,
   "id": "f46a78f0-dec4-4962-8b58-b0366beeca66",
   "metadata": {},
   "outputs": [],
   "source": [
    "g = me.all_genes.get_by_id(\"RNA_BSU37160\")\n",
    "g.complexes"
   ]
  },
  {
   "cell_type": "markdown",
   "id": "7571bdfa-d692-4566-bff0-1b5a9a0da869",
   "metadata": {},
   "source": [
    "### Sinks to be curated through manual curation"
   ]
  },
  {
   "cell_type": "markdown",
   "id": "da4c045f-1299-4024-ba99-56c3ffeed7d8",
   "metadata": {},
   "source": [
    "The Troubleshooter found 8 gaps that need to be curated to allow for growth. Most of these are cofactors that will require some synthesis pathways (e.g. 4fe4s), but others will only need some transporters (e.g. metal ions)"
   ]
  },
  {
   "cell_type": "code",
   "execution_count": null,
   "id": "7ddb17fc-d49b-4547-bfa8-042ad83f7840",
   "metadata": {},
   "outputs": [],
   "source": [
    "me.reactions.query(\"^TS_\")"
   ]
  }
 ],
 "metadata": {
  "kernelspec": {
   "display_name": "coralme",
   "language": "python",
   "name": "coralme"
  },
  "language_info": {
   "codemirror_mode": {
    "name": "ipython",
    "version": 3
   },
   "file_extension": ".py",
   "mimetype": "text/x-python",
   "name": "python",
   "nbconvert_exporter": "python",
   "pygments_lexer": "ipython3",
   "version": "3.10.12"
  },
  "toc-autonumbering": true,
  "toc-showcode": true
 },
 "nbformat": 4,
 "nbformat_minor": 5
}
