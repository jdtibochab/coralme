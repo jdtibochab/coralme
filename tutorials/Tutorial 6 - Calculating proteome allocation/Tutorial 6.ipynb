{
 "cells": [
  {
   "cell_type": "markdown",
   "id": "fb270ec2-29da-4100-9485-39da5cce1663",
   "metadata": {},
   "source": [
    "# Tutorial 6: Inspecting predicted proteome allocation\n",
    "\n",
    "In this tutorial we will calculate the proteome allocation predicted by the _Bacillus subtilis_ ME-model."
   ]
  },
  {
   "cell_type": "markdown",
   "id": "d37fa4bb-3c8f-4a62-923c-6c1747ebb652",
   "metadata": {},
   "source": [
    "## Import libraries"
   ]
  },
  {
   "cell_type": "code",
   "execution_count": null,
   "id": "d048f35f-6a3b-4642-86cd-49e4c4e4a187",
   "metadata": {
    "ExecuteTime": {
     "end_time": "2022-12-12T06:27:35.182100Z",
     "start_time": "2022-12-12T06:27:35.157355Z"
    }
   },
   "outputs": [],
   "source": [
    "from coralme.builder.main import MEBuilder\n",
    "from coralme.util.flux_analysis import flux_based_reactions\n",
    "import coralme\n",
    "import pandas\n",
    "import tqdm"
   ]
  },
  {
   "cell_type": "markdown",
   "id": "051e8ee6-15ba-4017-8fc0-5f54da314cd8",
   "metadata": {},
   "source": [
    "## Load"
   ]
  },
  {
   "cell_type": "markdown",
   "id": "77a83a0a-a0b6-4b74-b0b8-9331a34162d7",
   "metadata": {},
   "source": [
    "Load the ME-model coming out of the Troubleshooter"
   ]
  },
  {
   "cell_type": "code",
   "execution_count": null,
   "id": "b0d86d92-b978-402c-b16a-439986ea2904",
   "metadata": {
    "ExecuteTime": {
     "end_time": "2022-12-12T06:30:28.060280Z",
     "start_time": "2022-12-12T06:30:01.706785Z"
    }
   },
   "outputs": [],
   "source": [
    "me = coralme.io.json.load_json_me_model(\"MEModel-step3-bsubtilis-TS.json\")"
   ]
  },
  {
   "cell_type": "markdown",
   "id": "66554f57-e2e9-4c76-a0e4-f16f8d151874",
   "metadata": {},
   "source": [
    "## Solve"
   ]
  },
  {
   "cell_type": "code",
   "execution_count": null,
   "id": "f914d1d5-f6ca-488e-a3c8-1c96d11be0b6",
   "metadata": {},
   "outputs": [],
   "source": [
    "me.reactions.EX_glc__D_e.bounds = (-10,0)"
   ]
  },
  {
   "cell_type": "code",
   "execution_count": null,
   "id": "cad55474-5c9a-46ea-9305-79ea2d44df66",
   "metadata": {},
   "outputs": [],
   "source": [
    "me.optimize()"
   ]
  },
  {
   "cell_type": "markdown",
   "id": "dbbe2f5e-0c94-4ae2-805a-6afc246c68d2",
   "metadata": {},
   "source": [
    "## Proteome allocation"
   ]
  },
  {
   "cell_type": "markdown",
   "id": "2c47a517-b072-4454-8794-0f564ff925f6",
   "metadata": {},
   "source": [
    "We here use some of the functions provided in coralME to calculate proteome allocation. This part of the analysis can take several minutes to run. The algorithm needs to traverse the ME-network finding where all proteins go (accounting for final destinations only) and calculate the partitioning from the fluxes."
   ]
  },
  {
   "cell_type": "markdown",
   "id": "6d9b07ab-e8fb-4069-9ca5-009d190b8ce2",
   "metadata": {},
   "source": [
    "### Calculate protein to complex partitioning"
   ]
  },
  {
   "cell_type": "markdown",
   "id": "73b7a8d0-45f0-454d-87c1-2f9ce74e0abc",
   "metadata": {},
   "source": [
    "Here we calculate the final complexes to which 1 unit of every protein goes"
   ]
  },
  {
   "cell_type": "code",
   "execution_count": null,
   "id": "a0a9b6db-2298-4a1f-b144-53180b7465d7",
   "metadata": {},
   "outputs": [],
   "source": [
    "from coralme.builder.helper_functions import get_partitioning,get_immediate_partitioning"
   ]
  },
  {
   "cell_type": "code",
   "execution_count": null,
   "id": "83879dfe-723f-4fd3-90fc-4c655a265323",
   "metadata": {},
   "outputs": [],
   "source": [
    "ComplexPartitioning = {}\n",
    "for protein in tqdm.tqdm(me.metabolites.query(\"^protein_\")):\n",
    "    if not isinstance(protein,coralme.core.component.TranslatedGene):\n",
    "        continue\n",
    "    partitioning = get_partitioning(protein,seen = set(),final_fraction=1.0)\n",
    "    if not partitioning:\n",
    "        continue\n",
    "    ComplexPartitioning[protein.id] = {k.id:v for k,v in partitioning}"
   ]
  },
  {
   "cell_type": "code",
   "execution_count": null,
   "id": "333ad500-c9c2-4463-b45e-892b9d6e57ff",
   "metadata": {},
   "outputs": [],
   "source": [
    "pandas.DataFrame.from_dict(ComplexPartitioning).fillna(0.).head()"
   ]
  },
  {
   "cell_type": "markdown",
   "id": "ad73333b-3899-4b80-9e4a-351a6a980f31",
   "metadata": {},
   "source": [
    "### Calculate protein to function partitioning"
   ]
  },
  {
   "cell_type": "markdown",
   "id": "8ae0cafd-e3d8-4669-9d8d-e91f233e81bf",
   "metadata": {},
   "source": [
    "Here we calculate the final reactions to which 1 unit of every protein goes"
   ]
  },
  {
   "cell_type": "code",
   "execution_count": null,
   "id": "866f9eaf-85df-4fb9-8fcc-2a59ce1604de",
   "metadata": {
    "scrolled": true
   },
   "outputs": [],
   "source": [
    "ReactionPartitioning = {}\n",
    "for protein,partitioning in tqdm.tqdm(ComplexPartitioning.items()):\n",
    "    ReactionPartitioning[protein] = {}\n",
    "    tmp = pandas.Series()\n",
    "    for k,fraction in partitioning.items():\n",
    "        ip = {k.id:v for k,v in get_immediate_partitioning(me.get(k)).items()}\n",
    "        tmp = tmp.append(pandas.Series(ip) * fraction)\n",
    "        if tmp.duplicated().any():\n",
    "            tmp = tmp.to_frame().reset_index().groupby(\"index\").sum()[0]\n",
    "    ReactionPartitioning[protein] = tmp.to_dict()"
   ]
  },
  {
   "cell_type": "code",
   "execution_count": null,
   "id": "28c524a8-23a3-4ab8-8805-ebd5b0e46c3f",
   "metadata": {},
   "outputs": [],
   "source": [
    "ReactionPartitioning = pandas.DataFrame.from_dict(ReactionPartitioning).fillna(0.)\n",
    "ReactionPartitioning.head()"
   ]
  },
  {
   "cell_type": "markdown",
   "id": "862eef62-603e-4ce9-ae1b-9371ab4c27dd",
   "metadata": {},
   "source": [
    "### Get protein translation fluxes"
   ]
  },
  {
   "cell_type": "code",
   "execution_count": null,
   "id": "011f60a2-51f3-42e7-bcdd-443521e0186e",
   "metadata": {
    "scrolled": true
   },
   "outputs": [],
   "source": [
    "dct = {}\n",
    "for r in me.query(\"translation_\"):\n",
    "    p = \"protein_\" + r.id.split(\"translation_\")[1]\n",
    "    dct[p] = r.flux * me.get(p).formula_weight/1000\n",
    "TranslationFluxes = pandas.Series(dct)\n",
    "TranslationFluxes.head()"
   ]
  },
  {
   "cell_type": "markdown",
   "id": "55c50c23-7f08-4986-a251-0778c9d81233",
   "metadata": {},
   "source": [
    "### Combine results into one dataframe"
   ]
  },
  {
   "cell_type": "markdown",
   "id": "d9ea5b3c-2c07-44c2-9295-fbec4698de3a",
   "metadata": {},
   "source": [
    "Now we calculate the contributions of all proteins to every reaction flux"
   ]
  },
  {
   "cell_type": "code",
   "execution_count": null,
   "id": "3e72c0fe-81bc-488d-9f04-9c3c997726cb",
   "metadata": {},
   "outputs": [],
   "source": [
    "FluxPartitioning = (ReactionPartitioning*TranslationFluxes).dropna(axis=1)\n",
    "FluxPartitioning.head()"
   ]
  },
  {
   "cell_type": "markdown",
   "id": "d007699c-61e4-4946-89a2-a5292f53e9ad",
   "metadata": {},
   "source": [
    "The sum of all fluxes should add up to the protein biomass"
   ]
  },
  {
   "cell_type": "code",
   "execution_count": null,
   "id": "4e41c761-e218-493c-9f65-a69dd2fcf968",
   "metadata": {},
   "outputs": [],
   "source": [
    "FluxPartitioning.sum().sum()"
   ]
  },
  {
   "cell_type": "code",
   "execution_count": null,
   "id": "f83351ae-d600-4c96-a395-adfeee6ecb83",
   "metadata": {},
   "outputs": [],
   "source": [
    "me.solution.fluxes[\"protein_biomass_to_biomass\"]"
   ]
  },
  {
   "cell_type": "markdown",
   "id": "2bd9b715-1c34-407e-a183-8271fb659b3d",
   "metadata": {},
   "source": [
    "### Get reaction to class dictionary"
   ]
  },
  {
   "cell_type": "markdown",
   "id": "ccb131b5-e5b6-40cf-be9d-bb0b7260d4c4",
   "metadata": {},
   "source": [
    "Here we classify all reactions into categories to simplify the analysis"
   ]
  },
  {
   "cell_type": "code",
   "execution_count": null,
   "id": "3854a321-75b4-45d1-8ac4-47b9b6ffe555",
   "metadata": {},
   "outputs": [],
   "source": [
    "def get_function(r,metabolics=False):\n",
    "    if isinstance(r,coralme.core.reaction.MetabolicReaction) and hasattr(r,'subsystem'):\n",
    "        if r.subsystem and metabolics:\n",
    "            return 'Metabolic:' + r.subsystem\n",
    "        return 'Metabolic'\n",
    "    if isinstance(r,coralme.core.reaction.TranslationReaction):\n",
    "        return 'Translation'\n",
    "    elif isinstance(r,coralme.core.reaction.TranscriptionReaction):\n",
    "        return 'Transcription'\n",
    "    elif isinstance(r,coralme.core.reaction.tRNAChargingReaction):\n",
    "        return 'tRNA-Charging'\n",
    "    elif isinstance(r,coralme.core.reaction.PostTranslationReaction):\n",
    "        return 'Post-translation'\n",
    "    elif isinstance(r,coralme.core.reaction.SummaryVariable):\n",
    "        return 'Biomass'\n",
    "    return \"No_function\""
   ]
  },
  {
   "cell_type": "code",
   "execution_count": null,
   "id": "3f6dca1d-f5d7-42bb-b2cf-baf4006c9c0e",
   "metadata": {},
   "outputs": [],
   "source": [
    "ReactionToClass = pandas.DataFrame(index=[r.id for r in me.reactions]).reset_index()\n",
    "ReactionToClass[\"Function1\"] = ReactionToClass[\"index\"].apply(lambda x:get_function(me.get(x)))\n",
    "ReactionToClass[\"Function2\"] = ReactionToClass[\"index\"].apply(lambda x:get_function(me.get(x),metabolics=True))\n",
    "ReactionToClass = ReactionToClass.set_index(\"index\").sort_index()\n",
    "ReactionToClass.head()"
   ]
  },
  {
   "cell_type": "markdown",
   "id": "4f8fdd41-8ae4-4b09-b2a7-569bbf7c316b",
   "metadata": {},
   "source": [
    "### Visualize proteome allocation"
   ]
  },
  {
   "cell_type": "markdown",
   "id": "154e8aa3-d62d-4a04-bfc9-e87cadf5ba92",
   "metadata": {},
   "source": [
    "Now we annotate it for further analysis"
   ]
  },
  {
   "cell_type": "code",
   "execution_count": null,
   "id": "9a0b3789-8656-4b07-9f62-4a9e19902a83",
   "metadata": {},
   "outputs": [],
   "source": [
    "AnnotatedFluxPartitioning = pandas.concat([FluxPartitioning,ReactionToClass],axis=1).dropna(axis=0)\n",
    "AnnotatedFluxPartitioning.head()"
   ]
  },
  {
   "cell_type": "code",
   "execution_count": null,
   "id": "997b36b4-ea6d-4ebb-b31b-022f3fbc6f58",
   "metadata": {},
   "outputs": [],
   "source": [
    "AnnotatedFluxPartitioning.groupby(\"Function1\").sum().sum(axis=1).sort_values().plot.pie()"
   ]
  },
  {
   "cell_type": "code",
   "execution_count": null,
   "id": "33186061-92b7-43bd-9be3-2c053b8dc445",
   "metadata": {},
   "outputs": [],
   "source": [
    "AnnotatedFluxPartitioning.groupby(\"Function2\").sum().sum(axis=1).sort_values().plot.pie()"
   ]
  },
  {
   "cell_type": "code",
   "execution_count": null,
   "id": "5b454ab7-9c64-49e1-bbeb-3f9e3f2af94e",
   "metadata": {},
   "outputs": [],
   "source": [
    "FluxPartitioning.sum().sort_values()"
   ]
  },
  {
   "cell_type": "code",
   "execution_count": null,
   "id": "e41b47ce-a8f5-4b92-bed7-510ffd841f23",
   "metadata": {},
   "outputs": [],
   "source": [
    "AnnotatedFluxPartitioning[['protein_BSU22890',\"Function2\"]].sort_values(\"protein_BSU22890\")"
   ]
  },
  {
   "cell_type": "code",
   "execution_count": null,
   "id": "a0293a41-905b-4624-8d74-65058ff0cd67",
   "metadata": {},
   "outputs": [],
   "source": []
  }
 ],
 "metadata": {
  "kernelspec": {
   "display_name": "coralme",
   "language": "python",
   "name": "coralme"
  },
  "language_info": {
   "codemirror_mode": {
    "name": "ipython",
    "version": 3
   },
   "file_extension": ".py",
   "mimetype": "text/x-python",
   "name": "python",
   "nbconvert_exporter": "python",
   "pygments_lexer": "ipython3",
   "version": "3.10.12"
  },
  "toc-autonumbering": true,
  "toc-showcode": true
 },
 "nbformat": 4,
 "nbformat_minor": 5
}
