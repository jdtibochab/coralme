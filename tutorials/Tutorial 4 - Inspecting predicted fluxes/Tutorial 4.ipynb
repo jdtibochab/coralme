{
 "cells": [
  {
   "cell_type": "markdown",
   "id": "fb270ec2-29da-4100-9485-39da5cce1663",
   "metadata": {},
   "source": [
    "# Tutorial 4: Inspecting predicted fluxes\n",
    "\n",
    "In this tutorial we will load and inspect the fluxes predicted by the _Bacillus subtilis_ ME-model."
   ]
  },
  {
   "cell_type": "markdown",
   "id": "d37fa4bb-3c8f-4a62-923c-6c1747ebb652",
   "metadata": {},
   "source": [
    "## Import libraries"
   ]
  },
  {
   "cell_type": "code",
   "execution_count": 1,
   "id": "d048f35f-6a3b-4642-86cd-49e4c4e4a187",
   "metadata": {
    "ExecuteTime": {
     "end_time": "2022-12-12T06:27:35.182100Z",
     "start_time": "2022-12-12T06:27:35.157355Z"
    }
   },
   "outputs": [],
   "source": [
    "from coralme.builder.main import MEBuilder\n",
    "from coralme.util.flux_analysis import flux_based_reactions\n",
    "import coralme\n",
    "import pandas\n",
    "import tqdm"
   ]
  },
  {
   "cell_type": "markdown",
   "id": "051e8ee6-15ba-4017-8fc0-5f54da314cd8",
   "metadata": {},
   "source": [
    "## Load"
   ]
  },
  {
   "cell_type": "markdown",
   "id": "77a83a0a-a0b6-4b74-b0b8-9331a34162d7",
   "metadata": {},
   "source": [
    "Load the ME-model coming out of the Troubleshooter"
   ]
  },
  {
   "cell_type": "code",
   "execution_count": 2,
   "id": "b0d86d92-b978-402c-b16a-439986ea2904",
   "metadata": {
    "ExecuteTime": {
     "end_time": "2022-12-12T06:30:28.060280Z",
     "start_time": "2022-12-12T06:30:01.706785Z"
    }
   },
   "outputs": [
    {
     "name": "stdout",
     "output_type": "stream",
     "text": [
      "Set parameter Username\n",
      "Academic license - for non-commercial use only - expires 2024-08-16\n"
     ]
    },
    {
     "name": "stderr",
     "output_type": "stream",
     "text": [
      "Adding Metabolites into the ME-model...                                    : 100.0%|██████████|  4631/ 4631 [00:00<00:00]\n",
      "Adding ProcessData into the ME-model...                                    : 100.0%|██████████|  4754/ 4754 [00:00<00:00]\n",
      "Adding Reactions into the ME-model...                                      : 100.0%|██████████|  7759/ 7759 [00:17<00:00]\n",
      "Updating ME-model Reactions...                                             : 100.0%|██████████|  6328/ 6328 [00:18<00:00]\n"
     ]
    }
   ],
   "source": [
    "me = coralme.io.json.load_json_me_model(\"MEModel-step3-bsubtilis-TS.json\")"
   ]
  },
  {
   "cell_type": "markdown",
   "id": "66554f57-e2e9-4c76-a0e4-f16f8d151874",
   "metadata": {},
   "source": [
    "## Solve"
   ]
  },
  {
   "cell_type": "code",
   "execution_count": 3,
   "id": "cad55474-5c9a-46ea-9305-79ea2d44df66",
   "metadata": {},
   "outputs": [
    {
     "name": "stdout",
     "output_type": "stream",
     "text": [
      "The MINOS and quad MINOS solvers are a courtesy of Prof Michael A. Saunders. Please cite Ma, D., Yang, L., Fleming, R. et al. Reliable and efficient solution of genome-scale models of Metabolism and macromolecular Expression. Sci Rep 7, 40863 (2017). https://doi.org/10.1038/srep40863\n",
      "\n",
      "Iteration\t Solution to check\tSolver Status\n",
      "---------\t------------------\t-------------\n",
      "        1\t1.4050280687025918\tNot feasible\n",
      "        2\t0.7025140343512959\tNot feasible\n",
      "        3\t0.3512570171756479\tNot feasible\n",
      "        4\t0.1756285085878240\tOptimal\n",
      "        5\t0.2634427628817360\tNot feasible\n",
      "        6\t0.2195356357347800\tNot feasible\n",
      "        7\t0.1975820721613020\tNot feasible\n",
      "        8\t0.1866052903745630\tNot feasible\n",
      "        9\t0.1811168994811935\tNot feasible\n",
      "       10\t0.1783727040345087\tNot feasible\n",
      "       11\t0.1770006063111663\tNot feasible\n",
      "       12\t0.1763145574494951\tOptimal\n",
      "       13\t0.1766575818803308\tOptimal\n",
      "       14\t0.1768290940957485\tOptimal\n",
      "       15\t0.1769148502034574\tNot feasible\n",
      "       16\t0.1768719721496030\tNot feasible\n",
      "       17\t0.1768505331226758\tNot feasible\n",
      "       18\t0.1768398136092121\tOptimal\n",
      "       19\t0.1768451733659440\tOptimal\n",
      "       20\t0.1768478532443098\tOptimal\n",
      "       21\t0.1768491931834928\tNot feasible\n",
      "       22\t0.1768485232139013\tOptimal\n"
     ]
    },
    {
     "data": {
      "text/plain": [
       "True"
      ]
     },
     "execution_count": 3,
     "metadata": {},
     "output_type": "execute_result"
    }
   ],
   "source": [
    "me.optimize()"
   ]
  },
  {
   "cell_type": "markdown",
   "id": "42a9d48f-28b2-4f2d-8bce-be2c29bf8a5e",
   "metadata": {},
   "source": [
    "## Inspecting fluxes"
   ]
  },
  {
   "cell_type": "markdown",
   "id": "d977c276-1711-41fc-87fd-3862d0cb8989",
   "metadata": {},
   "source": [
    "### Predicted fluxes"
   ]
  },
  {
   "cell_type": "code",
   "execution_count": 4,
   "id": "6d1ab603-99bb-4711-aa42-7f6c4aebea59",
   "metadata": {},
   "outputs": [
    {
     "data": {
      "text/html": [
       "<div>\n",
       "<style scoped>\n",
       "    .dataframe tbody tr th:only-of-type {\n",
       "        vertical-align: middle;\n",
       "    }\n",
       "\n",
       "    .dataframe tbody tr th {\n",
       "        vertical-align: top;\n",
       "    }\n",
       "\n",
       "    .dataframe thead th {\n",
       "        text-align: right;\n",
       "    }\n",
       "</style>\n",
       "<table border=\"1\" class=\"dataframe\">\n",
       "  <thead>\n",
       "    <tr style=\"text-align: right;\">\n",
       "      <th></th>\n",
       "      <th>fluxes</th>\n",
       "      <th>reduced_costs</th>\n",
       "    </tr>\n",
       "  </thead>\n",
       "  <tbody>\n",
       "    <tr>\n",
       "      <th>biomass_dilution</th>\n",
       "      <td>1.768485e-01</td>\n",
       "      <td>-5.444926e-01</td>\n",
       "    </tr>\n",
       "    <tr>\n",
       "      <th>BSU15140-MONOMER_to_generic_16Sm4Cm1402</th>\n",
       "      <td>5.195407e-12</td>\n",
       "      <td>6.992884e-34</td>\n",
       "    </tr>\n",
       "    <tr>\n",
       "      <th>RNA_BSU_rRNA_1_to_generic_16s_rRNAs</th>\n",
       "      <td>3.189054e-06</td>\n",
       "      <td>0.000000e+00</td>\n",
       "    </tr>\n",
       "    <tr>\n",
       "      <th>RNA_BSU_rRNA_16_to_generic_16s_rRNAs</th>\n",
       "      <td>0.000000e+00</td>\n",
       "      <td>-6.036148e-02</td>\n",
       "    </tr>\n",
       "    <tr>\n",
       "      <th>RNA_BSU_rRNA_19_to_generic_16s_rRNAs</th>\n",
       "      <td>9.834132e-07</td>\n",
       "      <td>0.000000e+00</td>\n",
       "    </tr>\n",
       "    <tr>\n",
       "      <th>...</th>\n",
       "      <td>...</td>\n",
       "      <td>...</td>\n",
       "    </tr>\n",
       "    <tr>\n",
       "      <th>translocation_BSU25290_Plasma_Membrane</th>\n",
       "      <td>1.039081e-11</td>\n",
       "      <td>-6.745283e-34</td>\n",
       "    </tr>\n",
       "    <tr>\n",
       "      <th>translocation_BSU27650_Plasma_Membrane</th>\n",
       "      <td>2.050627e-06</td>\n",
       "      <td>-1.086612e-33</td>\n",
       "    </tr>\n",
       "    <tr>\n",
       "      <th>translocation_BSU33630_Plasma_Membrane</th>\n",
       "      <td>2.073834e-06</td>\n",
       "      <td>0.000000e+00</td>\n",
       "    </tr>\n",
       "    <tr>\n",
       "      <th>translocation_BSU35300_Plasma_Membrane</th>\n",
       "      <td>2.052823e-06</td>\n",
       "      <td>3.194193e-34</td>\n",
       "    </tr>\n",
       "    <tr>\n",
       "      <th>translocation_BSU41040_Plasma_Membrane</th>\n",
       "      <td>4.374494e-08</td>\n",
       "      <td>0.000000e+00</td>\n",
       "    </tr>\n",
       "  </tbody>\n",
       "</table>\n",
       "<p>7759 rows × 2 columns</p>\n",
       "</div>"
      ],
      "text/plain": [
       "                                               fluxes  reduced_costs\n",
       "biomass_dilution                         1.768485e-01  -5.444926e-01\n",
       "BSU15140-MONOMER_to_generic_16Sm4Cm1402  5.195407e-12   6.992884e-34\n",
       "RNA_BSU_rRNA_1_to_generic_16s_rRNAs      3.189054e-06   0.000000e+00\n",
       "RNA_BSU_rRNA_16_to_generic_16s_rRNAs     0.000000e+00  -6.036148e-02\n",
       "RNA_BSU_rRNA_19_to_generic_16s_rRNAs     9.834132e-07   0.000000e+00\n",
       "...                                               ...            ...\n",
       "translocation_BSU25290_Plasma_Membrane   1.039081e-11  -6.745283e-34\n",
       "translocation_BSU27650_Plasma_Membrane   2.050627e-06  -1.086612e-33\n",
       "translocation_BSU33630_Plasma_Membrane   2.073834e-06   0.000000e+00\n",
       "translocation_BSU35300_Plasma_Membrane   2.052823e-06   3.194193e-34\n",
       "translocation_BSU41040_Plasma_Membrane   4.374494e-08   0.000000e+00\n",
       "\n",
       "[7759 rows x 2 columns]"
      ]
     },
     "execution_count": 4,
     "metadata": {},
     "output_type": "execute_result"
    }
   ],
   "source": [
    "fluxes = me.solution.to_frame()\n",
    "fluxes"
   ]
  },
  {
   "cell_type": "markdown",
   "id": "495c1b76-30fc-4bca-bb63-77d343e3defc",
   "metadata": {},
   "source": [
    "### Biomass production"
   ]
  },
  {
   "cell_type": "code",
   "execution_count": 5,
   "id": "5984f8fb-a193-4aff-b6d1-5a9c5d85a5d0",
   "metadata": {},
   "outputs": [
    {
     "data": {
      "text/html": [
       "<div>\n",
       "<style scoped>\n",
       "    .dataframe tbody tr th:only-of-type {\n",
       "        vertical-align: middle;\n",
       "    }\n",
       "\n",
       "    .dataframe tbody tr th {\n",
       "        vertical-align: top;\n",
       "    }\n",
       "\n",
       "    .dataframe thead th {\n",
       "        text-align: right;\n",
       "    }\n",
       "</style>\n",
       "<table border=\"1\" class=\"dataframe\">\n",
       "  <thead>\n",
       "    <tr style=\"text-align: right;\">\n",
       "      <th></th>\n",
       "      <th>fluxes</th>\n",
       "      <th>reduced_costs</th>\n",
       "    </tr>\n",
       "  </thead>\n",
       "  <tbody>\n",
       "    <tr>\n",
       "      <th>biomass_dilution</th>\n",
       "      <td>0.176849</td>\n",
       "      <td>-5.444926e-01</td>\n",
       "    </tr>\n",
       "    <tr>\n",
       "      <th>protein_biomass_to_biomass</th>\n",
       "      <td>0.060190</td>\n",
       "      <td>-1.326275e-34</td>\n",
       "    </tr>\n",
       "    <tr>\n",
       "      <th>mRNA_biomass_to_biomass</th>\n",
       "      <td>0.000229</td>\n",
       "      <td>-8.580748e-35</td>\n",
       "    </tr>\n",
       "    <tr>\n",
       "      <th>tRNA_biomass_to_biomass</th>\n",
       "      <td>0.001386</td>\n",
       "      <td>-7.386542e-35</td>\n",
       "    </tr>\n",
       "    <tr>\n",
       "      <th>rRNA_biomass_to_biomass</th>\n",
       "      <td>0.010071</td>\n",
       "      <td>0.000000e+00</td>\n",
       "    </tr>\n",
       "    <tr>\n",
       "      <th>ncRNA_biomass_to_biomass</th>\n",
       "      <td>0.000000</td>\n",
       "      <td>0.000000e+00</td>\n",
       "    </tr>\n",
       "    <tr>\n",
       "      <th>tmRNA_biomass_to_biomass</th>\n",
       "      <td>0.000000</td>\n",
       "      <td>0.000000e+00</td>\n",
       "    </tr>\n",
       "    <tr>\n",
       "      <th>DNA_biomass_to_biomass</th>\n",
       "      <td>0.010423</td>\n",
       "      <td>0.000000e+00</td>\n",
       "    </tr>\n",
       "    <tr>\n",
       "      <th>lipid_biomass_to_biomass</th>\n",
       "      <td>0.040654</td>\n",
       "      <td>0.000000e+00</td>\n",
       "    </tr>\n",
       "    <tr>\n",
       "      <th>constituent_biomass_to_biomass</th>\n",
       "      <td>0.019977</td>\n",
       "      <td>0.000000e+00</td>\n",
       "    </tr>\n",
       "    <tr>\n",
       "      <th>prosthetic_group_biomass_to_biomass</th>\n",
       "      <td>0.000061</td>\n",
       "      <td>-6.078375e-35</td>\n",
       "    </tr>\n",
       "    <tr>\n",
       "      <th>peptidoglycan_biomass_to_biomass</th>\n",
       "      <td>0.000000</td>\n",
       "      <td>0.000000e+00</td>\n",
       "    </tr>\n",
       "    <tr>\n",
       "      <th>biomass_constituent_demand</th>\n",
       "      <td>0.176849</td>\n",
       "      <td>1.472353e-02</td>\n",
       "    </tr>\n",
       "  </tbody>\n",
       "</table>\n",
       "</div>"
      ],
      "text/plain": [
       "                                       fluxes  reduced_costs\n",
       "biomass_dilution                     0.176849  -5.444926e-01\n",
       "protein_biomass_to_biomass           0.060190  -1.326275e-34\n",
       "mRNA_biomass_to_biomass              0.000229  -8.580748e-35\n",
       "tRNA_biomass_to_biomass              0.001386  -7.386542e-35\n",
       "rRNA_biomass_to_biomass              0.010071   0.000000e+00\n",
       "ncRNA_biomass_to_biomass             0.000000   0.000000e+00\n",
       "tmRNA_biomass_to_biomass             0.000000   0.000000e+00\n",
       "DNA_biomass_to_biomass               0.010423   0.000000e+00\n",
       "lipid_biomass_to_biomass             0.040654   0.000000e+00\n",
       "constituent_biomass_to_biomass       0.019977   0.000000e+00\n",
       "prosthetic_group_biomass_to_biomass  0.000061  -6.078375e-35\n",
       "peptidoglycan_biomass_to_biomass     0.000000   0.000000e+00\n",
       "biomass_constituent_demand           0.176849   1.472353e-02"
      ]
     },
     "execution_count": 5,
     "metadata": {},
     "output_type": "execute_result"
    }
   ],
   "source": [
    "fluxes[fluxes.index.str.contains(\"biomass\")]"
   ]
  },
  {
   "cell_type": "markdown",
   "id": "dd37655b-6303-4354-b448-0f12ca7d7cae",
   "metadata": {},
   "source": [
    "### Transcription rates"
   ]
  },
  {
   "cell_type": "code",
   "execution_count": 6,
   "id": "5630678c-e894-4bbc-b9a3-e71fc1bff8ce",
   "metadata": {},
   "outputs": [
    {
     "data": {
      "text/html": [
       "<div>\n",
       "<style scoped>\n",
       "    .dataframe tbody tr th:only-of-type {\n",
       "        vertical-align: middle;\n",
       "    }\n",
       "\n",
       "    .dataframe tbody tr th {\n",
       "        vertical-align: top;\n",
       "    }\n",
       "\n",
       "    .dataframe thead th {\n",
       "        text-align: right;\n",
       "    }\n",
       "</style>\n",
       "<table border=\"1\" class=\"dataframe\">\n",
       "  <thead>\n",
       "    <tr style=\"text-align: right;\">\n",
       "      <th></th>\n",
       "      <th>fluxes</th>\n",
       "      <th>reduced_costs</th>\n",
       "    </tr>\n",
       "  </thead>\n",
       "  <tbody>\n",
       "    <tr>\n",
       "      <th>transcription_TU8J2-1243_from_BSU25200-MONOMER</th>\n",
       "      <td>0.000000e+00</td>\n",
       "      <td>2.756459e-32</td>\n",
       "    </tr>\n",
       "    <tr>\n",
       "      <th>transcription_TU8J2-569_from_BSU25200-MONOMER</th>\n",
       "      <td>2.279894e-08</td>\n",
       "      <td>-4.328676e-32</td>\n",
       "    </tr>\n",
       "    <tr>\n",
       "      <th>transcription_TU8J2-1577_from_BSU25200-MONOMER</th>\n",
       "      <td>0.000000e+00</td>\n",
       "      <td>-2.262374e+02</td>\n",
       "    </tr>\n",
       "    <tr>\n",
       "      <th>transcription_TU8J2-257_from_BSU25200-MONOMER</th>\n",
       "      <td>0.000000e+00</td>\n",
       "      <td>-7.107130e-32</td>\n",
       "    </tr>\n",
       "    <tr>\n",
       "      <th>transcription_TU8J2-677_from_BSU25200-MONOMER</th>\n",
       "      <td>3.368758e-08</td>\n",
       "      <td>2.637905e-32</td>\n",
       "    </tr>\n",
       "  </tbody>\n",
       "</table>\n",
       "</div>"
      ],
      "text/plain": [
       "                                                      fluxes  reduced_costs\n",
       "transcription_TU8J2-1243_from_BSU25200-MONOMER  0.000000e+00   2.756459e-32\n",
       "transcription_TU8J2-569_from_BSU25200-MONOMER   2.279894e-08  -4.328676e-32\n",
       "transcription_TU8J2-1577_from_BSU25200-MONOMER  0.000000e+00  -2.262374e+02\n",
       "transcription_TU8J2-257_from_BSU25200-MONOMER   0.000000e+00  -7.107130e-32\n",
       "transcription_TU8J2-677_from_BSU25200-MONOMER   3.368758e-08   2.637905e-32"
      ]
     },
     "execution_count": 6,
     "metadata": {},
     "output_type": "execute_result"
    }
   ],
   "source": [
    "fluxes[fluxes.index.str.contains(\"^transcription_\")].head()"
   ]
  },
  {
   "cell_type": "markdown",
   "id": "7ceaf816-6d4d-4b41-acc2-c669cded8c25",
   "metadata": {},
   "source": [
    "### Translation rates"
   ]
  },
  {
   "cell_type": "code",
   "execution_count": 7,
   "id": "eaf9a7f8-72fa-4be3-b01d-ad208c45d4eb",
   "metadata": {},
   "outputs": [
    {
     "data": {
      "text/html": [
       "<div>\n",
       "<style scoped>\n",
       "    .dataframe tbody tr th:only-of-type {\n",
       "        vertical-align: middle;\n",
       "    }\n",
       "\n",
       "    .dataframe tbody tr th {\n",
       "        vertical-align: top;\n",
       "    }\n",
       "\n",
       "    .dataframe thead th {\n",
       "        text-align: right;\n",
       "    }\n",
       "</style>\n",
       "<table border=\"1\" class=\"dataframe\">\n",
       "  <thead>\n",
       "    <tr style=\"text-align: right;\">\n",
       "      <th></th>\n",
       "      <th>fluxes</th>\n",
       "      <th>reduced_costs</th>\n",
       "    </tr>\n",
       "  </thead>\n",
       "  <tbody>\n",
       "    <tr>\n",
       "      <th>translation_BSU00090</th>\n",
       "      <td>4.343633e-08</td>\n",
       "      <td>1.923905e-32</td>\n",
       "    </tr>\n",
       "    <tr>\n",
       "      <th>translation_BSU00110</th>\n",
       "      <td>3.346013e-12</td>\n",
       "      <td>-2.831928e-33</td>\n",
       "    </tr>\n",
       "    <tr>\n",
       "      <th>translation_BSU00120</th>\n",
       "      <td>3.346013e-12</td>\n",
       "      <td>-4.908347e-33</td>\n",
       "    </tr>\n",
       "    <tr>\n",
       "      <th>translation_BSU00130</th>\n",
       "      <td>6.964087e-08</td>\n",
       "      <td>1.372621e-31</td>\n",
       "    </tr>\n",
       "    <tr>\n",
       "      <th>translation_BSU00140</th>\n",
       "      <td>1.895093e-10</td>\n",
       "      <td>6.594385e-33</td>\n",
       "    </tr>\n",
       "  </tbody>\n",
       "</table>\n",
       "</div>"
      ],
      "text/plain": [
       "                            fluxes  reduced_costs\n",
       "translation_BSU00090  4.343633e-08   1.923905e-32\n",
       "translation_BSU00110  3.346013e-12  -2.831928e-33\n",
       "translation_BSU00120  3.346013e-12  -4.908347e-33\n",
       "translation_BSU00130  6.964087e-08   1.372621e-31\n",
       "translation_BSU00140  1.895093e-10   6.594385e-33"
      ]
     },
     "execution_count": 7,
     "metadata": {},
     "output_type": "execute_result"
    }
   ],
   "source": [
    "fluxes[fluxes.index.str.contains(\"^translation_\")].head()"
   ]
  },
  {
   "cell_type": "markdown",
   "id": "b95fd2fb-2498-4666-9ad3-e4ec7fcf05a5",
   "metadata": {},
   "source": [
    "## Biomass profile"
   ]
  },
  {
   "cell_type": "markdown",
   "id": "3130e406-e228-4b14-963a-9af417d01496",
   "metadata": {},
   "source": [
    "We can calculate the predicted biomass composition in this condition by using _flux_based_reactions_ which outputs the mass balance of a metabolite"
   ]
  },
  {
   "cell_type": "code",
   "execution_count": 8,
   "id": "e3910701-4958-477d-bc6a-87c1d5a9dbcc",
   "metadata": {},
   "outputs": [
    {
     "data": {
      "text/html": [
       "<div>\n",
       "<style scoped>\n",
       "    .dataframe tbody tr th:only-of-type {\n",
       "        vertical-align: middle;\n",
       "    }\n",
       "\n",
       "    .dataframe tbody tr th {\n",
       "        vertical-align: top;\n",
       "    }\n",
       "\n",
       "    .dataframe thead th {\n",
       "        text-align: right;\n",
       "    }\n",
       "</style>\n",
       "<table border=\"1\" class=\"dataframe\">\n",
       "  <thead>\n",
       "    <tr style=\"text-align: right;\">\n",
       "      <th></th>\n",
       "      <th>lb</th>\n",
       "      <th>ub</th>\n",
       "      <th>rxn_flux</th>\n",
       "      <th>met_flux</th>\n",
       "      <th>reaction</th>\n",
       "    </tr>\n",
       "  </thead>\n",
       "  <tbody>\n",
       "    <tr>\n",
       "      <th>biomass_dilution</th>\n",
       "      <td>mu1</td>\n",
       "      <td>mu1</td>\n",
       "      <td>0.176849</td>\n",
       "      <td>-0.176849</td>\n",
       "      <td>1.0 biomass --&gt;</td>\n",
       "    </tr>\n",
       "    <tr>\n",
       "      <th>protein_biomass_to_biomass</th>\n",
       "      <td>0.0</td>\n",
       "      <td>1000.0</td>\n",
       "      <td>0.060190</td>\n",
       "      <td>0.094047</td>\n",
       "      <td>1.0 protein_biomass + 0.5625 unmodeled_protein...</td>\n",
       "    </tr>\n",
       "    <tr>\n",
       "      <th>lipid_biomass_to_biomass</th>\n",
       "      <td>0.0</td>\n",
       "      <td>1000.0</td>\n",
       "      <td>0.040654</td>\n",
       "      <td>0.040654</td>\n",
       "      <td>1.0 lipid_biomass --&gt; 1.0 biomass</td>\n",
       "    </tr>\n",
       "    <tr>\n",
       "      <th>constituent_biomass_to_biomass</th>\n",
       "      <td>0.0</td>\n",
       "      <td>1000.0</td>\n",
       "      <td>0.019977</td>\n",
       "      <td>0.019977</td>\n",
       "      <td>1.0 constituent_biomass --&gt; 1.0 biomass</td>\n",
       "    </tr>\n",
       "    <tr>\n",
       "      <th>DNA_biomass_to_biomass</th>\n",
       "      <td>0.0</td>\n",
       "      <td>1000.0</td>\n",
       "      <td>0.010423</td>\n",
       "      <td>0.010423</td>\n",
       "      <td>1.0 DNA_biomass --&gt; 1.0 biomass</td>\n",
       "    </tr>\n",
       "    <tr>\n",
       "      <th>rRNA_biomass_to_biomass</th>\n",
       "      <td>0.0</td>\n",
       "      <td>1000.0</td>\n",
       "      <td>0.010071</td>\n",
       "      <td>0.010071</td>\n",
       "      <td>1.0 rRNA_biomass --&gt; 1.0 biomass</td>\n",
       "    </tr>\n",
       "    <tr>\n",
       "      <th>tRNA_biomass_to_biomass</th>\n",
       "      <td>0.0</td>\n",
       "      <td>1000.0</td>\n",
       "      <td>0.001386</td>\n",
       "      <td>0.001386</td>\n",
       "      <td>1.0 tRNA_biomass --&gt; 1.0 biomass</td>\n",
       "    </tr>\n",
       "    <tr>\n",
       "      <th>mRNA_biomass_to_biomass</th>\n",
       "      <td>0.0</td>\n",
       "      <td>1000.0</td>\n",
       "      <td>0.000229</td>\n",
       "      <td>0.000229</td>\n",
       "      <td>1.0 mRNA_biomass --&gt; 1.0 biomass</td>\n",
       "    </tr>\n",
       "    <tr>\n",
       "      <th>prosthetic_group_biomass_to_biomass</th>\n",
       "      <td>0.0</td>\n",
       "      <td>1000.0</td>\n",
       "      <td>0.000061</td>\n",
       "      <td>0.000061</td>\n",
       "      <td>1.0 prosthetic_group_biomass --&gt; 1.0 biomass</td>\n",
       "    </tr>\n",
       "    <tr>\n",
       "      <th>tmRNA_biomass_to_biomass</th>\n",
       "      <td>0.0</td>\n",
       "      <td>1000.0</td>\n",
       "      <td>0.000000</td>\n",
       "      <td>0.000000</td>\n",
       "      <td>1.0 tmRNA_biomass --&gt; 1.0 biomass</td>\n",
       "    </tr>\n",
       "    <tr>\n",
       "      <th>peptidoglycan_biomass_to_biomass</th>\n",
       "      <td>0.0</td>\n",
       "      <td>1000.0</td>\n",
       "      <td>0.000000</td>\n",
       "      <td>0.000000</td>\n",
       "      <td>1.0 peptidoglycan_biomass --&gt; 1.0 biomass</td>\n",
       "    </tr>\n",
       "    <tr>\n",
       "      <th>ncRNA_biomass_to_biomass</th>\n",
       "      <td>0.0</td>\n",
       "      <td>1000.0</td>\n",
       "      <td>0.000000</td>\n",
       "      <td>0.000000</td>\n",
       "      <td>1.0 ncRNA_biomass --&gt; 1.0 biomass</td>\n",
       "    </tr>\n",
       "  </tbody>\n",
       "</table>\n",
       "</div>"
      ],
      "text/plain": [
       "                                      lb      ub  rxn_flux  met_flux  \\\n",
       "biomass_dilution                     mu1     mu1  0.176849 -0.176849   \n",
       "protein_biomass_to_biomass           0.0  1000.0  0.060190  0.094047   \n",
       "lipid_biomass_to_biomass             0.0  1000.0  0.040654  0.040654   \n",
       "constituent_biomass_to_biomass       0.0  1000.0  0.019977  0.019977   \n",
       "DNA_biomass_to_biomass               0.0  1000.0  0.010423  0.010423   \n",
       "rRNA_biomass_to_biomass              0.0  1000.0  0.010071  0.010071   \n",
       "tRNA_biomass_to_biomass              0.0  1000.0  0.001386  0.001386   \n",
       "mRNA_biomass_to_biomass              0.0  1000.0  0.000229  0.000229   \n",
       "prosthetic_group_biomass_to_biomass  0.0  1000.0  0.000061  0.000061   \n",
       "tmRNA_biomass_to_biomass             0.0  1000.0  0.000000  0.000000   \n",
       "peptidoglycan_biomass_to_biomass     0.0  1000.0  0.000000  0.000000   \n",
       "ncRNA_biomass_to_biomass             0.0  1000.0  0.000000  0.000000   \n",
       "\n",
       "                                                                              reaction  \n",
       "biomass_dilution                                                      1.0 biomass -->   \n",
       "protein_biomass_to_biomass           1.0 protein_biomass + 0.5625 unmodeled_protein...  \n",
       "lipid_biomass_to_biomass                             1.0 lipid_biomass --> 1.0 biomass  \n",
       "constituent_biomass_to_biomass                 1.0 constituent_biomass --> 1.0 biomass  \n",
       "DNA_biomass_to_biomass                                 1.0 DNA_biomass --> 1.0 biomass  \n",
       "rRNA_biomass_to_biomass                               1.0 rRNA_biomass --> 1.0 biomass  \n",
       "tRNA_biomass_to_biomass                               1.0 tRNA_biomass --> 1.0 biomass  \n",
       "mRNA_biomass_to_biomass                               1.0 mRNA_biomass --> 1.0 biomass  \n",
       "prosthetic_group_biomass_to_biomass       1.0 prosthetic_group_biomass --> 1.0 biomass  \n",
       "tmRNA_biomass_to_biomass                             1.0 tmRNA_biomass --> 1.0 biomass  \n",
       "peptidoglycan_biomass_to_biomass             1.0 peptidoglycan_biomass --> 1.0 biomass  \n",
       "ncRNA_biomass_to_biomass                             1.0 ncRNA_biomass --> 1.0 biomass  "
      ]
     },
     "execution_count": 8,
     "metadata": {},
     "output_type": "execute_result"
    }
   ],
   "source": [
    "flux_based_reactions(me,\"biomass\")"
   ]
  },
  {
   "cell_type": "code",
   "execution_count": 9,
   "id": "70eb8096-3f0c-4dcc-999b-338aa6059143",
   "metadata": {},
   "outputs": [
    {
     "data": {
      "text/plain": [
       "<Axes: ylabel='met_flux'>"
      ]
     },
     "execution_count": 9,
     "metadata": {},
     "output_type": "execute_result"
    },
    {
     "data": {
      "image/png": "[encoded data removed]",
      "text/plain": [
       "<Figure size 640x480 with 1 Axes>"
      ]
     },
     "metadata": {},
     "output_type": "display_data"
    }
   ],
   "source": [
    "tmp = flux_based_reactions(me,\"biomass\")[\"met_flux\"]\n",
    "BiomassComponents = tmp[tmp>0]\n",
    "BiomassComponents.plot.pie()"
   ]
  }
 ],
 "metadata": {
  "kernelspec": {
   "display_name": "coralme",
   "language": "python",
   "name": "coralme"
  },
  "language_info": {
   "codemirror_mode": {
    "name": "ipython",
    "version": 3
   },
   "file_extension": ".py",
   "mimetype": "text/x-python",
   "name": "python",
   "nbconvert_exporter": "python",
   "pygments_lexer": "ipython3",
   "version": "3.10.12"
  },
  "toc-autonumbering": true,
  "toc-showcode": true
 },
 "nbformat": 4,
 "nbformat_minor": 5
}
