{
 "cells": [
  {
   "cell_type": "code",
   "execution_count": 4,
   "id": "7522a848-2b38-41a2-a9a2-c8073af7275b",
   "metadata": {},
   "outputs": [],
   "source": [
    "import coralme\n",
    "from coralme.builder.gpr import expand_gpr"
   ]
  },
  {
   "cell_type": "code",
   "execution_count": 5,
   "id": "b74c96ba-41c6-46b0-acd0-e207c671a5bd",
   "metadata": {},
   "outputs": [
    {
     "data": {
      "text/plain": [
       "[['A'], ['B']]"
      ]
     },
     "execution_count": 5,
     "metadata": {},
     "output_type": "execute_result"
    }
   ],
   "source": [
    "expand_gpr(\"A or B\")"
   ]
  },
  {
   "cell_type": "code",
   "execution_count": 6,
   "id": "22bcd304-a8d3-4402-8d74-3f266cf978ee",
   "metadata": {},
   "outputs": [
    {
     "data": {
      "text/plain": [
       "[['A'], ['B', 'C']]"
      ]
     },
     "execution_count": 6,
     "metadata": {},
     "output_type": "execute_result"
    }
   ],
   "source": [
    "expand_gpr(\"A or (B and C)\")"
   ]
  },
  {
   "cell_type": "code",
   "execution_count": 17,
   "id": "2696d6d4-464c-427f-b37a-1108fd6bef43",
   "metadata": {},
   "outputs": [
    {
     "data": {
      "text/plain": [
       "[['A', 'B'], ['A', 'C']]"
      ]
     },
     "execution_count": 17,
     "metadata": {},
     "output_type": "execute_result"
    }
   ],
   "source": [
    "expand_gpr(\"A and (B or C)\")"
   ]
  },
  {
   "cell_type": "code",
   "execution_count": 7,
   "id": "13af48ff-8ff0-4abc-9609-fbf94132ff1b",
   "metadata": {},
   "outputs": [
    {
     "data": {
      "text/plain": [
       "[['B', 'C'], ['A']]"
      ]
     },
     "execution_count": 7,
     "metadata": {},
     "output_type": "execute_result"
    }
   ],
   "source": [
    "expand_gpr(\"(B and C) or A\")"
   ]
  },
  {
   "cell_type": "code",
   "execution_count": 9,
   "id": "15ebea10-ed2e-48c1-9d8c-7c87ee391114",
   "metadata": {},
   "outputs": [
    {
     "data": {
      "text/plain": [
       "[['A', 'B'], ['A', 'C'], ['B', 'B'], ['B', 'C']]"
      ]
     },
     "execution_count": 9,
     "metadata": {},
     "output_type": "execute_result"
    }
   ],
   "source": [
    "expand_gpr(\"(A or B) and (B or C)\")"
   ]
  },
  {
   "cell_type": "code",
   "execution_count": 11,
   "id": "06837a15-afb9-4066-81aa-4789f1eec6dc",
   "metadata": {},
   "outputs": [
    {
     "data": {
      "text/plain": [
       "[['A', 'B', 'C'], ['B', 'B', 'C']]"
      ]
     },
     "execution_count": 11,
     "metadata": {},
     "output_type": "execute_result"
    }
   ],
   "source": [
    "expand_gpr(\"(A or B) and (B and C)\")"
   ]
  },
  {
   "cell_type": "code",
   "execution_count": 14,
   "id": "a124aeeb-70e1-422d-9e24-70b2e8419e0f",
   "metadata": {},
   "outputs": [
    {
     "data": {
      "text/plain": [
       "[['A', 'B', 'C', 'E', 'F'], ['A', 'B', 'D', 'E', 'F']]"
      ]
     },
     "execution_count": 14,
     "metadata": {},
     "output_type": "execute_result"
    }
   ],
   "source": [
    "expand_gpr(\"(A and (B and (C or D))) and (E and F)\")"
   ]
  },
  {
   "cell_type": "code",
   "execution_count": 18,
   "id": "197e20c6-603d-4da3-b8ca-6fd386e2f42e",
   "metadata": {},
   "outputs": [
    {
     "name": "stdout",
     "output_type": "stream",
     "text": [
      "Set parameter Username\n",
      "Academic license - for non-commercial use only - expires 2025-09-03\n",
      "Read LP format model from file /tmp/tmpx1h0x6kh.lp\n",
      "Reading time = 0.00 seconds\n",
      ": 306 rows, 642 columns, 2934 nonzeros\n",
      "Read LP format model from file /tmp/tmptpxz8xax.lp\n",
      "Reading time = 0.00 seconds\n",
      ": 306 rows, 638 columns, 2922 nonzeros\n"
     ]
    }
   ],
   "source": [
    "model = coralme.io.pickle.load_pickle_me_model(\"../data/MEModel-step3-mmycoides-TS.pkl\")"
   ]
  },
  {
   "cell_type": "code",
   "execution_count": 19,
   "id": "af54a330-f254-4741-9f0f-9320187db66c",
   "metadata": {},
   "outputs": [
    {
     "data": {
      "text/plain": [
       "[<TranscriptionReaction transcription_ARTIFICIAL_TU_0_from_JCVISYN3A_0407-MONOMER at 0x7937cd3072b0>,\n",
       " <TranslationReaction translation_ARTIFICIAL_GENE_0 at 0x7937cdc8b2b0>,\n",
       " <TranscriptionReaction transcription_TU_ARTIFICIAL_GENE_2 at 0x7937cdc8bee0>,\n",
       " <tRNAChargingReaction charging_tRNA_ARTIFICIAL_GENE_2_UUU at 0x7937cdc92290>,\n",
       " <tRNAChargingReaction charging_tRNA_ARTIFICIAL_GENE_2_UUC at 0x7937cdc92380>,\n",
       " <MEReaction DM_RNA_ARTIFICIAL_GENE_0 at 0x7937cdc92470>,\n",
       " <MEReaction DM_RNA_ARTIFICIAL_GENE_2 at 0x7937cdc07d00>,\n",
       " <ComplexFormation formation_ARTIFICIAL_GENE_0-MONOMER at 0x7937cdc07d90>,\n",
       " <ComplexFormation formation_CPLX_ARTIFICIAL_RXN_0-0 at 0x7937cd1ec1c0>,\n",
       " <ComplexFormation formation_CPLX_ARTIFICIAL_RXN_1-0 at 0x7937cd1ec3d0>,\n",
       " <ComplexFormation formation_CPLX_ARTIFICIAL_RXN_2-0 at 0x7937cd1ec490>,\n",
       " <GenericFormationReaction ARTIFICIAL_GENE_0-MONOMER_to_generic_ARTIFICIAL_RXN_1_0 at 0x7937cd1779d0>,\n",
       " <GenericFormationReaction ARTIFICIAL_GENE_0-MONOMER_to_generic_ARTIFICIAL_RXN_1_1 at 0x7937cd177a60>,\n",
       " <GenericFormationReaction ARTIFICIAL_GENE_0-MONOMER_to_generic_ARTIFICIAL_RXN_1_2 at 0x7937cd177af0>,\n",
       " <GenericFormationReaction ARTIFICIAL_GENE_0-MONOMER_to_generic_ARTIFICIAL_RXN_1_3 at 0x7937cd177b80>,\n",
       " <GenericFormationReaction ARTIFICIAL_GENE_0-MONOMER_to_generic_ARTIFICIAL_RXN_1_4 at 0x7937cd177c10>,\n",
       " <GenericFormationReaction ARTIFICIAL_GENE_0-MONOMER_to_generic_ARTIFICIAL_RXN_1_5 at 0x7937cd177ca0>,\n",
       " <GenericFormationReaction ARTIFICIAL_GENE_0-MONOMER_to_generic_ARTIFICIAL_RXN_1_6 at 0x7937cd177d30>,\n",
       " <MetabolicReaction ARTIFICIAL_RXN_0_REV_CPLX_ARTIFICIAL_RXN_0-0 at 0x7937cd138d90>,\n",
       " <MetabolicReaction ARTIFICIAL_RXN_0_FWD_CPLX_ARTIFICIAL_RXN_0-0 at 0x7937cd139000>,\n",
       " <MetabolicReaction ARTIFICIAL_RXN_1_REV_CPLX_ARTIFICIAL_RXN_1-0 at 0x7937cd138f10>,\n",
       " <MetabolicReaction ARTIFICIAL_RXN_1_FWD_CPLX_ARTIFICIAL_RXN_1-0 at 0x7937cd139150>,\n",
       " <MetabolicReaction ARTIFICIAL_RXN_2_REV_CPLX_ARTIFICIAL_RXN_2-0 at 0x7937cd1391e0>,\n",
       " <MetabolicReaction ARTIFICIAL_RXN_2_FWD_CPLX_ARTIFICIAL_RXN_2-0 at 0x7937cd139300>]"
      ]
     },
     "execution_count": 19,
     "metadata": {},
     "output_type": "execute_result"
    }
   ],
   "source": [
    "model.reactions.query(\"ARTIFIC\")"
   ]
  },
  {
   "cell_type": "code",
   "execution_count": 20,
   "id": "c1abbde2-5bbf-454f-a3cf-a66292d66ae6",
   "metadata": {},
   "outputs": [
    {
     "ename": "AssertionError",
     "evalue": "",
     "output_type": "error",
     "traceback": [
      "\u001b[0;31m---------------------------------------------------------------------------\u001b[0m",
      "\u001b[0;31mAssertionError\u001b[0m                            Traceback (most recent call last)",
      "Cell \u001b[0;32mIn[20], line 1\u001b[0m\n\u001b[0;32m----> 1\u001b[0m \u001b[38;5;28;01massert\u001b[39;00m model\u001b[38;5;241m.\u001b[39mreactions\u001b[38;5;241m.\u001b[39mhas_id(\u001b[38;5;124m\"\u001b[39m\u001b[38;5;124mARTIFICIAL_RXN_0_FWD_ARTIFICIAL_COMPLEX_0\u001b[39m\u001b[38;5;124m\"\u001b[39m)\n",
      "\u001b[0;31mAssertionError\u001b[0m: "
     ]
    }
   ],
   "source": [
    "assert model.reactions.has_id(\"ARTIFICIAL_RXN_0_FWD_ARTIFICIAL_COMPLEX_0\")"
   ]
  }
 ],
 "metadata": {
  "kernelspec": {
   "display_name": "coralme-dev",
   "language": "python",
   "name": "coralme-dev"
  },
  "language_info": {
   "codemirror_mode": {
    "name": "ipython",
    "version": 3
   },
   "file_extension": ".py",
   "mimetype": "text/x-python",
   "name": "python",
   "nbconvert_exporter": "python",
   "pygments_lexer": "ipython3",
   "version": "3.10.12"
  }
 },
 "nbformat": 4,
 "nbformat_minor": 5
}
