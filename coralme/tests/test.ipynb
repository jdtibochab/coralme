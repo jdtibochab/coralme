{
 "cells": [
  {
   "cell_type": "code",
   "execution_count": 1,
   "id": "5fb77241-2c85-48eb-9653-1f540a20ae39",
   "metadata": {},
   "outputs": [],
   "source": [
    "from test_organism import test_get_organism_withbiocyc\n",
    "from coralme.builder.organism import Organism\n",
    "from importlib.resources import files\n",
    "import anyconfig\n",
    "%load_ext autoreload\n",
    "%autoreload 2"
   ]
  },
  {
   "cell_type": "code",
   "execution_count": 2,
   "id": "57a89949-b8c6-4ec2-8518-f0b907072e25",
   "metadata": {},
   "outputs": [],
   "source": [
    "from coralme.builder.main import MEBuilder"
   ]
  },
  {
   "cell_type": "code",
   "execution_count": 3,
   "id": "b9f519ca-edb1-428f-a25a-a5c66528ca6b",
   "metadata": {},
   "outputs": [],
   "source": [
    "dir = str(files(\"coralme\"))\n",
    "\n",
    "input_nobiocyc = {\n",
    "  # Inputs\n",
    "  \"m-model-path\": \"{}/tests/data/m_model.json\".format(dir), # Path to model file\n",
    "  \"genbank-path\": \"{}/tests/data/genome.gb\".format(dir), # Path to genome genbank file\n",
    "  # Outputs\n",
    "  \"df_gene_cplxs_mods_rxns\": \"{}/tests/data/OSM.xlsx\".format(dir), # Desired output path of OSM\n",
    "  \"out_directory\": \"{}/tests/data/\".format(dir), # Output directory\n",
    "  \"log_directory\": \"{}/tests/data/\".format(dir), # Log directory\n",
    "  \"locus_tag\": \"locus_tag\", # What IDs were used in the M-model? e.g. locus_tag, old_locus_tag\n",
    "  \"dev_reference\" : True,\n",
    "  \"run_bbh_blast\" : True,\n",
    "  \"ME-Model-ID\" : \"EXAMPLE-ME\" # Name of the ME-model\n",
    "}\n",
    "organism = {}\n",
    "with open(\"{}/tests/data/organism.json\".format(dir), 'r') as infile:\n",
    "    organism.update(anyconfig.load(infile))"
   ]
  },
  {
   "cell_type": "code",
   "execution_count": 4,
   "id": "d68180d2-e974-43f5-a518-617e482a658b",
   "metadata": {},
   "outputs": [],
   "source": [
    "config = organism.copy()\n",
    "config.update(input_nobiocyc)\n",
    "config.update({\n",
    "  \"biocyc.genes\": \"{}/tests/data/genes.txt\".format(dir),\n",
    "  \"biocyc.prots\": \"{}/tests/data/proteins.txt\".format(dir),\n",
    "  \"biocyc.TUs\": \"{}/tests/data/TUs.txt\".format(dir),\n",
    "  \"biocyc.RNAs\": \"{}/tests/data/RNAs.txt\".format(dir),\n",
    "  \"biocyc.seqs\": \"{}/tests/data/sequences.fasta\".format(dir),\n",
    "})"
   ]
  },
  {
   "cell_type": "code",
   "execution_count": 5,
   "id": "03350404-9f73-4b42-b52a-9619f18bd5f0",
   "metadata": {},
   "outputs": [],
   "source": [
    "builder = MEBuilder(**config)\n",
    "builder.configuration['run_bbh_blast'] = False"
   ]
  },
  {
   "cell_type": "code",
   "execution_count": 6,
   "id": "49ef8d04-4fc1-4c62-9807-d11b67cc7d3c",
   "metadata": {
    "scrolled": true
   },
   "outputs": [
    {
     "name": "stdout",
     "output_type": "stream",
     "text": [
      "Initiating file processing...\n",
      "~ Processing files for EXAMPLE-ME...\n",
      "Set parameter Username\n",
      "Academic license - for non-commercial use only - expires 2025-09-03\n"
     ]
    },
    {
     "name": "stderr",
     "output_type": "stream",
     "text": [
      "Checking M-model metabolites...                                            : 100.0%|██████████|   306/  306 [00:00<00:00]\n",
      "Checking M-model genes...                                                  : 100.0%|██████████|   159/  159 [00:00<00:00]\n",
      "Checking M-model reactions...                                              : 100.0%|██████████|   321/  321 [00:00<00:00]\n",
      "Generating complexes dataframe from optional proteins file...              : 100.0%|██████████|     1/    1 [00:00<00:00]\n",
      "Syncing optional genes file...                                             : 100.0%|██████████|     3/    3 [00:00<00:00]\n",
      "Looking for duplicates within datasets...                                  : 100.0%|██████████|     5/    5 [00:00<00:00]\n",
      "Gathering ID occurrences across datasets...                                : 100.0%|██████████|   328/  328 [00:00<00:00]\n",
      "Solving duplicates across datasets...                                      : 0.0%|          |     0/    0 [00:00<?]\n",
      "Pruning GenBank...                                                         : 100.0%|██████████|     1/    1 [00:00<00:00]\n",
      "Updating Genbank file with optional files...                               : 100.0%|██████████|     3/    3 [00:00<00:00]\n",
      "Syncing optional files with genbank contigs...                             : 100.0%|██████████|     4/    4 [00:00<00:00]\n",
      "Modifying metabolites with manual curation...                              : 0.0%|          |     0/    0 [00:00<?]\n",
      "Modifying metabolic reactions with manual curation...                      : 0.0%|          |     0/    0 [00:00<?]\n",
      "Adding manual curation of complexes...                                     : 0.0%|          |     0/    0 [00:00<?]\n",
      "Getting sigma factors...                                                   : 100.0%|██████████|     1/    1 [00:00<00:00]\n",
      "Getting generics from Genbank contigs...                                   : 100.0%|██████████|     4/    4 [00:00<00:00]\n",
      "Getting TU-gene associations from optional TUs file...                     : 100.0%|██████████|     1/    1 [00:00<00:00]\n",
      "Gathering ribosome stoichiometry...                                        : 100.0%|██████████|    54/   54 [00:00<00:00]\n",
      "Adding protein location...                                                 : 100.0%|██████████|   459/  459 [00:00<00:00]\n",
      "Purging M-model genes...                                                   : 100.0%|██████████|   159/  159 [00:00<00:00]\n",
      "Getting enzyme-reaction associations...                                    : 100.0%|██████████|   321/  321 [00:00<00:00]\n"
     ]
    },
    {
     "name": "stdout",
     "output_type": "stream",
     "text": [
      "Reading EXAMPLE-ME done.\n"
     ]
    },
    {
     "name": "stderr",
     "output_type": "stream",
     "text": [
      "Gathering M-model compartments...                                          : 100.0%|██████████|     2/    2 [00:00<00:00]\n",
      "Fixing compartments in M-model metabolites...                              : 100.0%|██████████|   306/  306 [00:00<00:00]\n",
      "Fixing missing names in M-model reactions...                               : 100.0%|██████████|   321/  321 [00:00<00:00]\n"
     ]
    },
    {
     "name": "stdout",
     "output_type": "stream",
     "text": [
      "~ Processing files for iJL1678b...\n"
     ]
    },
    {
     "name": "stderr",
     "output_type": "stream",
     "text": [
      "Checking M-model metabolites...                                            : 100.0%|██████████|  1660/ 1660 [00:00<00:00]\n",
      "Checking M-model genes...                                                  : 100.0%|██████████|  1271/ 1271 [00:00<00:00]\n",
      "Checking M-model reactions...                                              : 100.0%|██████████|  2377/ 2377 [00:00<00:00]\n",
      "Looking for duplicates within datasets...                                  : 100.0%|██████████|     5/    5 [00:00<00:00]\n",
      "Gathering ID occurrences across datasets...                                : 100.0%|██████████|  3685/ 3685 [00:00<00:00]\n",
      "Solving duplicates across datasets...                                      : 0.0%|          |     0/    0 [00:00<?]\n",
      "Getting sigma factors...                                                   : 100.0%|██████████|     7/    7 [00:00<00:00]\n",
      "Getting TU-gene associations from optional TUs file...                     : 100.0%|██████████|     1/    1 [00:00<00:00]\n",
      "Adding protein location...                                                 : 100.0%|██████████|  1304/ 1304 [00:00<00:00]\n",
      "Purging M-model genes...                                                   : 100.0%|██████████|  1271/ 1271 [00:00<00:00]\n"
     ]
    },
    {
     "name": "stdout",
     "output_type": "stream",
     "text": [
      "Reading iJL1678b done.\n"
     ]
    },
    {
     "name": "stderr",
     "output_type": "stream",
     "text": [
      "Updating translocation machinery from homology...                          : 100.0%|██████████|     9/    9 [00:00<00:00]\n",
      "Updating protein location from homology...                                 : 100.0%|██████████|   514/  514 [00:00<00:00]\n",
      "Updating translocation multipliers from homology...                        : 100.0%|██████████|     3/    3 [00:00<00:00]\n",
      "Updating lipoprotein precursors from homology...                           : 100.0%|██████████|    14/   14 [00:00<00:00]\n",
      "Updating cleaved-methionine proteins from homology...                      : 100.0%|██████████|   343/  343 [00:00<00:00]\n",
      "Mapping M-metabolites to E-metabolites...                                  : 100.0%|██████████|   147/  147 [00:00<00:00]\n",
      "Updating generics from homology...                                         : 100.0%|██████████|    10/   10 [00:00<00:00]\n",
      "Updating folding from homology...                                          : 100.0%|██████████|     2/    2 [00:00<00:00]\n",
      "Updating ribosome subreaction machinery from homology...                   : 100.0%|██████████|     3/    3 [00:00<00:00]\n",
      "Updating tRNA synthetases from homology...                                 : 100.0%|██████████|    20/   20 [00:00<00:00]\n",
      "Updating peptide release factors from homology...                          : 100.0%|██████████|     3/    3 [00:00<00:00]\n",
      "Updating transcription subreactions machinery from homology...             : 100.0%|██████████|     4/    4 [00:00<00:00]\n",
      "Updating translation initiation subreactions from homology...              : 100.0%|██████████|     4/    4 [00:00<00:00]\n",
      "Updating translation elongation subreactions from homology...              : 100.0%|██████████|     2/    2 [00:00<00:00]\n",
      "Updating translation termination subreactions from homology...             : 100.0%|██████████|     9/    9 [00:00<00:00]\n",
      "Updating special tRNA subreactions from homology...                        : 100.0%|██████████|     1/    1 [00:00<00:00]\n",
      "Updating RNA degradosome composition from homology...                      : 100.0%|██████████|     1/    1 [00:00<00:00]\n",
      "Updating excision machinery from homology...                               : 100.0%|██████████|     3/    3 [00:00<00:00]\n",
      "Updating tRNA subreactions from homology...                                : 100.0%|██████████|     6/    6 [00:00<00:00]\n",
      "Updating lipid modification machinery from homology...                     : 100.0%|██████████|     2/    2 [00:00<00:00]\n",
      "Fixing M-model metabolites with homology...                                : 100.0%|██████████|   306/  306 [00:00<00:00]\n",
      "Updating enzyme reaction association...                                    : 100.0%|██████████|   197/  197 [00:00<00:00]\n",
      "Getting tRNA to codon dictionary from CP016816.2                           : 100.0%|██████████|   494/  494 [00:00<00:00]\n",
      "Getting tRNA to codon dictionary from ARTIFICIAL_GENE_0                    : 100.0%|██████████|     2/    2 [00:00<00:00]\n",
      "Getting tRNA to codon dictionary from ARTIFICIAL_GENE_1                    : 100.0%|██████████|     2/    2 [00:00<00:00]\n",
      "Getting tRNA to codon dictionary from ARTIFICIAL_GENE_2                    : 100.0%|██████████|     2/    2 [00:00<00:00]\n",
      "Checking defined translocation pathways...                                 : 100.0%|██████████|     9/    9 [00:00<00:00]\n",
      "Getting reaction Keffs...                                                  : 100.0%|██████████|   197/  197 [00:00<00:00]\n"
     ]
    },
    {
     "name": "stdout",
     "output_type": "stream",
     "text": [
      "Writting the Organism-Specific Matrix...\n",
      "Organism-Specific Matrix saved to /home/jt/work/coralme/coralme/tests/data/OSM.xlsx file.\n",
      "File processing done.\n"
     ]
    }
   ],
   "source": [
    "builder.generate_files(overwrite=True)\n",
    "builder.save_builder_info()"
   ]
  },
  {
   "cell_type": "code",
   "execution_count": 7,
   "id": "c498c11c-5792-438e-9ae2-1b3f9e2a3407",
   "metadata": {},
   "outputs": [
    {
     "data": {
      "text/html": [
       "\n",
       "        <table>\n",
       "            <tr>\n",
       "                <td><strong>Reaction identifier</strong></td><td>ARTIFICIAL_RXN_1</td>\n",
       "            </tr><tr>\n",
       "                <td><strong>Name</strong></td><td>Artificial reaction with combinatorial explosion</td>\n",
       "            </tr><tr>\n",
       "                <td><strong>Memory address</strong></td>\n",
       "                <td>0x7101135caa10</td>\n",
       "            </tr><tr>\n",
       "                <td><strong>Stoichiometry</strong></td>\n",
       "                <td>\n",
       "                    <p style='text-align:right'>artificial_met3_c <=> artificial_met1_c</p>\n",
       "                    <p style='text-align:right'>Artificial metabolite <=> Artificial metabolite</p>\n",
       "                </td>\n",
       "            </tr><tr>\n",
       "                <td><strong>GPR</strong></td><td>(ARTIFICIAL_GENE_0 or ARTIFICIAL_GENE_1) and (ARTIFICIAL_GENE_0 or ARTIFICIAL_GENE_1) and...</td>\n",
       "            </tr><tr>\n",
       "                <td><strong>Lower bound</strong></td><td>-1000.0</td>\n",
       "            </tr><tr>\n",
       "                <td><strong>Upper bound</strong></td><td>1000.0</td>\n",
       "            </tr>\n",
       "        </table>\n",
       "        "
      ],
      "text/plain": [
       "<Reaction ARTIFICIAL_RXN_1 at 0x7101135caa10>"
      ]
     },
     "execution_count": 7,
     "metadata": {},
     "output_type": "execute_result"
    }
   ],
   "source": [
    "builder.org.m_model.reactions.ARTIFICIAL_RXN_1"
   ]
  },
  {
   "cell_type": "code",
   "execution_count": 8,
   "id": "91dfd97f-a03e-46db-8f07-6912e316499b",
   "metadata": {
    "scrolled": true
   },
   "outputs": [
    {
     "name": "stdout",
     "output_type": "stream",
     "text": [
      "Initiating ME-model reconstruction...\n"
     ]
    },
    {
     "name": "stderr",
     "output_type": "stream",
     "text": [
      "Adding biomass constraint(s) into the ME-model...                          : 100.0%|██████████|    11/   11 [00:00<00:00]"
     ]
    },
    {
     "name": "stdout",
     "output_type": "stream",
     "text": [
      "Read LP format model from file /tmp/tmpcypifj_5.lp\n",
      "Reading time = 0.00 seconds\n",
      ": 306 rows, 642 columns, 2934 nonzeros\n"
     ]
    },
    {
     "name": "stderr",
     "output_type": "stream",
     "text": [
      "\n"
     ]
    },
    {
     "name": "stdout",
     "output_type": "stream",
     "text": [
      "Read LP format model from file /tmp/tmpol0yw9x_.lp\n",
      "Reading time = 0.00 seconds\n",
      ": 306 rows, 638 columns, 2922 nonzeros\n"
     ]
    },
    {
     "name": "stderr",
     "output_type": "stream",
     "text": [
      "Adding Metabolites from M-model into the ME-model...                       : 100.0%|██████████|   306/  306 [00:00<00:00]\n",
      "Adding Reactions from M-model into the ME-model...                         : 100.0%|██████████|   319/  319 [00:00<00:00]\n",
      "Adding Transcriptional Units into the ME-model from user input...          : 100.0%|██████████|     1/    1 [00:00<00:00]\n",
      "Adding features from contig CP016816.2 into the ME-model...                : 100.0%|██████████|   494/  494 [00:00<00:00]\n",
      "Adding features from contig ARTIFICIAL_GENE_0 into the ME-model...         : 100.0%|██████████|     2/    2 [00:00<00:00]\n",
      "Adding features from contig ARTIFICIAL_GENE_1 into the ME-model...         : 100.0%|██████████|     2/    2 [00:00<00:00]\n",
      "Adding features from contig ARTIFICIAL_GENE_2 into the ME-model...         : 100.0%|██████████|     2/    2 [00:00<00:00]\n",
      "Updating all TranslationReaction and TranscriptionReaction...              : 100.0%|██████████|  1149/ 1149 [00:03<00:00]\n",
      "Removing SubReactions from ComplexData...                                  : 100.0%|██████████|   587/  587 [00:00<00:00]\n",
      "Adding ComplexFormation into the ME-model...                               : 100.0%|██████████|   587/  587 [00:00<00:00]\n",
      "Adding Generic(s) into the ME-model...                                     : 100.0%|██████████|    15/   15 [00:00<00:00]\n",
      "Processing StoichiometricData in ME-model...                               : 100.0%|██████████|   236/  236 [00:00<00:00]\n"
     ]
    },
    {
     "name": "stdout",
     "output_type": "stream",
     "text": [
      "ME-model was saved in the /home/jt/work/coralme/coralme/tests/data/ directory as MEModel-step1-EXAMPLE-ME.pkl\n"
     ]
    },
    {
     "name": "stderr",
     "output_type": "stream",
     "text": [
      "Adding tRNA synthetase(s) information into the ME-model...                 : 100.0%|██████████|   101/  101 [00:00<00:00]\n",
      "Adding tRNA modification SubReactions...                                   : 0.0%|          |     0/    0 [00:00<?]\n",
      "Associating tRNA modification enzyme(s) to tRNA(s)...                      : 0.0%|          |     0/    0 [00:00<?]\n",
      "Adding SubReactions into TranslationReactions...                           : 100.0%|██████████|   458/  458 [00:00<00:00]\n",
      "Adding RNA Polymerase(s) into the ME-model...                              : 100.0%|██████████|     1/    1 [00:00<00:00]\n",
      "Associating a RNA Polymerase to each Transcriptional Unit...               : 100.0%|██████████|     1/    1 [00:00<00:00]\n",
      "Processing ComplexData in ME-model...                                      : 100.0%|██████████|   101/  101 [00:00<00:00]\n",
      "Adding ComplexFormation into the ME-model...                               : 100.0%|██████████|   596/  596 [00:00<00:00]\n",
      "Adding SubReactions into TranslationReactions...                           : 100.0%|██████████|   458/  458 [00:01<00:00]\n",
      "Adding Transcription SubReactions...                                       : 100.0%|██████████|   496/  496 [00:00<00:00]\n",
      "Processing StoichiometricData in SubReactionData...                        : 100.0%|██████████|    19/   19 [00:00<00:00]\n",
      "Adding reaction subsystems from M-model into the ME-model...               : 100.0%|██████████|   319/  319 [00:00<00:00]\n",
      "Processing StoichiometricData in ME-model...                               : 100.0%|██████████|   236/  236 [00:00<00:00]\n",
      "Updating ME-model Reactions...                                             : 100.0%|██████████|  2306/ 2306 [00:08<00:00]\n",
      "Updating all FormationReactions...                                         : 100.0%|██████████|   596/  596 [00:00<00:00]\n",
      "Recalculation of the elemental contribution in SubReactions...             : 100.0%|██████████|   183/  183 [00:00<00:00]\n",
      "Updating all FormationReactions...                                         : 100.0%|██████████|   596/  596 [00:00<00:00]\n",
      "Updating FormationReactions involving a lipoyl prosthetic group...         : 0.0%|          |     0/    0 [00:00<?]\n",
      "Updating FormationReactions involving a glycyl radical...                  : 0.0%|          |     0/    0 [00:00<?]\n",
      "Estimating effective turnover rates for reactions using the SASA method... : 100.0%|██████████|   604/  604 [00:00<00:00]\n",
      "Mapping effective turnover rates from user input...                        : 0.0%|          |     0/    0 [00:00<?]\n",
      "Setting the effective turnover rates using user input...                   : 100.0%|██████████|   527/  527 [00:00<00:00]\n",
      "Pruning unnecessary ComplexData reactions...                               : 100.0%|██████████|   596/  596 [00:00<00:00]\n",
      "Pruning unnecessary FoldedProtein reactions...                             : 0.0%|          |     0/    0 [00:00<?]\n",
      "Pruning unnecessary ProcessedProtein reactions...                          : 100.0%|██████████|   473/  473 [00:00<00:00]\n",
      "Pruning unnecessary TranslatedGene reactions...                            : 100.0%|██████████|   471/  471 [00:00<00:00]\n",
      "Pruning unnecessary TranscribedGene reactions...                           : 100.0%|██████████|   498/  498 [00:00<00:00]\n",
      "Pruning unnecessary Transcriptional Units...                               : 100.0%|██████████|   495/  495 [00:00<00:00]\n",
      "Pruning unnecessary ComplexData reactions...                               : 100.0%|██████████|   251/  251 [00:00<00:00]\n",
      "Pruning unnecessary FoldedProtein reactions...                             : 0.0%|          |     0/    0 [00:00<?]\n",
      "Pruning unnecessary ProcessedProtein reactions...                          : 100.0%|██████████|   249/  249 [00:00<00:00]\n",
      "Pruning unnecessary TranslatedGene reactions...                            : 100.0%|██████████|   249/  249 [00:00<00:00]\n",
      "Pruning unnecessary TranscribedGene reactions...                           : 100.0%|██████████|   273/  273 [00:00<00:00]\n",
      "Pruning unnecessary Transcriptional Units...                               : 100.0%|██████████|   271/  271 [00:00<00:00]\n",
      "Pruning unnecessary ComplexData reactions...                               : 100.0%|██████████|   250/  250 [00:00<00:00]\n",
      "Pruning unnecessary FoldedProtein reactions...                             : 0.0%|          |     0/    0 [00:00<?]\n",
      "Pruning unnecessary ProcessedProtein reactions...                          : 100.0%|██████████|   249/  249 [00:00<00:00]\n",
      "Pruning unnecessary TranslatedGene reactions...                            : 100.0%|██████████|   249/  249 [00:00<00:00]\n",
      "Pruning unnecessary TranscribedGene reactions...                           : 100.0%|██████████|   273/  273 [00:00<00:00]\n",
      "Pruning unnecessary Transcriptional Units...                               : 100.0%|██████████|   271/  271 [00:00<00:00]"
     ]
    },
    {
     "name": "stdout",
     "output_type": "stream",
     "text": [
      "ME-model was saved in the /home/jt/work/coralme/coralme/tests/data/ directory as MEModel-step2-EXAMPLE-ME.pkl\n",
      "ME-model reconstruction is done.\n",
      "Number of metabolites in the ME-model is 1174 (+283.66%, from 306)\n",
      "Number of reactions in the ME-model is 1868 (+481.93%, from 321)\n",
      "Number of genes in the ME-model is 271 (+75.97%, from 154)\n",
      "Number of missing genes from reconstruction with homology, but no function is 9. Check the curation notes for more details.\n"
     ]
    },
    {
     "name": "stderr",
     "output_type": "stream",
     "text": [
      "\n"
     ]
    }
   ],
   "source": [
    "builder.build_me_model(overwrite=False)"
   ]
  },
  {
   "cell_type": "code",
   "execution_count": 9,
   "id": "df492e03-9e3e-4096-9bbb-39f55cd2d913",
   "metadata": {},
   "outputs": [],
   "source": [
    "model = builder.me_model"
   ]
  },
  {
   "cell_type": "code",
   "execution_count": 23,
   "id": "f1bacf84-c837-4999-980b-c0683979d75a",
   "metadata": {},
   "outputs": [],
   "source": [
    "import coralme"
   ]
  },
  {
   "cell_type": "code",
   "execution_count": 28,
   "id": "80d72afb-bc42-4c2d-a1f8-bd69070dc5f0",
   "metadata": {},
   "outputs": [
    {
     "ename": "AssertionError",
     "evalue": "Generification for ARTIFICIAL_RXN_0 and ARTIFICIAL_RXN_2 went wrong",
     "output_type": "error",
     "traceback": [
      "\u001b[0;31m---------------------------------------------------------------------------\u001b[0m",
      "\u001b[0;31mAssertionError\u001b[0m                            Traceback (most recent call last)",
      "Cell \u001b[0;32mIn[28], line 7\u001b[0m\n\u001b[1;32m      4\u001b[0m rxn2 \u001b[38;5;241m=\u001b[39m [r \u001b[38;5;28;01mfor\u001b[39;00m r \u001b[38;5;129;01min\u001b[39;00m model\u001b[38;5;241m.\u001b[39mreactions\u001b[38;5;241m.\u001b[39mquery(\u001b[38;5;124m\"\u001b[39m\u001b[38;5;124mARTIFICIAL_RXN_2\u001b[39m\u001b[38;5;124m\"\u001b[39m) \u001b[38;5;28;01mif\u001b[39;00m \u001b[38;5;28misinstance\u001b[39m(r,coralme\u001b[38;5;241m.\u001b[39mcore\u001b[38;5;241m.\u001b[39mreaction\u001b[38;5;241m.\u001b[39mMetabolicReaction)]\n\u001b[1;32m      6\u001b[0m \u001b[38;5;28;01massert\u001b[39;00m \u001b[38;5;28mlen\u001b[39m(rxn1) \u001b[38;5;241m==\u001b[39m \u001b[38;5;241m2\u001b[39m, \u001b[38;5;124m\"\u001b[39m\u001b[38;5;124mGenerification for ARTIFICIAL_RXN_1 went wrong\u001b[39m\u001b[38;5;124m\"\u001b[39m\n\u001b[0;32m----> 7\u001b[0m \u001b[38;5;28;01massert\u001b[39;00m \u001b[38;5;28mlen\u001b[39m(rxn0) \u001b[38;5;241m==\u001b[39m \u001b[38;5;28mlen\u001b[39m(rxn2) \u001b[38;5;241m==\u001b[39m \u001b[38;5;241m4\u001b[39m, \u001b[38;5;124m\"\u001b[39m\u001b[38;5;124mGenerification for ARTIFICIAL_RXN_0 and ARTIFICIAL_RXN_2 went wrong\u001b[39m\u001b[38;5;124m\"\u001b[39m\n",
      "\u001b[0;31mAssertionError\u001b[0m: Generification for ARTIFICIAL_RXN_0 and ARTIFICIAL_RXN_2 went wrong"
     ]
    }
   ],
   "source": [
    "model = builder.me_model\n",
    "rxn0 = [r for r in model.reactions.query(\"ARTIFICIAL_RXN_0\") if isinstance(r,coralme.core.reaction.MetabolicReaction)]\n",
    "rxn1 = [r for r in model.reactions.query(\"ARTIFICIAL_RXN_1\") if isinstance(r,coralme.core.reaction.MetabolicReaction)]\n",
    "rxn2 = [r for r in model.reactions.query(\"ARTIFICIAL_RXN_2\") if isinstance(r,coralme.core.reaction.MetabolicReaction)]\n",
    "\n",
    "assert len(rxn1) == 2, \"Generification for ARTIFICIAL_RXN_1 went wrong\"\n",
    "assert len(rxn0) == len(rxn2) == 4, \"Generification for ARTIFICIAL_RXN_0 and ARTIFICIAL_RXN_2 went wrong\""
   ]
  },
  {
   "cell_type": "code",
   "execution_count": 31,
   "id": "4f9f120a-011d-45ed-bf64-40eb73bb6c50",
   "metadata": {},
   "outputs": [],
   "source": [
    "enz_rxn_assoc = builder.org.enz_rxn_assoc_df\n",
    "assert \"ARTIFICIAL_RXN_0\" in enz_rxn_assoc.index\n",
    "assert \"ARTIFICIAL_COMPLEX_0\" in enz_rxn_assoc[\"Complexes\"][\"ARTIFICIAL_RXN_0\"]\n",
    "assert set(enz_rxn_assoc[\"Complexes\"][\"ARTIFICIAL_RXN_0\"].split(\" OR \")) == set(enz_rxn_assoc[\"Complexes\"][\"ARTIFICIAL_RXN_2\"].split(\" OR \"))"
   ]
  },
  {
   "cell_type": "code",
   "execution_count": 12,
   "id": "56bfcf0a-59ab-40c2-9614-bb3434ed1d91",
   "metadata": {},
   "outputs": [
    {
     "data": {
      "text/plain": [
       "[<ComplexFormation formation_CPLX_ARTIFICIAL_RXN_2-0 at 0x7100ffc1c280>,\n",
       " <MetabolicReaction ARTIFICIAL_RXN_2_REV_CPLX_ARTIFICIAL_RXN_2-0 at 0x7100ffb11a50>,\n",
       " <MetabolicReaction ARTIFICIAL_RXN_2_FWD_CPLX_ARTIFICIAL_RXN_2-0 at 0x7100ffb11ae0>]"
      ]
     },
     "execution_count": 12,
     "metadata": {},
     "output_type": "execute_result"
    }
   ],
   "source": [
    "model.reactions.query(\"ARTIFICIAL_RXN_2\")"
   ]
  },
  {
   "cell_type": "code",
   "execution_count": 14,
   "id": "52805bed-4e89-40aa-9a37-7aac7505a207",
   "metadata": {},
   "outputs": [
    {
     "data": {
      "text/plain": [
       "[<ComplexFormation formation_CPLX_ARTIFICIAL_RXN_1-0 at 0x7100ffc1c160>,\n",
       " <GenericFormationReaction ARTIFICIAL_GENE_0-MONOMER_to_generic_ARTIFICIAL_RXN_1_0 at 0x7100ffce7dc0>,\n",
       " <GenericFormationReaction ARTIFICIAL_GENE_0-MONOMER_to_generic_ARTIFICIAL_RXN_1_1 at 0x7100ffb100a0>,\n",
       " <GenericFormationReaction ARTIFICIAL_GENE_0-MONOMER_to_generic_ARTIFICIAL_RXN_1_2 at 0x7100ffb10190>,\n",
       " <GenericFormationReaction ARTIFICIAL_GENE_0-MONOMER_to_generic_ARTIFICIAL_RXN_1_3 at 0x7100ffb10280>,\n",
       " <GenericFormationReaction ARTIFICIAL_GENE_0-MONOMER_to_generic_ARTIFICIAL_RXN_1_4 at 0x7100ffb10370>,\n",
       " <GenericFormationReaction ARTIFICIAL_GENE_0-MONOMER_to_generic_ARTIFICIAL_RXN_1_5 at 0x7100ffb10460>,\n",
       " <GenericFormationReaction ARTIFICIAL_GENE_0-MONOMER_to_generic_ARTIFICIAL_RXN_1_6 at 0x7100ffb10550>,\n",
       " <MetabolicReaction ARTIFICIAL_RXN_1_REV_CPLX_ARTIFICIAL_RXN_1-0 at 0x7100ffb112d0>,\n",
       " <MetabolicReaction ARTIFICIAL_RXN_1_FWD_CPLX_ARTIFICIAL_RXN_1-0 at 0x7100ffb111e0>]"
      ]
     },
     "execution_count": 14,
     "metadata": {},
     "output_type": "execute_result"
    }
   ],
   "source": [
    "model.reactions.query(\"ARTIFICIAL_RXN_1\")"
   ]
  },
  {
   "cell_type": "code",
   "execution_count": 18,
   "id": "5161e4da-e9ee-4553-b5cb-60093fd7aa21",
   "metadata": {},
   "outputs": [
    {
     "data": {
      "text/plain": [
       "{<Complex CPLX_ARTIFICIAL_RXN_0-0 at 0x7100ffdc7fa0>: 1.0,\n",
       " <GenericComponent generic_ARTIFICIAL_RXN_1_0 at 0x7100ffdc7fd0>: -1.0,\n",
       " <GenericComponent generic_ARTIFICIAL_RXN_1_1 at 0x7100ffc1c040>: -1.0,\n",
       " <GenericComponent generic_ARTIFICIAL_RXN_1_2 at 0x7100ffc1c070>: -1.0,\n",
       " <GenericComponent generic_ARTIFICIAL_RXN_1_3 at 0x7100ffc1c0a0>: -1.0,\n",
       " <GenericComponent generic_ARTIFICIAL_RXN_1_4 at 0x7100ffc1c0d0>: -1.0,\n",
       " <GenericComponent generic_ARTIFICIAL_RXN_1_5 at 0x7100ffc1c100>: -1.0,\n",
       " <GenericComponent generic_ARTIFICIAL_RXN_1_6 at 0x7100ffc1c130>: -1.0}"
      ]
     },
     "execution_count": 18,
     "metadata": {},
     "output_type": "execute_result"
    }
   ],
   "source": [
    "model.reactions.query(\"formation_CPLX_ARTIFICIAL_RXN_0-0\")[0].metabolites"
   ]
  },
  {
   "cell_type": "code",
   "execution_count": 19,
   "id": "4491ac87-7476-4fc9-8f03-4873639701dc",
   "metadata": {},
   "outputs": [
    {
     "data": {
      "text/plain": [
       "{<Complex CPLX_ARTIFICIAL_RXN_2-0 at 0x7100ffc1c2b0>: 1.0,\n",
       " <GenericComponent generic_ARTIFICIAL_RXN_1_0 at 0x7100ffdc7fd0>: -1.0,\n",
       " <GenericComponent generic_ARTIFICIAL_RXN_1_1 at 0x7100ffc1c040>: -1.0,\n",
       " <GenericComponent generic_ARTIFICIAL_RXN_1_2 at 0x7100ffc1c070>: -1.0,\n",
       " <GenericComponent generic_ARTIFICIAL_RXN_1_3 at 0x7100ffc1c0a0>: -1.0,\n",
       " <GenericComponent generic_ARTIFICIAL_RXN_1_4 at 0x7100ffc1c0d0>: -1.0,\n",
       " <GenericComponent generic_ARTIFICIAL_RXN_1_5 at 0x7100ffc1c100>: -1.0,\n",
       " <GenericComponent generic_ARTIFICIAL_RXN_1_6 at 0x7100ffc1c130>: -1.0}"
      ]
     },
     "execution_count": 19,
     "metadata": {},
     "output_type": "execute_result"
    }
   ],
   "source": [
    "model.reactions.query(\"formation_CPLX_ARTIFICIAL_RXN_2-0\")[0].metabolites"
   ]
  },
  {
   "cell_type": "code",
   "execution_count": 21,
   "id": "78795bc5-9333-4f13-8a35-f1cde2985a54",
   "metadata": {},
   "outputs": [
    {
     "data": {
      "text/plain": [
       "{<Complex CPLX_ARTIFICIAL_RXN_1-0 at 0x7100ffc1c1f0>: 1.0,\n",
       " <GenericComponent generic_ARTIFICIAL_RXN_1_0 at 0x7100ffdc7fd0>: -1.0,\n",
       " <GenericComponent generic_ARTIFICIAL_RXN_1_1 at 0x7100ffc1c040>: -1.0,\n",
       " <GenericComponent generic_ARTIFICIAL_RXN_1_2 at 0x7100ffc1c070>: -1.0,\n",
       " <GenericComponent generic_ARTIFICIAL_RXN_1_3 at 0x7100ffc1c0a0>: -1.0,\n",
       " <GenericComponent generic_ARTIFICIAL_RXN_1_4 at 0x7100ffc1c0d0>: -1.0,\n",
       " <GenericComponent generic_ARTIFICIAL_RXN_1_5 at 0x7100ffc1c100>: -1.0,\n",
       " <GenericComponent generic_ARTIFICIAL_RXN_1_6 at 0x7100ffc1c130>: -1.0}"
      ]
     },
     "execution_count": 21,
     "metadata": {},
     "output_type": "execute_result"
    }
   ],
   "source": [
    "model.reactions.query(\"formation_CPLX_ARTIFICIAL_RXN_1-0\")[0].metabolites"
   ]
  },
  {
   "cell_type": "code",
   "execution_count": null,
   "id": "d929da0b-2496-459e-a7e6-293c8789dd1d",
   "metadata": {},
   "outputs": [],
   "source": []
  },
  {
   "cell_type": "code",
   "execution_count": null,
   "id": "a718f7ca-d74b-4fde-b131-a3df8989d64c",
   "metadata": {},
   "outputs": [],
   "source": []
  },
  {
   "cell_type": "code",
   "execution_count": 14,
   "id": "014d0010-b13d-49f0-827b-5e8001c94e34",
   "metadata": {
    "scrolled": true
   },
   "outputs": [
    {
     "name": "stdout",
     "output_type": "stream",
     "text": [
      "The MINOS and quad MINOS solvers are a courtesy of Prof Michael A. Saunders. Please cite Ma, D., Yang, L., Fleming, R. et al. Reliable and efficient solution of genome-scale models of Metabolism and macromolecular Expression. Sci Rep 7, 40863 (2017). https://doi.org/10.1038/srep40863\n",
      "\n",
      "~ Troubleshooting started...\n",
      "  Checking if the ME-model can simulate growth without gapfilling reactions...\n",
      "  Original ME-model is not feasible with a tested growth rate of 0.001000 1/h\n",
      "  Step 1. Gapfill reactions to provide components of type 'ME-Deadends' using brute force.\n",
      "          Finding gaps in the ME-model...\n",
      "          Finding gaps from the M-model only...\n",
      "          12 metabolites were identified as deadends.\n",
      "            DNA_c: DNA\n",
      "            ca2_c: Calcium\n",
      "            clpn_c: cardiolipin\n",
      "            dUTPase_c: dUTPase\n",
      "            fad_c: FAD\n",
      "            galfur12dgr_c: Gal-DAG\n",
      "            k_c: Potassium\n",
      "            lgltn_c: lipogalactan\n",
      "            pydx5p_c: pyridoxal phosphate\n",
      "            sprm_c: spermine\n",
      "            thmpp_c: thiamin diphosphate\n",
      "            zn2_c: Missing metabolite in the M-model.\n",
      "          Adding sink reactions for 12 metabolites...\n",
      "          Provided metabolites through sink reactions cannot recover growth. Proceeding to next set of metabolites.\n",
      "  Step 2. Gapfill reactions to provide components of type 'Cofactors' using brute force.\n",
      "          Adding sink reactions for 13 metabolites...\n",
      "          Provided metabolites through sink reactions cannot recover growth. Proceeding to next set of metabolites.\n",
      "  Step 3. Gapfill reactions to provide components of type 'All-Deadends' using brute force.\n",
      "          Finding gaps in the ME-model...\n",
      "          24 metabolites were identified as deadends.\n",
      "            PdhC_c: PdhC\n",
      "            ahcys_c: S-Adenosyl-L-homocysteine\n",
      "            ala4_c: Tetra-L-alanine\n",
      "            amet_c: S-Adenosyl-L-methionine\n",
      "            arg4_c: Tetra-L-arginine\n",
      "            asn4_c: Tetra-L-asparagine\n",
      "            asp4_c: Tetra-L-aspartate\n",
      "            cytd_c: Cytidine\n",
      "            gln4_c: Tetra-L-glutamine\n",
      "            glu4_c: Tetra-L-glutamate\n",
      "            gly4_c: Tetra-glycine\n",
      "            his4_c: Tetra-L-histidine\n",
      "            ile4_c: Tetra-L-isoleucine\n",
      "            leu4_c: Tetra-L-leucine\n",
      "            lys4_c: Tetra-L-lysine\n",
      "            met4_c: Tetra-L-methionine\n",
      "            phe4_c: Tetra-L-phenylalanine\n",
      "            pro4_c: Tetra-L-proline\n",
      "            ser4_c: Tetra-L-serine\n",
      "            thr4_c: Tetra-L-threonine\n",
      "            trp4_c: Tetra-L-tryptophan\n",
      "            tyr4_c: Tetra-L-tyrosine\n",
      "            uri_c: Uridine\n",
      "            val4_c: Tetra-L-valine\n",
      "          Adding sink reactions for 37 metabolites...\n",
      "          Provided metabolites through sink reactions cannot recover growth. Proceeding to next set of metabolites.\n",
      "  Step 4. Gapfill reactions to provide components of type 'Metabolite' using brute force.\n",
      "          Adding sink reactions for 96 metabolites...\n",
      "            Sink reactions shortlisted to 66 metabolites.\n",
      "             Processed:  1/66, Gaps: 1. The ME-model is not feasible if TS_protein_c is closed.\n",
      "             Processed:  2/66, Gaps: 1. The ME-model is feasible if TS_cdpdag_c is closed.\n",
      "             Processed:  3/66, Gaps: 1. The ME-model is feasible if TS_pa_c is closed.\n",
      "             Processed:  4/66, Gaps: 2. The ME-model is not feasible if TS_biomass_c is closed.\n",
      "             Processed:  5/66, Gaps: 2. The ME-model is feasible if TS_methfglu3_c is closed.\n",
      "             Processed:  6/66, Gaps: 2. The ME-model is feasible if TS_12dgr_c is closed.\n",
      "             Processed:  7/66, Gaps: 2. The ME-model is feasible if TS_trdrd_c is closed.\n",
      "             Processed:  8/66, Gaps: 2. The ME-model is feasible if TS_acmanap_c is closed.\n",
      "             Processed:  9/66, Gaps: 2. The ME-model is feasible if TS_3pg_c is closed.\n",
      "             Processed: 10/66, Gaps: 2. The ME-model is feasible if TS_pg3p_c is closed.\n",
      "             Processed: 11/66, Gaps: 2. The ME-model is feasible if TS_2pg_c is closed.\n",
      "             Processed: 12/66, Gaps: 2. The ME-model is feasible if TS_glutrnagln_c is closed.\n",
      "             Processed: 13/66, Gaps: 2. The ME-model is feasible if TS_xu5p__D_c is closed.\n",
      "             Processed: 14/66, Gaps: 2. The ME-model is feasible if TS_acdhlpl_PdhC_c is closed.\n",
      "             Processed: 15/66, Gaps: 2. The ME-model is feasible if TS_acmana_c is closed.\n",
      "             Processed: 16/66, Gaps: 2. The ME-model is feasible if TS_mlthfglu3_c is closed.\n",
      "             Processed: 17/66, Gaps: 2. The ME-model is feasible if TS_ap_c is closed.\n",
      "             Processed: 18/66, Gaps: 2. The ME-model is feasible if TS_trdox_c is closed.\n",
      "             Processed: 19/66, Gaps: 2. The ME-model is feasible if TS_ACP_R_c is closed.\n",
      "             Processed: 20/66, Gaps: 2. The ME-model is feasible if TS_10fthfglu3_c is closed.\n",
      "             Processed: 21/66, Gaps: 2. The ME-model is feasible if TS_lpl_PdhC_c is closed.\n",
      "             Processed: 22/66, Gaps: 2. The ME-model is feasible if TS_acald_c is closed.\n",
      "             Processed: 23/66, Gaps: 2. The ME-model is feasible if TS_13dpg_c is closed.\n",
      "             Processed: 24/66, Gaps: 2. The ME-model is feasible if TS_udpgltn_c is closed.\n",
      "             Processed: 25/66, Gaps: 2. The ME-model is feasible if TS_prpp_c is closed.\n",
      "             Processed: 26/66, Gaps: 2. The ME-model is feasible if TS_g1p_c is closed.\n",
      "             Processed: 27/66, Gaps: 2. The ME-model is feasible if TS_dnad_c is closed.\n",
      "             Processed: 28/66, Gaps: 2. The ME-model is feasible if TS_udpgalfur_c is closed.\n",
      "             Processed: 29/66, Gaps: 2. The ME-model is feasible if TS_ru5p__D_c is closed.\n",
      "             Processed: 30/66, Gaps: 2. The ME-model is feasible if TS_g3p_c is closed.\n",
      "             Processed: 31/66, Gaps: 2. The ME-model is feasible if TS_fdp_c is closed.\n",
      "             Processed: 32/66, Gaps: 2. The ME-model is feasible if TS_udpg_c is closed.\n",
      "             Processed: 33/66, Gaps: 2. The ME-model is feasible if TS_accoa_c is closed.\n",
      "             Processed: 34/66, Gaps: 2. The ME-model is feasible if TS_dhap_c is closed.\n",
      "             Processed: 35/66, Gaps: 2. The ME-model is feasible if TS_pap_c is closed.\n",
      "             Processed: 36/66, Gaps: 3. The ME-model is not feasible if TS_pg_c is closed.\n",
      "             Processed: 37/66, Gaps: 3. The ME-model is feasible if TS_r1p_c is closed.\n",
      "             Processed: 38/66, Gaps: 3. The ME-model is feasible if TS_lac__L_c is closed.\n",
      "             Processed: 39/66, Gaps: 3. The ME-model is feasible if TS_f6p_c is closed.\n",
      "             Processed: 40/66, Gaps: 3. The ME-model is feasible if TS_udpgal_c is closed.\n",
      "             Processed: 41/66, Gaps: 3. The ME-model is feasible if TS_dhlpl_PdhC_c is closed.\n",
      "             Processed: 42/66, Gaps: 3. The ME-model is feasible if TS_r5p_c is closed.\n",
      "             Processed: 43/66, Gaps: 3. The ME-model is feasible if TS_2dr5p_c is closed.\n",
      "             Processed: 44/66, Gaps: 4. The ME-model is not feasible if TS_apoACP_c is closed.\n",
      "             Processed: 45/66, Gaps: 4. The ME-model is feasible if TS_pep_c is closed.\n",
      "             Processed: 46/66, Gaps: 4. The ME-model is feasible if TS_pyr_c is closed.\n",
      "             Processed: 47/66, Gaps: 5. The ME-model is not feasible if TS_acgam6p_c is closed.\n",
      "             Processed: 48/66, Gaps: 5. The ME-model is feasible if TS_5fthfglu3_c is closed.\n",
      "             Processed: 49/66, Gaps: 5. The ME-model is feasible if TS_s7p_c is closed.\n",
      "             Processed: 50/66, Gaps: 6. The ME-model is not feasible if TS_actp_c is closed.\n",
      "             Processed: 51/66, Gaps: 6. The ME-model is feasible if TS_PdhC_c is closed.\n",
      "             Processed: 52/66, Gaps: 6. The ME-model is feasible if TS_ahcys_c is closed.\n",
      "             Processed: 53/66, Gaps: 6. The ME-model is feasible if TS_amet_c is closed.\n",
      "             Processed: 54/66, Gaps: 6. The ME-model is feasible if TS_mg2_c is closed.\n",
      "             Processed: 55/66, Gaps: 6. The ME-model is feasible if TS_ca2_c is closed.\n",
      "             Processed: 56/66, Gaps: 7. The ME-model is not feasible if TS_dUTPase_c is closed.\n",
      "             Processed: 57/66, Gaps: 7. The ME-model is feasible if TS_lgltn_c is closed.\n",
      "             Processed: 58/66, Gaps: 7. The ME-model is feasible if TS_pydx5p_c is closed.\n",
      "             Processed: 59/66, Gaps: 7. The ME-model is feasible if TS_clpn_c is closed.\n",
      "             Processed: 60/66, Gaps: 7. The ME-model is feasible if TS_galfur12dgr_c is closed.\n",
      "             Processed: 61/66, Gaps: 8. The ME-model is not feasible if TS_zn2_c is closed.\n",
      "             Processed: 62/66, Gaps: 8. The ME-model is feasible if TS_thmpp_c is closed.\n",
      "             Processed: 63/66, Gaps: 8. The ME-model is feasible if TS_fad_c is closed.\n",
      "             Processed: 64/66, Gaps: 8. The ME-model is feasible if TS_sprm_c is closed.\n",
      "             Processed: 65/66, Gaps: 8. The ME-model is feasible if TS_k_c is closed.\n",
      "             Processed: 66/66, Gaps: 8. The ME-model is feasible if TS_DNA_c is closed.\n",
      "~ Troubleshooter added the following sinks: TS_dUTPase_c, TS_zn2_c, TS_protein_c, TS_biomass_c, TS_pg_c, TS_apoACP_c, TS_acgam6p_c, TS_actp_c.\n",
      "~ Final step. Fully optimizing with precision 1e-6 and save solution into the ME-model...\n",
      "  Gapfilled ME-model is feasible with growth rate 0.671052 (M-model: 0.369622).\n",
      "ME-model was saved in the /home/jt/work/coralme/coralme/tests/data/ directory as MEModel-step3-EXAMPLE-ME-TS.pkl\n"
     ]
    }
   ],
   "source": [
    "builder.troubleshoot(growth_key_and_value = { builder.me_model.mu : 0.001 },guesses=[\"mn2_c\", \"fe2_c\", \"zn2_c\", \"dUTPase_c\", \"pi_c\", \"protein_c\", \"2pg_c\", \"ACP_R_c\", \"biomass_c\", \"pg3p_c\"])"
   ]
  }
 ],
 "metadata": {
  "kernelspec": {
   "display_name": "coralme-dev",
   "language": "python",
   "name": "coralme-dev"
  },
  "language_info": {
   "codemirror_mode": {
    "name": "ipython",
    "version": 3
   },
   "file_extension": ".py",
   "mimetype": "text/x-python",
   "name": "python",
   "nbconvert_exporter": "python",
   "pygments_lexer": "ipython3",
   "version": "3.10.12"
  }
 },
 "nbformat": 4,
 "nbformat_minor": 5
}
